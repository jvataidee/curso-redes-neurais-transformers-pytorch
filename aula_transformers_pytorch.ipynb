{
  "nbformat": 4,
  "nbformat_minor": 0,
  "metadata": {
    "colab": {
      "provenance": [],
      "collapsed_sections": [
        "2TSuLsSAUlyM",
        "ewMh5wUSU3QN",
        "4oc_BL7pU7A3",
        "_5l3tKZZQfbj",
        "RYwNCc02H_gV",
        "pRqgr-ab-6CM",
        "HMPwRxrQ-5_T"
      ]
    },
    "kernelspec": {
      "name": "python3",
      "display_name": "Python 3"
    },
    "language_info": {
      "name": "python"
    },
    "widgets": {
      "application/vnd.jupyter.widget-state+json": {
        "9c32e275c644407b8526b693db9917a5": {
          "model_module": "@jupyter-widgets/controls",
          "model_name": "HBoxModel",
          "model_module_version": "1.5.0",
          "state": {
            "_dom_classes": [],
            "_model_module": "@jupyter-widgets/controls",
            "_model_module_version": "1.5.0",
            "_model_name": "HBoxModel",
            "_view_count": null,
            "_view_module": "@jupyter-widgets/controls",
            "_view_module_version": "1.5.0",
            "_view_name": "HBoxView",
            "box_style": "",
            "children": [
              "IPY_MODEL_e2de4fdcb6754d219faef70202ee9b39",
              "IPY_MODEL_6b47aac3b3394ba6a7cc51c408605777",
              "IPY_MODEL_f2f44f94485644219fa5d6df9ced9faf"
            ],
            "layout": "IPY_MODEL_2d0ce24afed44f2280198aff14c405f5"
          }
        },
        "e2de4fdcb6754d219faef70202ee9b39": {
          "model_module": "@jupyter-widgets/controls",
          "model_name": "HTMLModel",
          "model_module_version": "1.5.0",
          "state": {
            "_dom_classes": [],
            "_model_module": "@jupyter-widgets/controls",
            "_model_module_version": "1.5.0",
            "_model_name": "HTMLModel",
            "_view_count": null,
            "_view_module": "@jupyter-widgets/controls",
            "_view_module_version": "1.5.0",
            "_view_name": "HTMLView",
            "description": "",
            "description_tooltip": null,
            "layout": "IPY_MODEL_f1a8540ef96a479c918c4f1d2b69317a",
            "placeholder": "​",
            "style": "IPY_MODEL_353d695c7721402ebf4cec9433e80ac3",
            "value": "tokenizer_config.json: 100%"
          }
        },
        "6b47aac3b3394ba6a7cc51c408605777": {
          "model_module": "@jupyter-widgets/controls",
          "model_name": "FloatProgressModel",
          "model_module_version": "1.5.0",
          "state": {
            "_dom_classes": [],
            "_model_module": "@jupyter-widgets/controls",
            "_model_module_version": "1.5.0",
            "_model_name": "FloatProgressModel",
            "_view_count": null,
            "_view_module": "@jupyter-widgets/controls",
            "_view_module_version": "1.5.0",
            "_view_name": "ProgressView",
            "bar_style": "success",
            "description": "",
            "description_tooltip": null,
            "layout": "IPY_MODEL_402c0a0b5a644042ad0922b5ef29a2d7",
            "max": 155,
            "min": 0,
            "orientation": "horizontal",
            "style": "IPY_MODEL_b1c5c005d94847a09abb7150d6e32be3",
            "value": 155
          }
        },
        "f2f44f94485644219fa5d6df9ced9faf": {
          "model_module": "@jupyter-widgets/controls",
          "model_name": "HTMLModel",
          "model_module_version": "1.5.0",
          "state": {
            "_dom_classes": [],
            "_model_module": "@jupyter-widgets/controls",
            "_model_module_version": "1.5.0",
            "_model_name": "HTMLModel",
            "_view_count": null,
            "_view_module": "@jupyter-widgets/controls",
            "_view_module_version": "1.5.0",
            "_view_name": "HTMLView",
            "description": "",
            "description_tooltip": null,
            "layout": "IPY_MODEL_53ac5bda8d0c4ca198e8df3349ef7421",
            "placeholder": "​",
            "style": "IPY_MODEL_e6fd2a50d12e4224afee437895c020f3",
            "value": " 155/155 [00:00&lt;00:00, 20.5kB/s]"
          }
        },
        "2d0ce24afed44f2280198aff14c405f5": {
          "model_module": "@jupyter-widgets/base",
          "model_name": "LayoutModel",
          "model_module_version": "1.2.0",
          "state": {
            "_model_module": "@jupyter-widgets/base",
            "_model_module_version": "1.2.0",
            "_model_name": "LayoutModel",
            "_view_count": null,
            "_view_module": "@jupyter-widgets/base",
            "_view_module_version": "1.2.0",
            "_view_name": "LayoutView",
            "align_content": null,
            "align_items": null,
            "align_self": null,
            "border": null,
            "bottom": null,
            "display": null,
            "flex": null,
            "flex_flow": null,
            "grid_area": null,
            "grid_auto_columns": null,
            "grid_auto_flow": null,
            "grid_auto_rows": null,
            "grid_column": null,
            "grid_gap": null,
            "grid_row": null,
            "grid_template_areas": null,
            "grid_template_columns": null,
            "grid_template_rows": null,
            "height": null,
            "justify_content": null,
            "justify_items": null,
            "left": null,
            "margin": null,
            "max_height": null,
            "max_width": null,
            "min_height": null,
            "min_width": null,
            "object_fit": null,
            "object_position": null,
            "order": null,
            "overflow": null,
            "overflow_x": null,
            "overflow_y": null,
            "padding": null,
            "right": null,
            "top": null,
            "visibility": null,
            "width": null
          }
        },
        "f1a8540ef96a479c918c4f1d2b69317a": {
          "model_module": "@jupyter-widgets/base",
          "model_name": "LayoutModel",
          "model_module_version": "1.2.0",
          "state": {
            "_model_module": "@jupyter-widgets/base",
            "_model_module_version": "1.2.0",
            "_model_name": "LayoutModel",
            "_view_count": null,
            "_view_module": "@jupyter-widgets/base",
            "_view_module_version": "1.2.0",
            "_view_name": "LayoutView",
            "align_content": null,
            "align_items": null,
            "align_self": null,
            "border": null,
            "bottom": null,
            "display": null,
            "flex": null,
            "flex_flow": null,
            "grid_area": null,
            "grid_auto_columns": null,
            "grid_auto_flow": null,
            "grid_auto_rows": null,
            "grid_column": null,
            "grid_gap": null,
            "grid_row": null,
            "grid_template_areas": null,
            "grid_template_columns": null,
            "grid_template_rows": null,
            "height": null,
            "justify_content": null,
            "justify_items": null,
            "left": null,
            "margin": null,
            "max_height": null,
            "max_width": null,
            "min_height": null,
            "min_width": null,
            "object_fit": null,
            "object_position": null,
            "order": null,
            "overflow": null,
            "overflow_x": null,
            "overflow_y": null,
            "padding": null,
            "right": null,
            "top": null,
            "visibility": null,
            "width": null
          }
        },
        "353d695c7721402ebf4cec9433e80ac3": {
          "model_module": "@jupyter-widgets/controls",
          "model_name": "DescriptionStyleModel",
          "model_module_version": "1.5.0",
          "state": {
            "_model_module": "@jupyter-widgets/controls",
            "_model_module_version": "1.5.0",
            "_model_name": "DescriptionStyleModel",
            "_view_count": null,
            "_view_module": "@jupyter-widgets/base",
            "_view_module_version": "1.2.0",
            "_view_name": "StyleView",
            "description_width": ""
          }
        },
        "402c0a0b5a644042ad0922b5ef29a2d7": {
          "model_module": "@jupyter-widgets/base",
          "model_name": "LayoutModel",
          "model_module_version": "1.2.0",
          "state": {
            "_model_module": "@jupyter-widgets/base",
            "_model_module_version": "1.2.0",
            "_model_name": "LayoutModel",
            "_view_count": null,
            "_view_module": "@jupyter-widgets/base",
            "_view_module_version": "1.2.0",
            "_view_name": "LayoutView",
            "align_content": null,
            "align_items": null,
            "align_self": null,
            "border": null,
            "bottom": null,
            "display": null,
            "flex": null,
            "flex_flow": null,
            "grid_area": null,
            "grid_auto_columns": null,
            "grid_auto_flow": null,
            "grid_auto_rows": null,
            "grid_column": null,
            "grid_gap": null,
            "grid_row": null,
            "grid_template_areas": null,
            "grid_template_columns": null,
            "grid_template_rows": null,
            "height": null,
            "justify_content": null,
            "justify_items": null,
            "left": null,
            "margin": null,
            "max_height": null,
            "max_width": null,
            "min_height": null,
            "min_width": null,
            "object_fit": null,
            "object_position": null,
            "order": null,
            "overflow": null,
            "overflow_x": null,
            "overflow_y": null,
            "padding": null,
            "right": null,
            "top": null,
            "visibility": null,
            "width": null
          }
        },
        "b1c5c005d94847a09abb7150d6e32be3": {
          "model_module": "@jupyter-widgets/controls",
          "model_name": "ProgressStyleModel",
          "model_module_version": "1.5.0",
          "state": {
            "_model_module": "@jupyter-widgets/controls",
            "_model_module_version": "1.5.0",
            "_model_name": "ProgressStyleModel",
            "_view_count": null,
            "_view_module": "@jupyter-widgets/base",
            "_view_module_version": "1.2.0",
            "_view_name": "StyleView",
            "bar_color": null,
            "description_width": ""
          }
        },
        "53ac5bda8d0c4ca198e8df3349ef7421": {
          "model_module": "@jupyter-widgets/base",
          "model_name": "LayoutModel",
          "model_module_version": "1.2.0",
          "state": {
            "_model_module": "@jupyter-widgets/base",
            "_model_module_version": "1.2.0",
            "_model_name": "LayoutModel",
            "_view_count": null,
            "_view_module": "@jupyter-widgets/base",
            "_view_module_version": "1.2.0",
            "_view_name": "LayoutView",
            "align_content": null,
            "align_items": null,
            "align_self": null,
            "border": null,
            "bottom": null,
            "display": null,
            "flex": null,
            "flex_flow": null,
            "grid_area": null,
            "grid_auto_columns": null,
            "grid_auto_flow": null,
            "grid_auto_rows": null,
            "grid_column": null,
            "grid_gap": null,
            "grid_row": null,
            "grid_template_areas": null,
            "grid_template_columns": null,
            "grid_template_rows": null,
            "height": null,
            "justify_content": null,
            "justify_items": null,
            "left": null,
            "margin": null,
            "max_height": null,
            "max_width": null,
            "min_height": null,
            "min_width": null,
            "object_fit": null,
            "object_position": null,
            "order": null,
            "overflow": null,
            "overflow_x": null,
            "overflow_y": null,
            "padding": null,
            "right": null,
            "top": null,
            "visibility": null,
            "width": null
          }
        },
        "e6fd2a50d12e4224afee437895c020f3": {
          "model_module": "@jupyter-widgets/controls",
          "model_name": "DescriptionStyleModel",
          "model_module_version": "1.5.0",
          "state": {
            "_model_module": "@jupyter-widgets/controls",
            "_model_module_version": "1.5.0",
            "_model_name": "DescriptionStyleModel",
            "_view_count": null,
            "_view_module": "@jupyter-widgets/base",
            "_view_module_version": "1.2.0",
            "_view_name": "StyleView",
            "description_width": ""
          }
        },
        "e984572aa9084407b3999fecb0375390": {
          "model_module": "@jupyter-widgets/controls",
          "model_name": "HBoxModel",
          "model_module_version": "1.5.0",
          "state": {
            "_dom_classes": [],
            "_model_module": "@jupyter-widgets/controls",
            "_model_module_version": "1.5.0",
            "_model_name": "HBoxModel",
            "_view_count": null,
            "_view_module": "@jupyter-widgets/controls",
            "_view_module_version": "1.5.0",
            "_view_name": "HBoxView",
            "box_style": "",
            "children": [
              "IPY_MODEL_422c1e57db344c28b92507189d67ecf0",
              "IPY_MODEL_34f6601a9c6042279c3b6b43941e16d7",
              "IPY_MODEL_e5f48085bc514a4ba529ee18d8983f46"
            ],
            "layout": "IPY_MODEL_fdf137e9ed1c4b18975bd8beeea096ec"
          }
        },
        "422c1e57db344c28b92507189d67ecf0": {
          "model_module": "@jupyter-widgets/controls",
          "model_name": "HTMLModel",
          "model_module_version": "1.5.0",
          "state": {
            "_dom_classes": [],
            "_model_module": "@jupyter-widgets/controls",
            "_model_module_version": "1.5.0",
            "_model_name": "HTMLModel",
            "_view_count": null,
            "_view_module": "@jupyter-widgets/controls",
            "_view_module_version": "1.5.0",
            "_view_name": "HTMLView",
            "description": "",
            "description_tooltip": null,
            "layout": "IPY_MODEL_c8c18ba166c64385ac3c861ef52106e9",
            "placeholder": "​",
            "style": "IPY_MODEL_cfbe8c8bb0f34177b0838a15f4405c1a",
            "value": "config.json: 100%"
          }
        },
        "34f6601a9c6042279c3b6b43941e16d7": {
          "model_module": "@jupyter-widgets/controls",
          "model_name": "FloatProgressModel",
          "model_module_version": "1.5.0",
          "state": {
            "_dom_classes": [],
            "_model_module": "@jupyter-widgets/controls",
            "_model_module_version": "1.5.0",
            "_model_name": "FloatProgressModel",
            "_view_count": null,
            "_view_module": "@jupyter-widgets/controls",
            "_view_module_version": "1.5.0",
            "_view_name": "ProgressView",
            "bar_style": "success",
            "description": "",
            "description_tooltip": null,
            "layout": "IPY_MODEL_a2dcee9bb40f48fbbcd1c222f34a1a29",
            "max": 648,
            "min": 0,
            "orientation": "horizontal",
            "style": "IPY_MODEL_267ede1959ab4faa87c4313f5f630829",
            "value": 648
          }
        },
        "e5f48085bc514a4ba529ee18d8983f46": {
          "model_module": "@jupyter-widgets/controls",
          "model_name": "HTMLModel",
          "model_module_version": "1.5.0",
          "state": {
            "_dom_classes": [],
            "_model_module": "@jupyter-widgets/controls",
            "_model_module_version": "1.5.0",
            "_model_name": "HTMLModel",
            "_view_count": null,
            "_view_module": "@jupyter-widgets/controls",
            "_view_module_version": "1.5.0",
            "_view_name": "HTMLView",
            "description": "",
            "description_tooltip": null,
            "layout": "IPY_MODEL_2e4182e5a34d4afe881e4095ea4f0f6f",
            "placeholder": "​",
            "style": "IPY_MODEL_e4dee83b245246ad9a78c5fa433fcbdf",
            "value": " 648/648 [00:00&lt;00:00, 89.8kB/s]"
          }
        },
        "fdf137e9ed1c4b18975bd8beeea096ec": {
          "model_module": "@jupyter-widgets/base",
          "model_name": "LayoutModel",
          "model_module_version": "1.2.0",
          "state": {
            "_model_module": "@jupyter-widgets/base",
            "_model_module_version": "1.2.0",
            "_model_name": "LayoutModel",
            "_view_count": null,
            "_view_module": "@jupyter-widgets/base",
            "_view_module_version": "1.2.0",
            "_view_name": "LayoutView",
            "align_content": null,
            "align_items": null,
            "align_self": null,
            "border": null,
            "bottom": null,
            "display": null,
            "flex": null,
            "flex_flow": null,
            "grid_area": null,
            "grid_auto_columns": null,
            "grid_auto_flow": null,
            "grid_auto_rows": null,
            "grid_column": null,
            "grid_gap": null,
            "grid_row": null,
            "grid_template_areas": null,
            "grid_template_columns": null,
            "grid_template_rows": null,
            "height": null,
            "justify_content": null,
            "justify_items": null,
            "left": null,
            "margin": null,
            "max_height": null,
            "max_width": null,
            "min_height": null,
            "min_width": null,
            "object_fit": null,
            "object_position": null,
            "order": null,
            "overflow": null,
            "overflow_x": null,
            "overflow_y": null,
            "padding": null,
            "right": null,
            "top": null,
            "visibility": null,
            "width": null
          }
        },
        "c8c18ba166c64385ac3c861ef52106e9": {
          "model_module": "@jupyter-widgets/base",
          "model_name": "LayoutModel",
          "model_module_version": "1.2.0",
          "state": {
            "_model_module": "@jupyter-widgets/base",
            "_model_module_version": "1.2.0",
            "_model_name": "LayoutModel",
            "_view_count": null,
            "_view_module": "@jupyter-widgets/base",
            "_view_module_version": "1.2.0",
            "_view_name": "LayoutView",
            "align_content": null,
            "align_items": null,
            "align_self": null,
            "border": null,
            "bottom": null,
            "display": null,
            "flex": null,
            "flex_flow": null,
            "grid_area": null,
            "grid_auto_columns": null,
            "grid_auto_flow": null,
            "grid_auto_rows": null,
            "grid_column": null,
            "grid_gap": null,
            "grid_row": null,
            "grid_template_areas": null,
            "grid_template_columns": null,
            "grid_template_rows": null,
            "height": null,
            "justify_content": null,
            "justify_items": null,
            "left": null,
            "margin": null,
            "max_height": null,
            "max_width": null,
            "min_height": null,
            "min_width": null,
            "object_fit": null,
            "object_position": null,
            "order": null,
            "overflow": null,
            "overflow_x": null,
            "overflow_y": null,
            "padding": null,
            "right": null,
            "top": null,
            "visibility": null,
            "width": null
          }
        },
        "cfbe8c8bb0f34177b0838a15f4405c1a": {
          "model_module": "@jupyter-widgets/controls",
          "model_name": "DescriptionStyleModel",
          "model_module_version": "1.5.0",
          "state": {
            "_model_module": "@jupyter-widgets/controls",
            "_model_module_version": "1.5.0",
            "_model_name": "DescriptionStyleModel",
            "_view_count": null,
            "_view_module": "@jupyter-widgets/base",
            "_view_module_version": "1.2.0",
            "_view_name": "StyleView",
            "description_width": ""
          }
        },
        "a2dcee9bb40f48fbbcd1c222f34a1a29": {
          "model_module": "@jupyter-widgets/base",
          "model_name": "LayoutModel",
          "model_module_version": "1.2.0",
          "state": {
            "_model_module": "@jupyter-widgets/base",
            "_model_module_version": "1.2.0",
            "_model_name": "LayoutModel",
            "_view_count": null,
            "_view_module": "@jupyter-widgets/base",
            "_view_module_version": "1.2.0",
            "_view_name": "LayoutView",
            "align_content": null,
            "align_items": null,
            "align_self": null,
            "border": null,
            "bottom": null,
            "display": null,
            "flex": null,
            "flex_flow": null,
            "grid_area": null,
            "grid_auto_columns": null,
            "grid_auto_flow": null,
            "grid_auto_rows": null,
            "grid_column": null,
            "grid_gap": null,
            "grid_row": null,
            "grid_template_areas": null,
            "grid_template_columns": null,
            "grid_template_rows": null,
            "height": null,
            "justify_content": null,
            "justify_items": null,
            "left": null,
            "margin": null,
            "max_height": null,
            "max_width": null,
            "min_height": null,
            "min_width": null,
            "object_fit": null,
            "object_position": null,
            "order": null,
            "overflow": null,
            "overflow_x": null,
            "overflow_y": null,
            "padding": null,
            "right": null,
            "top": null,
            "visibility": null,
            "width": null
          }
        },
        "267ede1959ab4faa87c4313f5f630829": {
          "model_module": "@jupyter-widgets/controls",
          "model_name": "ProgressStyleModel",
          "model_module_version": "1.5.0",
          "state": {
            "_model_module": "@jupyter-widgets/controls",
            "_model_module_version": "1.5.0",
            "_model_name": "ProgressStyleModel",
            "_view_count": null,
            "_view_module": "@jupyter-widgets/base",
            "_view_module_version": "1.2.0",
            "_view_name": "StyleView",
            "bar_color": null,
            "description_width": ""
          }
        },
        "2e4182e5a34d4afe881e4095ea4f0f6f": {
          "model_module": "@jupyter-widgets/base",
          "model_name": "LayoutModel",
          "model_module_version": "1.2.0",
          "state": {
            "_model_module": "@jupyter-widgets/base",
            "_model_module_version": "1.2.0",
            "_model_name": "LayoutModel",
            "_view_count": null,
            "_view_module": "@jupyter-widgets/base",
            "_view_module_version": "1.2.0",
            "_view_name": "LayoutView",
            "align_content": null,
            "align_items": null,
            "align_self": null,
            "border": null,
            "bottom": null,
            "display": null,
            "flex": null,
            "flex_flow": null,
            "grid_area": null,
            "grid_auto_columns": null,
            "grid_auto_flow": null,
            "grid_auto_rows": null,
            "grid_column": null,
            "grid_gap": null,
            "grid_row": null,
            "grid_template_areas": null,
            "grid_template_columns": null,
            "grid_template_rows": null,
            "height": null,
            "justify_content": null,
            "justify_items": null,
            "left": null,
            "margin": null,
            "max_height": null,
            "max_width": null,
            "min_height": null,
            "min_width": null,
            "object_fit": null,
            "object_position": null,
            "order": null,
            "overflow": null,
            "overflow_x": null,
            "overflow_y": null,
            "padding": null,
            "right": null,
            "top": null,
            "visibility": null,
            "width": null
          }
        },
        "e4dee83b245246ad9a78c5fa433fcbdf": {
          "model_module": "@jupyter-widgets/controls",
          "model_name": "DescriptionStyleModel",
          "model_module_version": "1.5.0",
          "state": {
            "_model_module": "@jupyter-widgets/controls",
            "_model_module_version": "1.5.0",
            "_model_name": "DescriptionStyleModel",
            "_view_count": null,
            "_view_module": "@jupyter-widgets/base",
            "_view_module_version": "1.2.0",
            "_view_name": "StyleView",
            "description_width": ""
          }
        },
        "0008207802b24cee8aa8456c24257eab": {
          "model_module": "@jupyter-widgets/controls",
          "model_name": "HBoxModel",
          "model_module_version": "1.5.0",
          "state": {
            "_dom_classes": [],
            "_model_module": "@jupyter-widgets/controls",
            "_model_module_version": "1.5.0",
            "_model_name": "HBoxModel",
            "_view_count": null,
            "_view_module": "@jupyter-widgets/controls",
            "_view_module_version": "1.5.0",
            "_view_name": "HBoxView",
            "box_style": "",
            "children": [
              "IPY_MODEL_027a44e22719476082fcd70635038ca9",
              "IPY_MODEL_9e0d12083d8546968df15ea096473802",
              "IPY_MODEL_f34aa4c5c45446e3b0ea6d61297880ae"
            ],
            "layout": "IPY_MODEL_06722e4e70a7467da2a5afd83ee4e241"
          }
        },
        "027a44e22719476082fcd70635038ca9": {
          "model_module": "@jupyter-widgets/controls",
          "model_name": "HTMLModel",
          "model_module_version": "1.5.0",
          "state": {
            "_dom_classes": [],
            "_model_module": "@jupyter-widgets/controls",
            "_model_module_version": "1.5.0",
            "_model_name": "HTMLModel",
            "_view_count": null,
            "_view_module": "@jupyter-widgets/controls",
            "_view_module_version": "1.5.0",
            "_view_name": "HTMLView",
            "description": "",
            "description_tooltip": null,
            "layout": "IPY_MODEL_7a16b658eef94988b026969d4df95f97",
            "placeholder": "​",
            "style": "IPY_MODEL_a73abde6f9484769b4c65703e64222a4",
            "value": "vocab.txt: "
          }
        },
        "9e0d12083d8546968df15ea096473802": {
          "model_module": "@jupyter-widgets/controls",
          "model_name": "FloatProgressModel",
          "model_module_version": "1.5.0",
          "state": {
            "_dom_classes": [],
            "_model_module": "@jupyter-widgets/controls",
            "_model_module_version": "1.5.0",
            "_model_name": "FloatProgressModel",
            "_view_count": null,
            "_view_module": "@jupyter-widgets/controls",
            "_view_module_version": "1.5.0",
            "_view_name": "ProgressView",
            "bar_style": "success",
            "description": "",
            "description_tooltip": null,
            "layout": "IPY_MODEL_9e1c99195e6f4068875a7100f512c9cc",
            "max": 1,
            "min": 0,
            "orientation": "horizontal",
            "style": "IPY_MODEL_16cc1289927e4b03813376444baed2b2",
            "value": 1
          }
        },
        "f34aa4c5c45446e3b0ea6d61297880ae": {
          "model_module": "@jupyter-widgets/controls",
          "model_name": "HTMLModel",
          "model_module_version": "1.5.0",
          "state": {
            "_dom_classes": [],
            "_model_module": "@jupyter-widgets/controls",
            "_model_module_version": "1.5.0",
            "_model_name": "HTMLModel",
            "_view_count": null,
            "_view_module": "@jupyter-widgets/controls",
            "_view_module_version": "1.5.0",
            "_view_name": "HTMLView",
            "description": "",
            "description_tooltip": null,
            "layout": "IPY_MODEL_1ee019f2561c4bfab006f3e0e5049a5a",
            "placeholder": "​",
            "style": "IPY_MODEL_922697758bb3405481a40b1970cae772",
            "value": " 210k/? [00:00&lt;00:00, 18.8MB/s]"
          }
        },
        "06722e4e70a7467da2a5afd83ee4e241": {
          "model_module": "@jupyter-widgets/base",
          "model_name": "LayoutModel",
          "model_module_version": "1.2.0",
          "state": {
            "_model_module": "@jupyter-widgets/base",
            "_model_module_version": "1.2.0",
            "_model_name": "LayoutModel",
            "_view_count": null,
            "_view_module": "@jupyter-widgets/base",
            "_view_module_version": "1.2.0",
            "_view_name": "LayoutView",
            "align_content": null,
            "align_items": null,
            "align_self": null,
            "border": null,
            "bottom": null,
            "display": null,
            "flex": null,
            "flex_flow": null,
            "grid_area": null,
            "grid_auto_columns": null,
            "grid_auto_flow": null,
            "grid_auto_rows": null,
            "grid_column": null,
            "grid_gap": null,
            "grid_row": null,
            "grid_template_areas": null,
            "grid_template_columns": null,
            "grid_template_rows": null,
            "height": null,
            "justify_content": null,
            "justify_items": null,
            "left": null,
            "margin": null,
            "max_height": null,
            "max_width": null,
            "min_height": null,
            "min_width": null,
            "object_fit": null,
            "object_position": null,
            "order": null,
            "overflow": null,
            "overflow_x": null,
            "overflow_y": null,
            "padding": null,
            "right": null,
            "top": null,
            "visibility": null,
            "width": null
          }
        },
        "7a16b658eef94988b026969d4df95f97": {
          "model_module": "@jupyter-widgets/base",
          "model_name": "LayoutModel",
          "model_module_version": "1.2.0",
          "state": {
            "_model_module": "@jupyter-widgets/base",
            "_model_module_version": "1.2.0",
            "_model_name": "LayoutModel",
            "_view_count": null,
            "_view_module": "@jupyter-widgets/base",
            "_view_module_version": "1.2.0",
            "_view_name": "LayoutView",
            "align_content": null,
            "align_items": null,
            "align_self": null,
            "border": null,
            "bottom": null,
            "display": null,
            "flex": null,
            "flex_flow": null,
            "grid_area": null,
            "grid_auto_columns": null,
            "grid_auto_flow": null,
            "grid_auto_rows": null,
            "grid_column": null,
            "grid_gap": null,
            "grid_row": null,
            "grid_template_areas": null,
            "grid_template_columns": null,
            "grid_template_rows": null,
            "height": null,
            "justify_content": null,
            "justify_items": null,
            "left": null,
            "margin": null,
            "max_height": null,
            "max_width": null,
            "min_height": null,
            "min_width": null,
            "object_fit": null,
            "object_position": null,
            "order": null,
            "overflow": null,
            "overflow_x": null,
            "overflow_y": null,
            "padding": null,
            "right": null,
            "top": null,
            "visibility": null,
            "width": null
          }
        },
        "a73abde6f9484769b4c65703e64222a4": {
          "model_module": "@jupyter-widgets/controls",
          "model_name": "DescriptionStyleModel",
          "model_module_version": "1.5.0",
          "state": {
            "_model_module": "@jupyter-widgets/controls",
            "_model_module_version": "1.5.0",
            "_model_name": "DescriptionStyleModel",
            "_view_count": null,
            "_view_module": "@jupyter-widgets/base",
            "_view_module_version": "1.2.0",
            "_view_name": "StyleView",
            "description_width": ""
          }
        },
        "9e1c99195e6f4068875a7100f512c9cc": {
          "model_module": "@jupyter-widgets/base",
          "model_name": "LayoutModel",
          "model_module_version": "1.2.0",
          "state": {
            "_model_module": "@jupyter-widgets/base",
            "_model_module_version": "1.2.0",
            "_model_name": "LayoutModel",
            "_view_count": null,
            "_view_module": "@jupyter-widgets/base",
            "_view_module_version": "1.2.0",
            "_view_name": "LayoutView",
            "align_content": null,
            "align_items": null,
            "align_self": null,
            "border": null,
            "bottom": null,
            "display": null,
            "flex": null,
            "flex_flow": null,
            "grid_area": null,
            "grid_auto_columns": null,
            "grid_auto_flow": null,
            "grid_auto_rows": null,
            "grid_column": null,
            "grid_gap": null,
            "grid_row": null,
            "grid_template_areas": null,
            "grid_template_columns": null,
            "grid_template_rows": null,
            "height": null,
            "justify_content": null,
            "justify_items": null,
            "left": null,
            "margin": null,
            "max_height": null,
            "max_width": null,
            "min_height": null,
            "min_width": null,
            "object_fit": null,
            "object_position": null,
            "order": null,
            "overflow": null,
            "overflow_x": null,
            "overflow_y": null,
            "padding": null,
            "right": null,
            "top": null,
            "visibility": null,
            "width": "20px"
          }
        },
        "16cc1289927e4b03813376444baed2b2": {
          "model_module": "@jupyter-widgets/controls",
          "model_name": "ProgressStyleModel",
          "model_module_version": "1.5.0",
          "state": {
            "_model_module": "@jupyter-widgets/controls",
            "_model_module_version": "1.5.0",
            "_model_name": "ProgressStyleModel",
            "_view_count": null,
            "_view_module": "@jupyter-widgets/base",
            "_view_module_version": "1.2.0",
            "_view_name": "StyleView",
            "bar_color": null,
            "description_width": ""
          }
        },
        "1ee019f2561c4bfab006f3e0e5049a5a": {
          "model_module": "@jupyter-widgets/base",
          "model_name": "LayoutModel",
          "model_module_version": "1.2.0",
          "state": {
            "_model_module": "@jupyter-widgets/base",
            "_model_module_version": "1.2.0",
            "_model_name": "LayoutModel",
            "_view_count": null,
            "_view_module": "@jupyter-widgets/base",
            "_view_module_version": "1.2.0",
            "_view_name": "LayoutView",
            "align_content": null,
            "align_items": null,
            "align_self": null,
            "border": null,
            "bottom": null,
            "display": null,
            "flex": null,
            "flex_flow": null,
            "grid_area": null,
            "grid_auto_columns": null,
            "grid_auto_flow": null,
            "grid_auto_rows": null,
            "grid_column": null,
            "grid_gap": null,
            "grid_row": null,
            "grid_template_areas": null,
            "grid_template_columns": null,
            "grid_template_rows": null,
            "height": null,
            "justify_content": null,
            "justify_items": null,
            "left": null,
            "margin": null,
            "max_height": null,
            "max_width": null,
            "min_height": null,
            "min_width": null,
            "object_fit": null,
            "object_position": null,
            "order": null,
            "overflow": null,
            "overflow_x": null,
            "overflow_y": null,
            "padding": null,
            "right": null,
            "top": null,
            "visibility": null,
            "width": null
          }
        },
        "922697758bb3405481a40b1970cae772": {
          "model_module": "@jupyter-widgets/controls",
          "model_name": "DescriptionStyleModel",
          "model_module_version": "1.5.0",
          "state": {
            "_model_module": "@jupyter-widgets/controls",
            "_model_module_version": "1.5.0",
            "_model_name": "DescriptionStyleModel",
            "_view_count": null,
            "_view_module": "@jupyter-widgets/base",
            "_view_module_version": "1.2.0",
            "_view_name": "StyleView",
            "description_width": ""
          }
        },
        "6e74be0d883249fbbec4a5d5863d03a3": {
          "model_module": "@jupyter-widgets/controls",
          "model_name": "HBoxModel",
          "model_module_version": "1.5.0",
          "state": {
            "_dom_classes": [],
            "_model_module": "@jupyter-widgets/controls",
            "_model_module_version": "1.5.0",
            "_model_name": "HBoxModel",
            "_view_count": null,
            "_view_module": "@jupyter-widgets/controls",
            "_view_module_version": "1.5.0",
            "_view_name": "HBoxView",
            "box_style": "",
            "children": [
              "IPY_MODEL_b2ece02519ab4a3d9ce15da6ed6946cb",
              "IPY_MODEL_adcd5e84fc8e4c1e9cfffa7707f854e7",
              "IPY_MODEL_96b4653997264f5594115194dccdc4c1"
            ],
            "layout": "IPY_MODEL_95eb211947c04919b576cd80e9f3a43a"
          }
        },
        "b2ece02519ab4a3d9ce15da6ed6946cb": {
          "model_module": "@jupyter-widgets/controls",
          "model_name": "HTMLModel",
          "model_module_version": "1.5.0",
          "state": {
            "_dom_classes": [],
            "_model_module": "@jupyter-widgets/controls",
            "_model_module_version": "1.5.0",
            "_model_name": "HTMLModel",
            "_view_count": null,
            "_view_module": "@jupyter-widgets/controls",
            "_view_module_version": "1.5.0",
            "_view_name": "HTMLView",
            "description": "",
            "description_tooltip": null,
            "layout": "IPY_MODEL_47efe04516204b2eb947fe8f16c0bb53",
            "placeholder": "​",
            "style": "IPY_MODEL_2d393e377af8430c9f904ecf0aaab90a",
            "value": "added_tokens.json: 100%"
          }
        },
        "adcd5e84fc8e4c1e9cfffa7707f854e7": {
          "model_module": "@jupyter-widgets/controls",
          "model_name": "FloatProgressModel",
          "model_module_version": "1.5.0",
          "state": {
            "_dom_classes": [],
            "_model_module": "@jupyter-widgets/controls",
            "_model_module_version": "1.5.0",
            "_model_name": "FloatProgressModel",
            "_view_count": null,
            "_view_module": "@jupyter-widgets/controls",
            "_view_module_version": "1.5.0",
            "_view_name": "ProgressView",
            "bar_style": "success",
            "description": "",
            "description_tooltip": null,
            "layout": "IPY_MODEL_a327d1a9e3134ec1a7731a57c75af516",
            "max": 2,
            "min": 0,
            "orientation": "horizontal",
            "style": "IPY_MODEL_8cb0f2ef1e4a43069e8d3f9b20670b66",
            "value": 2
          }
        },
        "96b4653997264f5594115194dccdc4c1": {
          "model_module": "@jupyter-widgets/controls",
          "model_name": "HTMLModel",
          "model_module_version": "1.5.0",
          "state": {
            "_dom_classes": [],
            "_model_module": "@jupyter-widgets/controls",
            "_model_module_version": "1.5.0",
            "_model_name": "HTMLModel",
            "_view_count": null,
            "_view_module": "@jupyter-widgets/controls",
            "_view_module_version": "1.5.0",
            "_view_name": "HTMLView",
            "description": "",
            "description_tooltip": null,
            "layout": "IPY_MODEL_c64545862e974db5b7c08d0c98c63e4b",
            "placeholder": "​",
            "style": "IPY_MODEL_3f052d057f46483d8bda6c0f923e9695",
            "value": " 2.00/2.00 [00:00&lt;00:00, 274B/s]"
          }
        },
        "95eb211947c04919b576cd80e9f3a43a": {
          "model_module": "@jupyter-widgets/base",
          "model_name": "LayoutModel",
          "model_module_version": "1.2.0",
          "state": {
            "_model_module": "@jupyter-widgets/base",
            "_model_module_version": "1.2.0",
            "_model_name": "LayoutModel",
            "_view_count": null,
            "_view_module": "@jupyter-widgets/base",
            "_view_module_version": "1.2.0",
            "_view_name": "LayoutView",
            "align_content": null,
            "align_items": null,
            "align_self": null,
            "border": null,
            "bottom": null,
            "display": null,
            "flex": null,
            "flex_flow": null,
            "grid_area": null,
            "grid_auto_columns": null,
            "grid_auto_flow": null,
            "grid_auto_rows": null,
            "grid_column": null,
            "grid_gap": null,
            "grid_row": null,
            "grid_template_areas": null,
            "grid_template_columns": null,
            "grid_template_rows": null,
            "height": null,
            "justify_content": null,
            "justify_items": null,
            "left": null,
            "margin": null,
            "max_height": null,
            "max_width": null,
            "min_height": null,
            "min_width": null,
            "object_fit": null,
            "object_position": null,
            "order": null,
            "overflow": null,
            "overflow_x": null,
            "overflow_y": null,
            "padding": null,
            "right": null,
            "top": null,
            "visibility": null,
            "width": null
          }
        },
        "47efe04516204b2eb947fe8f16c0bb53": {
          "model_module": "@jupyter-widgets/base",
          "model_name": "LayoutModel",
          "model_module_version": "1.2.0",
          "state": {
            "_model_module": "@jupyter-widgets/base",
            "_model_module_version": "1.2.0",
            "_model_name": "LayoutModel",
            "_view_count": null,
            "_view_module": "@jupyter-widgets/base",
            "_view_module_version": "1.2.0",
            "_view_name": "LayoutView",
            "align_content": null,
            "align_items": null,
            "align_self": null,
            "border": null,
            "bottom": null,
            "display": null,
            "flex": null,
            "flex_flow": null,
            "grid_area": null,
            "grid_auto_columns": null,
            "grid_auto_flow": null,
            "grid_auto_rows": null,
            "grid_column": null,
            "grid_gap": null,
            "grid_row": null,
            "grid_template_areas": null,
            "grid_template_columns": null,
            "grid_template_rows": null,
            "height": null,
            "justify_content": null,
            "justify_items": null,
            "left": null,
            "margin": null,
            "max_height": null,
            "max_width": null,
            "min_height": null,
            "min_width": null,
            "object_fit": null,
            "object_position": null,
            "order": null,
            "overflow": null,
            "overflow_x": null,
            "overflow_y": null,
            "padding": null,
            "right": null,
            "top": null,
            "visibility": null,
            "width": null
          }
        },
        "2d393e377af8430c9f904ecf0aaab90a": {
          "model_module": "@jupyter-widgets/controls",
          "model_name": "DescriptionStyleModel",
          "model_module_version": "1.5.0",
          "state": {
            "_model_module": "@jupyter-widgets/controls",
            "_model_module_version": "1.5.0",
            "_model_name": "DescriptionStyleModel",
            "_view_count": null,
            "_view_module": "@jupyter-widgets/base",
            "_view_module_version": "1.2.0",
            "_view_name": "StyleView",
            "description_width": ""
          }
        },
        "a327d1a9e3134ec1a7731a57c75af516": {
          "model_module": "@jupyter-widgets/base",
          "model_name": "LayoutModel",
          "model_module_version": "1.2.0",
          "state": {
            "_model_module": "@jupyter-widgets/base",
            "_model_module_version": "1.2.0",
            "_model_name": "LayoutModel",
            "_view_count": null,
            "_view_module": "@jupyter-widgets/base",
            "_view_module_version": "1.2.0",
            "_view_name": "LayoutView",
            "align_content": null,
            "align_items": null,
            "align_self": null,
            "border": null,
            "bottom": null,
            "display": null,
            "flex": null,
            "flex_flow": null,
            "grid_area": null,
            "grid_auto_columns": null,
            "grid_auto_flow": null,
            "grid_auto_rows": null,
            "grid_column": null,
            "grid_gap": null,
            "grid_row": null,
            "grid_template_areas": null,
            "grid_template_columns": null,
            "grid_template_rows": null,
            "height": null,
            "justify_content": null,
            "justify_items": null,
            "left": null,
            "margin": null,
            "max_height": null,
            "max_width": null,
            "min_height": null,
            "min_width": null,
            "object_fit": null,
            "object_position": null,
            "order": null,
            "overflow": null,
            "overflow_x": null,
            "overflow_y": null,
            "padding": null,
            "right": null,
            "top": null,
            "visibility": null,
            "width": null
          }
        },
        "8cb0f2ef1e4a43069e8d3f9b20670b66": {
          "model_module": "@jupyter-widgets/controls",
          "model_name": "ProgressStyleModel",
          "model_module_version": "1.5.0",
          "state": {
            "_model_module": "@jupyter-widgets/controls",
            "_model_module_version": "1.5.0",
            "_model_name": "ProgressStyleModel",
            "_view_count": null,
            "_view_module": "@jupyter-widgets/base",
            "_view_module_version": "1.2.0",
            "_view_name": "StyleView",
            "bar_color": null,
            "description_width": ""
          }
        },
        "c64545862e974db5b7c08d0c98c63e4b": {
          "model_module": "@jupyter-widgets/base",
          "model_name": "LayoutModel",
          "model_module_version": "1.2.0",
          "state": {
            "_model_module": "@jupyter-widgets/base",
            "_model_module_version": "1.2.0",
            "_model_name": "LayoutModel",
            "_view_count": null,
            "_view_module": "@jupyter-widgets/base",
            "_view_module_version": "1.2.0",
            "_view_name": "LayoutView",
            "align_content": null,
            "align_items": null,
            "align_self": null,
            "border": null,
            "bottom": null,
            "display": null,
            "flex": null,
            "flex_flow": null,
            "grid_area": null,
            "grid_auto_columns": null,
            "grid_auto_flow": null,
            "grid_auto_rows": null,
            "grid_column": null,
            "grid_gap": null,
            "grid_row": null,
            "grid_template_areas": null,
            "grid_template_columns": null,
            "grid_template_rows": null,
            "height": null,
            "justify_content": null,
            "justify_items": null,
            "left": null,
            "margin": null,
            "max_height": null,
            "max_width": null,
            "min_height": null,
            "min_width": null,
            "object_fit": null,
            "object_position": null,
            "order": null,
            "overflow": null,
            "overflow_x": null,
            "overflow_y": null,
            "padding": null,
            "right": null,
            "top": null,
            "visibility": null,
            "width": null
          }
        },
        "3f052d057f46483d8bda6c0f923e9695": {
          "model_module": "@jupyter-widgets/controls",
          "model_name": "DescriptionStyleModel",
          "model_module_version": "1.5.0",
          "state": {
            "_model_module": "@jupyter-widgets/controls",
            "_model_module_version": "1.5.0",
            "_model_name": "DescriptionStyleModel",
            "_view_count": null,
            "_view_module": "@jupyter-widgets/base",
            "_view_module_version": "1.2.0",
            "_view_name": "StyleView",
            "description_width": ""
          }
        },
        "39d33479ec244f6d8de0e003c662be63": {
          "model_module": "@jupyter-widgets/controls",
          "model_name": "HBoxModel",
          "model_module_version": "1.5.0",
          "state": {
            "_dom_classes": [],
            "_model_module": "@jupyter-widgets/controls",
            "_model_module_version": "1.5.0",
            "_model_name": "HBoxModel",
            "_view_count": null,
            "_view_module": "@jupyter-widgets/controls",
            "_view_module_version": "1.5.0",
            "_view_name": "HBoxView",
            "box_style": "",
            "children": [
              "IPY_MODEL_15af9524bf7a49299b7aff81a358a3c3",
              "IPY_MODEL_946aaaff36e94dba80b27bd179deab5b",
              "IPY_MODEL_76081301e3b24744b5cd879e5c787c3a"
            ],
            "layout": "IPY_MODEL_b541df88dd2945d68923cfcc884718cd"
          }
        },
        "15af9524bf7a49299b7aff81a358a3c3": {
          "model_module": "@jupyter-widgets/controls",
          "model_name": "HTMLModel",
          "model_module_version": "1.5.0",
          "state": {
            "_dom_classes": [],
            "_model_module": "@jupyter-widgets/controls",
            "_model_module_version": "1.5.0",
            "_model_name": "HTMLModel",
            "_view_count": null,
            "_view_module": "@jupyter-widgets/controls",
            "_view_module_version": "1.5.0",
            "_view_name": "HTMLView",
            "description": "",
            "description_tooltip": null,
            "layout": "IPY_MODEL_fdfd8a9f6f754410a89c1d35e123bb14",
            "placeholder": "​",
            "style": "IPY_MODEL_e19d97ff3e7c47799d13b5da174af831",
            "value": "special_tokens_map.json: 100%"
          }
        },
        "946aaaff36e94dba80b27bd179deab5b": {
          "model_module": "@jupyter-widgets/controls",
          "model_name": "FloatProgressModel",
          "model_module_version": "1.5.0",
          "state": {
            "_dom_classes": [],
            "_model_module": "@jupyter-widgets/controls",
            "_model_module_version": "1.5.0",
            "_model_name": "FloatProgressModel",
            "_view_count": null,
            "_view_module": "@jupyter-widgets/controls",
            "_view_module_version": "1.5.0",
            "_view_name": "ProgressView",
            "bar_style": "success",
            "description": "",
            "description_tooltip": null,
            "layout": "IPY_MODEL_d82c62ffa82a4871810287bdeef5edb7",
            "max": 112,
            "min": 0,
            "orientation": "horizontal",
            "style": "IPY_MODEL_1053b097a76d4111ae3f56a57765c037",
            "value": 112
          }
        },
        "76081301e3b24744b5cd879e5c787c3a": {
          "model_module": "@jupyter-widgets/controls",
          "model_name": "HTMLModel",
          "model_module_version": "1.5.0",
          "state": {
            "_dom_classes": [],
            "_model_module": "@jupyter-widgets/controls",
            "_model_module_version": "1.5.0",
            "_model_name": "HTMLModel",
            "_view_count": null,
            "_view_module": "@jupyter-widgets/controls",
            "_view_module_version": "1.5.0",
            "_view_name": "HTMLView",
            "description": "",
            "description_tooltip": null,
            "layout": "IPY_MODEL_52cfe1858eab4d6890714137a0e9d209",
            "placeholder": "​",
            "style": "IPY_MODEL_95d56cd34e5c46b990165c27b0d59280",
            "value": " 112/112 [00:00&lt;00:00, 16.2kB/s]"
          }
        },
        "b541df88dd2945d68923cfcc884718cd": {
          "model_module": "@jupyter-widgets/base",
          "model_name": "LayoutModel",
          "model_module_version": "1.2.0",
          "state": {
            "_model_module": "@jupyter-widgets/base",
            "_model_module_version": "1.2.0",
            "_model_name": "LayoutModel",
            "_view_count": null,
            "_view_module": "@jupyter-widgets/base",
            "_view_module_version": "1.2.0",
            "_view_name": "LayoutView",
            "align_content": null,
            "align_items": null,
            "align_self": null,
            "border": null,
            "bottom": null,
            "display": null,
            "flex": null,
            "flex_flow": null,
            "grid_area": null,
            "grid_auto_columns": null,
            "grid_auto_flow": null,
            "grid_auto_rows": null,
            "grid_column": null,
            "grid_gap": null,
            "grid_row": null,
            "grid_template_areas": null,
            "grid_template_columns": null,
            "grid_template_rows": null,
            "height": null,
            "justify_content": null,
            "justify_items": null,
            "left": null,
            "margin": null,
            "max_height": null,
            "max_width": null,
            "min_height": null,
            "min_width": null,
            "object_fit": null,
            "object_position": null,
            "order": null,
            "overflow": null,
            "overflow_x": null,
            "overflow_y": null,
            "padding": null,
            "right": null,
            "top": null,
            "visibility": null,
            "width": null
          }
        },
        "fdfd8a9f6f754410a89c1d35e123bb14": {
          "model_module": "@jupyter-widgets/base",
          "model_name": "LayoutModel",
          "model_module_version": "1.2.0",
          "state": {
            "_model_module": "@jupyter-widgets/base",
            "_model_module_version": "1.2.0",
            "_model_name": "LayoutModel",
            "_view_count": null,
            "_view_module": "@jupyter-widgets/base",
            "_view_module_version": "1.2.0",
            "_view_name": "LayoutView",
            "align_content": null,
            "align_items": null,
            "align_self": null,
            "border": null,
            "bottom": null,
            "display": null,
            "flex": null,
            "flex_flow": null,
            "grid_area": null,
            "grid_auto_columns": null,
            "grid_auto_flow": null,
            "grid_auto_rows": null,
            "grid_column": null,
            "grid_gap": null,
            "grid_row": null,
            "grid_template_areas": null,
            "grid_template_columns": null,
            "grid_template_rows": null,
            "height": null,
            "justify_content": null,
            "justify_items": null,
            "left": null,
            "margin": null,
            "max_height": null,
            "max_width": null,
            "min_height": null,
            "min_width": null,
            "object_fit": null,
            "object_position": null,
            "order": null,
            "overflow": null,
            "overflow_x": null,
            "overflow_y": null,
            "padding": null,
            "right": null,
            "top": null,
            "visibility": null,
            "width": null
          }
        },
        "e19d97ff3e7c47799d13b5da174af831": {
          "model_module": "@jupyter-widgets/controls",
          "model_name": "DescriptionStyleModel",
          "model_module_version": "1.5.0",
          "state": {
            "_model_module": "@jupyter-widgets/controls",
            "_model_module_version": "1.5.0",
            "_model_name": "DescriptionStyleModel",
            "_view_count": null,
            "_view_module": "@jupyter-widgets/base",
            "_view_module_version": "1.2.0",
            "_view_name": "StyleView",
            "description_width": ""
          }
        },
        "d82c62ffa82a4871810287bdeef5edb7": {
          "model_module": "@jupyter-widgets/base",
          "model_name": "LayoutModel",
          "model_module_version": "1.2.0",
          "state": {
            "_model_module": "@jupyter-widgets/base",
            "_model_module_version": "1.2.0",
            "_model_name": "LayoutModel",
            "_view_count": null,
            "_view_module": "@jupyter-widgets/base",
            "_view_module_version": "1.2.0",
            "_view_name": "LayoutView",
            "align_content": null,
            "align_items": null,
            "align_self": null,
            "border": null,
            "bottom": null,
            "display": null,
            "flex": null,
            "flex_flow": null,
            "grid_area": null,
            "grid_auto_columns": null,
            "grid_auto_flow": null,
            "grid_auto_rows": null,
            "grid_column": null,
            "grid_gap": null,
            "grid_row": null,
            "grid_template_areas": null,
            "grid_template_columns": null,
            "grid_template_rows": null,
            "height": null,
            "justify_content": null,
            "justify_items": null,
            "left": null,
            "margin": null,
            "max_height": null,
            "max_width": null,
            "min_height": null,
            "min_width": null,
            "object_fit": null,
            "object_position": null,
            "order": null,
            "overflow": null,
            "overflow_x": null,
            "overflow_y": null,
            "padding": null,
            "right": null,
            "top": null,
            "visibility": null,
            "width": null
          }
        },
        "1053b097a76d4111ae3f56a57765c037": {
          "model_module": "@jupyter-widgets/controls",
          "model_name": "ProgressStyleModel",
          "model_module_version": "1.5.0",
          "state": {
            "_model_module": "@jupyter-widgets/controls",
            "_model_module_version": "1.5.0",
            "_model_name": "ProgressStyleModel",
            "_view_count": null,
            "_view_module": "@jupyter-widgets/base",
            "_view_module_version": "1.2.0",
            "_view_name": "StyleView",
            "bar_color": null,
            "description_width": ""
          }
        },
        "52cfe1858eab4d6890714137a0e9d209": {
          "model_module": "@jupyter-widgets/base",
          "model_name": "LayoutModel",
          "model_module_version": "1.2.0",
          "state": {
            "_model_module": "@jupyter-widgets/base",
            "_model_module_version": "1.2.0",
            "_model_name": "LayoutModel",
            "_view_count": null,
            "_view_module": "@jupyter-widgets/base",
            "_view_module_version": "1.2.0",
            "_view_name": "LayoutView",
            "align_content": null,
            "align_items": null,
            "align_self": null,
            "border": null,
            "bottom": null,
            "display": null,
            "flex": null,
            "flex_flow": null,
            "grid_area": null,
            "grid_auto_columns": null,
            "grid_auto_flow": null,
            "grid_auto_rows": null,
            "grid_column": null,
            "grid_gap": null,
            "grid_row": null,
            "grid_template_areas": null,
            "grid_template_columns": null,
            "grid_template_rows": null,
            "height": null,
            "justify_content": null,
            "justify_items": null,
            "left": null,
            "margin": null,
            "max_height": null,
            "max_width": null,
            "min_height": null,
            "min_width": null,
            "object_fit": null,
            "object_position": null,
            "order": null,
            "overflow": null,
            "overflow_x": null,
            "overflow_y": null,
            "padding": null,
            "right": null,
            "top": null,
            "visibility": null,
            "width": null
          }
        },
        "95d56cd34e5c46b990165c27b0d59280": {
          "model_module": "@jupyter-widgets/controls",
          "model_name": "DescriptionStyleModel",
          "model_module_version": "1.5.0",
          "state": {
            "_model_module": "@jupyter-widgets/controls",
            "_model_module_version": "1.5.0",
            "_model_name": "DescriptionStyleModel",
            "_view_count": null,
            "_view_module": "@jupyter-widgets/base",
            "_view_module_version": "1.2.0",
            "_view_name": "StyleView",
            "description_width": ""
          }
        }
      }
    }
  },
  "cells": [
    {
      "cell_type": "markdown",
      "source": [
        "<img src=\"https://www.alura.com.br/artigos/assets/para-que-serve-adobe-illustrator/imagem1.jpg\" alt=\"Imagem1.png\" width=\"300\" />\n"
      ],
      "metadata": {
        "id": "2IrPhjrN4dKM"
      }
    },
    {
      "cell_type": "markdown",
      "source": [
        "# **Redes Neurais Transformers: Deep Learning com Pytorch**\n",
        "---\n",
        "\n"
      ],
      "metadata": {
        "id": "zNaxYEVi4eMB"
      }
    },
    {
      "cell_type": "markdown",
      "source": [
        "### **0. Introdução Teórica — O que é um Transformer?**"
      ],
      "metadata": {
        "id": "-dyz7x-5SdAg"
      }
    },
    {
      "cell_type": "markdown",
      "source": [
        "Tarefas de linguagem e sequência eram dominadas por RNNs/LSTMs, que processam token a token e sofrem com paralelização limitada e dependências longas. O paper [*Attention is All You Need*](https://arxiv.org/pdf/1706.03762) mostrou que é possível **modelar relações entre quaisquer posições da sequência em paralelo**, via **atenção** tornando o treino muito mais eficiente e escalável.\n"
      ],
      "metadata": {
        "id": "hbGYoHDPSjoV"
      }
    },
    {
      "cell_type": "markdown",
      "source": [
        "#### Arquitetura da Rede Neural"
      ],
      "metadata": {
        "id": "16HDKt9hbG6m"
      }
    },
    {
      "cell_type": "markdown",
      "source": [
        "<img src=\"https://img-blog.csdnimg.cn/direct/90ad2fa8c00f4bc78c8a035ddc45f28b.png\" alt=\"Imagem1.png\" width=\"500\" />\n"
      ],
      "metadata": {
        "id": "BE-0NZUoXCbV"
      }
    },
    {
      "cell_type": "code",
      "source": [
        "display(SVG(resp.text))"
      ],
      "metadata": {
        "id": "DvGvblMIWrEq",
        "colab": {
          "base_uri": "https://localhost:8080/",
          "height": 1000
        },
        "outputId": "42864674-cd0f-46ea-dfcc-15f7b0d4baed"
      },
      "execution_count": null,
      "outputs": [
        {
          "output_type": "display_data",
          "data": {
            "text/plain": [
              "<IPython.core.display.SVG object>"
            ],
            "image/svg+xml": "<svg xmlns=\"http://www.w3.org/2000/svg\" xmlns:xlink=\"http://www.w3.org/1999/xlink\" id=\"mermaid-svg\" width=\"100%\" class=\"flowchart\" style=\"max-width: 756.32421875px;\" viewBox=\"0 0 756.32421875 1922\" role=\"graphics-document document\" aria-roledescription=\"flowchart-v2\"><style xmlns=\"http://www.w3.org/1999/xhtml\">@import url(&quot;https://cdnjs.cloudflare.com/ajax/libs/font-awesome/6.7.2/css/all.min.css&quot;);</style><style>#mermaid-svg{font-family:&quot;trebuchet ms&quot;,verdana,arial,sans-serif;font-size:16px;fill:#333;}@keyframes edge-animation-frame{from{stroke-dashoffset:0;}}@keyframes dash{to{stroke-dashoffset:0;}}#mermaid-svg .edge-animation-slow{stroke-dasharray:9,5!important;stroke-dashoffset:900;animation:dash 50s linear infinite;stroke-linecap:round;}#mermaid-svg .edge-animation-fast{stroke-dasharray:9,5!important;stroke-dashoffset:900;animation:dash 20s linear infinite;stroke-linecap:round;}#mermaid-svg .error-icon{fill:#552222;}#mermaid-svg .error-text{fill:#552222;stroke:#552222;}#mermaid-svg .edge-thickness-normal{stroke-width:1px;}#mermaid-svg .edge-thickness-thick{stroke-width:3.5px;}#mermaid-svg .edge-pattern-solid{stroke-dasharray:0;}#mermaid-svg .edge-thickness-invisible{stroke-width:0;fill:none;}#mermaid-svg .edge-pattern-dashed{stroke-dasharray:3;}#mermaid-svg .edge-pattern-dotted{stroke-dasharray:2;}#mermaid-svg .marker{fill:#333333;stroke:#333333;}#mermaid-svg .marker.cross{stroke:#333333;}#mermaid-svg svg{font-family:&quot;trebuchet ms&quot;,verdana,arial,sans-serif;font-size:16px;}#mermaid-svg p{margin:0;}#mermaid-svg .label{font-family:&quot;trebuchet ms&quot;,verdana,arial,sans-serif;color:#333;}#mermaid-svg .cluster-label text{fill:#333;}#mermaid-svg .cluster-label span{color:#333;}#mermaid-svg .cluster-label span p{background-color:transparent;}#mermaid-svg .label text,#mermaid-svg span{fill:#333;color:#333;}#mermaid-svg .node rect,#mermaid-svg .node circle,#mermaid-svg .node ellipse,#mermaid-svg .node polygon,#mermaid-svg .node path{fill:#ECECFF;stroke:#9370DB;stroke-width:1px;}#mermaid-svg .rough-node .label text,#mermaid-svg .node .label text,#mermaid-svg .image-shape .label,#mermaid-svg .icon-shape .label{text-anchor:middle;}#mermaid-svg .node .katex path{fill:#000;stroke:#000;stroke-width:1px;}#mermaid-svg .rough-node .label,#mermaid-svg .node .label,#mermaid-svg .image-shape .label,#mermaid-svg .icon-shape .label{text-align:center;}#mermaid-svg .node.clickable{cursor:pointer;}#mermaid-svg .root .anchor path{fill:#333333!important;stroke-width:0;stroke:#333333;}#mermaid-svg .arrowheadPath{fill:#333333;}#mermaid-svg .edgePath .path{stroke:#333333;stroke-width:2.0px;}#mermaid-svg .flowchart-link{stroke:#333333;fill:none;}#mermaid-svg .edgeLabel{background-color:rgba(232,232,232, 0.8);text-align:center;}#mermaid-svg .edgeLabel p{background-color:rgba(232,232,232, 0.8);}#mermaid-svg .edgeLabel rect{opacity:0.5;background-color:rgba(232,232,232, 0.8);fill:rgba(232,232,232, 0.8);}#mermaid-svg .labelBkg{background-color:rgba(232, 232, 232, 0.5);}#mermaid-svg .cluster rect{fill:#ffffde;stroke:#aaaa33;stroke-width:1px;}#mermaid-svg .cluster text{fill:#333;}#mermaid-svg .cluster span{color:#333;}#mermaid-svg div.mermaidTooltip{position:absolute;text-align:center;max-width:200px;padding:2px;font-family:&quot;trebuchet ms&quot;,verdana,arial,sans-serif;font-size:12px;background:hsl(80, 100%, 96.2745098039%);border:1px solid #aaaa33;border-radius:2px;pointer-events:none;z-index:100;}#mermaid-svg .flowchartTitleText{text-anchor:middle;font-size:18px;fill:#333;}#mermaid-svg rect.text{fill:none;stroke-width:0;}#mermaid-svg .icon-shape,#mermaid-svg .image-shape{background-color:rgba(232,232,232, 0.8);text-align:center;}#mermaid-svg .icon-shape p,#mermaid-svg .image-shape p{background-color:rgba(232,232,232, 0.8);padding:2px;}#mermaid-svg .icon-shape rect,#mermaid-svg .image-shape rect{opacity:0.5;background-color:rgba(232,232,232, 0.8);fill:rgba(232,232,232, 0.8);}#mermaid-svg .label-icon{display:inline-block;height:1em;overflow:visible;vertical-align:-0.125em;}#mermaid-svg .node .label-icon path{fill:currentColor;stroke:revert;stroke-width:revert;}#mermaid-svg :root{--mermaid-font-family:&quot;trebuchet ms&quot;,verdana,arial,sans-serif;}#mermaid-svg .inputOutput&gt;*{fill:#e3f2fd!important;stroke:#1976d2!important;stroke-width:2px!important;color:#000!important;}#mermaid-svg .inputOutput span{fill:#e3f2fd!important;stroke:#1976d2!important;stroke-width:2px!important;color:#000!important;}#mermaid-svg .inputOutput tspan{fill:#000!important;}#mermaid-svg .embedding&gt;*{fill:#f3e5f5!important;stroke:#7b1fa2!important;stroke-width:2px!important;color:#000!important;}#mermaid-svg .embedding span{fill:#f3e5f5!important;stroke:#7b1fa2!important;stroke-width:2px!important;color:#000!important;}#mermaid-svg .embedding tspan{fill:#000!important;}#mermaid-svg .attention&gt;*{fill:#fff3e0!important;stroke:#f57c00!important;stroke-width:2px!important;color:#000!important;}#mermaid-svg .attention span{fill:#fff3e0!important;stroke:#f57c00!important;stroke-width:2px!important;color:#000!important;}#mermaid-svg .attention tspan{fill:#000!important;}#mermaid-svg .maskedAttention&gt;*{fill:#ffebee!important;stroke:#d32f2f!important;stroke-width:2px!important;color:#000!important;}#mermaid-svg .maskedAttention span{fill:#ffebee!important;stroke:#d32f2f!important;stroke-width:2px!important;color:#000!important;}#mermaid-svg .maskedAttention tspan{fill:#000!important;}#mermaid-svg .crossAttention&gt;*{fill:#e8f5e8!important;stroke:#388e3c!important;stroke-width:2px!important;color:#000!important;}#mermaid-svg .crossAttention span{fill:#e8f5e8!important;stroke:#388e3c!important;stroke-width:2px!important;color:#000!important;}#mermaid-svg .crossAttention tspan{fill:#000!important;}#mermaid-svg .layerNorm&gt;*{fill:#fff9c4!important;stroke:#f9a825!important;stroke-width:2px!important;color:#000!important;}#mermaid-svg .layerNorm span{fill:#fff9c4!important;stroke:#f9a825!important;stroke-width:2px!important;color:#000!important;}#mermaid-svg .layerNorm tspan{fill:#000!important;}#mermaid-svg .addNorm&gt;*{fill:#fff9c4!important;stroke:#f9a825!important;stroke-width:2px!important;color:#000!important;}#mermaid-svg .addNorm span{fill:#fff9c4!important;stroke:#f9a825!important;stroke-width:2px!important;color:#000!important;}#mermaid-svg .addNorm tspan{fill:#000!important;}#mermaid-svg .feedforward&gt;*{fill:#e8f5e8!important;stroke:#4caf50!important;stroke-width:2px!important;color:#000!important;}#mermaid-svg .feedforward span{fill:#e8f5e8!important;stroke:#4caf50!important;stroke-width:2px!important;color:#000!important;}#mermaid-svg .feedforward tspan{fill:#000!important;}#mermaid-svg .linear&gt;*{fill:#e1bee7!important;stroke:#8e24aa!important;stroke-width:2px!important;color:#000!important;}#mermaid-svg .linear span{fill:#e1bee7!important;stroke:#8e24aa!important;stroke-width:2px!important;color:#000!important;}#mermaid-svg .linear tspan{fill:#000!important;}#mermaid-svg .softmax&gt;*{fill:#fce4ec!important;stroke:#c2185b!important;stroke-width:2px!important;color:#000!important;}#mermaid-svg .softmax span{fill:#fce4ec!important;stroke:#c2185b!important;stroke-width:2px!important;color:#000!important;}#mermaid-svg .softmax tspan{fill:#000!important;}#mermaid-svg .addNode&gt;*{fill:#c8e6c9!important;stroke:#388e3c!important;stroke-width:3px!important;color:#000!important;}#mermaid-svg .addNode span{fill:#c8e6c9!important;stroke:#388e3c!important;stroke-width:3px!important;color:#000!important;}#mermaid-svg .addNode tspan{fill:#000!important;}#mermaid-svg .stack&gt;*{fill:transparent!important;stroke:#333!important;stroke-width:2px!important;stroke-dasharray:5 5!important;}#mermaid-svg .stack span{fill:transparent!important;stroke:#333!important;stroke-width:2px!important;stroke-dasharray:5 5!important;}#mermaid-svg .label&gt;*{fill:transparent!important;stroke:none!important;color:#666!important;font-weight:bold!important;font-size:12px!important;}#mermaid-svg .label span{fill:transparent!important;stroke:none!important;color:#666!important;font-weight:bold!important;font-size:12px!important;}#mermaid-svg .label tspan{fill:#666!important;}</style><g><marker id=\"mermaid-svg_flowchart-v2-pointEnd\" class=\"marker flowchart-v2\" viewBox=\"0 0 10 10\" refX=\"5\" refY=\"5\" markerUnits=\"userSpaceOnUse\" markerWidth=\"8\" markerHeight=\"8\" orient=\"auto\"><path d=\"M 0 0 L 10 5 L 0 10 z\" class=\"arrowMarkerPath\" style=\"stroke-width: 1; stroke-dasharray: 1, 0;\"/></marker><marker id=\"mermaid-svg_flowchart-v2-pointStart\" class=\"marker flowchart-v2\" viewBox=\"0 0 10 10\" refX=\"4.5\" refY=\"5\" markerUnits=\"userSpaceOnUse\" markerWidth=\"8\" markerHeight=\"8\" orient=\"auto\"><path d=\"M 0 5 L 10 10 L 10 0 z\" class=\"arrowMarkerPath\" style=\"stroke-width: 1; stroke-dasharray: 1, 0;\"/></marker><marker id=\"mermaid-svg_flowchart-v2-circleEnd\" class=\"marker flowchart-v2\" viewBox=\"0 0 10 10\" refX=\"11\" refY=\"5\" markerUnits=\"userSpaceOnUse\" markerWidth=\"11\" markerHeight=\"11\" orient=\"auto\"><circle cx=\"5\" cy=\"5\" r=\"5\" class=\"arrowMarkerPath\" style=\"stroke-width: 1; stroke-dasharray: 1, 0;\"/></marker><marker id=\"mermaid-svg_flowchart-v2-circleStart\" class=\"marker flowchart-v2\" viewBox=\"0 0 10 10\" refX=\"-1\" refY=\"5\" markerUnits=\"userSpaceOnUse\" markerWidth=\"11\" markerHeight=\"11\" orient=\"auto\"><circle cx=\"5\" cy=\"5\" r=\"5\" class=\"arrowMarkerPath\" style=\"stroke-width: 1; stroke-dasharray: 1, 0;\"/></marker><marker id=\"mermaid-svg_flowchart-v2-crossEnd\" class=\"marker cross flowchart-v2\" viewBox=\"0 0 11 11\" refX=\"12\" refY=\"5.2\" markerUnits=\"userSpaceOnUse\" markerWidth=\"11\" markerHeight=\"11\" orient=\"auto\"><path d=\"M 1,1 l 9,9 M 10,1 l -9,9\" class=\"arrowMarkerPath\" style=\"stroke-width: 2; stroke-dasharray: 1, 0;\"/></marker><marker id=\"mermaid-svg_flowchart-v2-crossStart\" class=\"marker cross flowchart-v2\" viewBox=\"0 0 11 11\" refX=\"-1\" refY=\"5.2\" markerUnits=\"userSpaceOnUse\" markerWidth=\"11\" markerHeight=\"11\" orient=\"auto\"><path d=\"M 1,1 l 9,9 M 10,1 l -9,9\" class=\"arrowMarkerPath\" style=\"stroke-width: 2; stroke-dasharray: 1, 0;\"/></marker><g class=\"root\"><g class=\"clusters\"><g class=\"cluster stack\" id=\"DECODER\" data-look=\"classic\"><rect style=\"fill:transparent !important;stroke:#333 !important;stroke-width:2px !important;stroke-dasharray:5 5 !important\" x=\"355.2109375\" y=\"515\" width=\"329.28125\" height=\"1069\"/><g class=\"cluster-label \" transform=\"translate(479.84375, 515)\"><foreignObject width=\"80.015625\" height=\"24\"><div xmlns=\"http://www.w3.org/1999/xhtml\" style=\"display: table-cell; white-space: nowrap; line-height: 1.5; max-width: 200px; text-align: center;\"><span class=\"nodeLabel \"><p>DECODER</p></span></div></foreignObject></g></g><g class=\"cluster stack\" id=\"ENCODER\" data-look=\"classic\"><rect style=\"fill:transparent !important;stroke:#333 !important;stroke-width:2px !important;stroke-dasharray:5 5 !important\" x=\"8\" y=\"222\" width=\"311.046875\" height=\"775\"/><g class=\"cluster-label \" transform=\"translate(123.515625, 222)\"><foreignObject width=\"80.015625\" height=\"24\"><div xmlns=\"http://www.w3.org/1999/xhtml\" style=\"display: table-cell; white-space: nowrap; line-height: 1.5; max-width: 200px; text-align: center;\"><span class=\"nodeLabel \"><p>ENCODER</p></span></div></foreignObject></g></g></g><g class=\"edgePaths\"><path d=\"M112.336,313L112.336,321.667C112.336,330.333,112.336,347.667,112.336,361.333C112.336,375,112.336,385,112.336,390L112.336,395\" id=\"L_ENC_LAYER_NORM1_ENC_MHA_0\" class=\" edge-thickness-normal edge-pattern-solid edge-thickness-normal edge-pattern-solid flowchart-link\" style=\"\" marker-end=\"url(#mermaid-svg_flowchart-v2-pointEnd)\"/><path d=\"M112.336,465L112.336,469.167C112.336,473.333,112.336,481.667,112.336,490C112.336,498.333,112.336,506.667,116.287,514.544C120.238,522.421,128.14,529.841,132.091,533.552L136.042,537.262\" id=\"L_ENC_MHA_ENC_ADD_NORM1_0\" class=\" edge-thickness-normal edge-pattern-solid edge-thickness-normal edge-pattern-solid flowchart-link\" style=\"\" marker-end=\"url(#mermaid-svg_flowchart-v2-pointEnd)\"/><path d=\"M142.927,588L137.83,593.667C132.733,599.333,122.538,610.667,117.441,624.333C112.344,638,112.344,654,112.344,662L112.344,670\" id=\"L_ENC_ADD_NORM1_ENC_LAYER_NORM2_0\" class=\" edge-thickness-normal edge-pattern-solid edge-thickness-normal edge-pattern-solid flowchart-link\" style=\"\" marker-end=\"url(#mermaid-svg_flowchart-v2-pointEnd)\"/><path d=\"M112.344,722L112.344,730.667C112.344,739.333,112.344,756.667,112.344,770.333C112.344,784,112.344,794,112.344,799L112.344,804\" id=\"L_ENC_LAYER_NORM2_ENC_FF_0\" class=\" edge-thickness-normal edge-pattern-solid edge-thickness-normal edge-pattern-solid flowchart-link\" style=\"\" marker-end=\"url(#mermaid-svg_flowchart-v2-pointEnd)\"/><path d=\"M112.344,874L112.344,878.167C112.344,882.333,112.344,890.667,116.294,898.544C120.245,906.421,128.146,913.841,132.096,917.551L136.046,921.262\" id=\"L_ENC_FF_ENC_ADD_NORM2_0\" class=\" edge-thickness-normal edge-pattern-solid edge-thickness-normal edge-pattern-solid flowchart-link\" style=\"\" marker-end=\"url(#mermaid-svg_flowchart-v2-pointEnd)\"/><path d=\"M477.547,588L477.547,593.667C477.547,599.333,477.547,610.667,477.547,621.333C477.547,632,477.547,642,477.547,647L477.547,652\" id=\"L_DEC_LAYER_NORM1_DEC_MMHA_0\" class=\" edge-thickness-normal edge-pattern-solid edge-thickness-normal edge-pattern-solid flowchart-link\" style=\"\" marker-end=\"url(#mermaid-svg_flowchart-v2-pointEnd)\"/><path d=\"M477.547,740L477.547,745.667C477.547,751.333,477.547,762.667,483.332,774.997C489.117,787.327,500.688,800.653,506.473,807.316L512.259,813.98\" id=\"L_DEC_MMHA_DEC_ADD_NORM1_0\" class=\" edge-thickness-normal edge-pattern-solid edge-thickness-normal edge-pattern-solid flowchart-link\" style=\"\" marker-end=\"url(#mermaid-svg_flowchart-v2-pointEnd)\"/><path d=\"M512.891,865L507.501,870.667C502.111,876.333,491.331,887.667,485.941,896.833C480.551,906,480.551,913,480.551,916.5L480.551,920\" id=\"L_DEC_ADD_NORM1_DEC_LAYER_NORM2_0\" class=\" edge-thickness-normal edge-pattern-solid edge-thickness-normal edge-pattern-solid flowchart-link\" style=\"\" marker-end=\"url(#mermaid-svg_flowchart-v2-pointEnd)\"/><path d=\"M480.551,972L480.551,976.167C480.551,980.333,480.551,988.667,480.551,998.5C480.551,1008.333,480.551,1019.667,479.427,1030.349C478.304,1041.032,476.058,1051.064,474.934,1056.081L473.811,1061.097\" id=\"L_DEC_LAYER_NORM2_DEC_CROSS_ATTN_0\" class=\" edge-thickness-normal edge-pattern-solid edge-thickness-normal edge-pattern-solid flowchart-link\" style=\"\" marker-end=\"url(#mermaid-svg_flowchart-v2-pointEnd)\"/><path d=\"M465.547,1131L465.547,1135.167C465.547,1139.333,465.547,1147.667,469.74,1155.557C473.932,1163.448,482.318,1170.896,486.51,1174.62L490.703,1178.344\" id=\"L_DEC_CROSS_ATTN_DEC_ADD_NORM2_0\" class=\" edge-thickness-normal edge-pattern-solid edge-thickness-normal edge-pattern-solid flowchart-link\" style=\"\" marker-end=\"url(#mermaid-svg_flowchart-v2-pointEnd)\"/><path d=\"M492.226,1229L487.28,1233.167C482.334,1237.333,472.443,1245.667,467.497,1253.333C462.551,1261,462.551,1268,462.551,1271.5L462.551,1275\" id=\"L_DEC_ADD_NORM2_DEC_LAYER_NORM3_0\" class=\" edge-thickness-normal edge-pattern-solid edge-thickness-normal edge-pattern-solid flowchart-link\" style=\"\" marker-end=\"url(#mermaid-svg_flowchart-v2-pointEnd)\"/><path d=\"M462.551,1327L462.551,1332.667C462.551,1338.333,462.551,1349.667,462.551,1360.333C462.551,1371,462.551,1381,462.551,1386L462.551,1391\" id=\"L_DEC_LAYER_NORM3_DEC_FF_0\" class=\" edge-thickness-normal edge-pattern-solid edge-thickness-normal edge-pattern-solid flowchart-link\" style=\"\" marker-end=\"url(#mermaid-svg_flowchart-v2-pointEnd)\"/><path d=\"M462.551,1461L462.551,1465.167C462.551,1469.333,462.551,1477.667,466.987,1485.57C471.423,1493.474,480.295,1500.949,484.731,1504.686L489.167,1508.423\" id=\"L_DEC_FF_DEC_ADD_NORM3_0\" class=\" edge-thickness-normal edge-pattern-solid edge-thickness-normal edge-pattern-solid flowchart-link\" style=\"\" marker-end=\"url(#mermaid-svg_flowchart-v2-pointEnd)\"/><path d=\"M78.844,74L78.844,78.167C78.844,82.333,78.844,90.667,90.951,101.758C103.059,112.85,127.273,126.699,139.381,133.624L151.488,140.549\" id=\"L_INPUTS_ADD1_0\" class=\" edge-thickness-normal edge-pattern-solid edge-thickness-normal edge-pattern-solid flowchart-link\" style=\"\" marker-end=\"url(#mermaid-svg_flowchart-v2-pointEnd)\"/><path d=\"M250.188,74L250.188,78.167C250.188,82.333,250.188,90.667,238.08,101.758C225.973,112.85,201.758,126.699,189.651,133.624L177.543,140.549\" id=\"L_POS_ENC1_ADD1_0\" class=\" edge-thickness-normal edge-pattern-solid edge-thickness-normal edge-pattern-solid flowchart-link\" style=\"\" marker-end=\"url(#mermaid-svg_flowchart-v2-pointEnd)\"/><path d=\"M156.491,155.535L149.132,162.446C141.773,169.357,127.054,183.178,119.695,194.256C112.336,205.333,112.336,213.667,112.336,224.333C112.336,235,112.336,248,112.336,254.5L112.336,261\" id=\"L_ADD1_ENC_LAYER_NORM1_0\" class=\" edge-thickness-normal edge-pattern-solid edge-thickness-normal edge-pattern-solid flowchart-link\" style=\"\" marker-end=\"url(#mermaid-svg_flowchart-v2-pointEnd)\"/><path d=\"M516.316,331L516.316,336.667C516.316,342.333,516.316,353.667,528.782,368.97C541.248,384.274,566.179,403.547,578.645,413.184L591.111,422.821\" id=\"L_OUTPUTS_ADD2_0\" class=\" edge-thickness-normal edge-pattern-solid edge-thickness-normal edge-pattern-solid flowchart-link\" style=\"\" marker-end=\"url(#mermaid-svg_flowchart-v2-pointEnd)\"/><path d=\"M689.652,322L689.652,329.167C689.652,336.333,689.652,350.667,677.187,367.47C664.721,384.274,639.789,403.547,627.324,413.184L614.858,422.821\" id=\"L_POS_ENC2_ADD2_0\" class=\" edge-thickness-normal edge-pattern-solid edge-thickness-normal edge-pattern-solid flowchart-link\" style=\"\" marker-end=\"url(#mermaid-svg_flowchart-v2-pointEnd)\"/><path d=\"M595.189,439.772L586.793,448.143C578.397,456.515,561.605,473.257,553.209,485.795C544.813,498.333,544.813,506.667,539.631,514.607C534.45,522.548,524.088,530.097,518.907,533.871L513.726,537.645\" id=\"L_ADD2_DEC_LAYER_NORM1_0\" class=\" edge-thickness-normal edge-pattern-solid edge-thickness-normal edge-pattern-solid flowchart-link\" style=\"\" marker-end=\"url(#mermaid-svg_flowchart-v2-pointEnd)\"/><path d=\"M520.715,1559L520.715,1563.167C520.715,1567.333,520.715,1575.667,520.715,1584C520.715,1592.333,520.715,1600.667,520.715,1608.333C520.715,1616,520.715,1623,520.715,1626.5L520.715,1630\" id=\"L_DEC_ADD_NORM3_LINEAR_0\" class=\" edge-thickness-normal edge-pattern-solid edge-thickness-normal edge-pattern-solid flowchart-link\" style=\"\" marker-end=\"url(#mermaid-svg_flowchart-v2-pointEnd)\"/><path d=\"M520.715,1700L520.715,1704.167C520.715,1708.333,520.715,1716.667,520.715,1724.333C520.715,1732,520.715,1739,520.715,1742.5L520.715,1746\" id=\"L_LINEAR_SOFTMAX_0\" class=\" edge-thickness-normal edge-pattern-solid edge-thickness-normal edge-pattern-solid flowchart-link\" style=\"\" marker-end=\"url(#mermaid-svg_flowchart-v2-pointEnd)\"/><path d=\"M520.715,1798L520.715,1802.167C520.715,1806.333,520.715,1814.667,520.715,1822.333C520.715,1830,520.715,1837,520.715,1840.5L520.715,1844\" id=\"L_SOFTMAX_OUTPUT_PROB_0\" class=\" edge-thickness-normal edge-pattern-solid edge-thickness-normal edge-pattern-solid flowchart-link\" style=\"\" marker-end=\"url(#mermaid-svg_flowchart-v2-pointEnd)\"/><path d=\"M164.516,972L164.516,976.167C164.516,980.333,164.516,988.667,207.993,998.5C251.471,1008.333,338.427,1019.667,384.959,1030.428C431.491,1041.19,437.6,1051.379,440.654,1056.474L443.708,1061.569\" id=\"L_ENC_ADD_NORM2_DEC_CROSS_ATTN_0\" class=\" edge-thickness-normal edge-pattern-dotted edge-thickness-normal edge-pattern-solid flowchart-link\" style=\"\" marker-end=\"url(#mermaid-svg_flowchart-v2-pointEnd)\"/><path d=\"M172.784,155.266L180.699,162.222C188.614,169.178,204.444,183.089,212.359,194.211C220.273,205.333,220.273,213.667,220.273,229C220.273,244.333,220.273,266.667,220.273,290.5C220.273,314.333,220.273,339.667,220.273,363.5C220.273,387.333,220.273,409.667,220.273,430.5C220.273,451.333,220.273,470.667,220.273,484.5C220.273,498.333,220.273,506.667,216.033,514.56C211.792,522.453,203.311,529.906,199.071,533.633L194.83,537.36\" id=\"L_ADD1_ENC_ADD_NORM1_0\" class=\" edge-thickness-normal edge-pattern-dotted edge-thickness-normal edge-pattern-solid flowchart-link\" style=\"\" marker-end=\"url(#mermaid-svg_flowchart-v2-pointEnd)\"/><path d=\"M187.588,588L193.035,593.667C198.483,599.333,209.378,610.667,214.826,629C220.273,647.333,220.273,672.667,220.273,698C220.273,723.333,220.273,748.667,220.273,772.5C220.273,796.333,220.273,818.667,220.273,839.5C220.273,860.333,220.273,879.667,216.033,893.06C211.792,906.453,203.311,913.906,199.071,917.633L194.83,921.36\" id=\"L_ENC_ADD_NORM1_ENC_ADD_NORM2_0\" class=\" edge-thickness-normal edge-pattern-dotted edge-thickness-normal edge-pattern-solid flowchart-link\" style=\"\" marker-end=\"url(#mermaid-svg_flowchart-v2-pointEnd)\"/><path d=\"M604.855,442.848L606.21,450.706C607.565,458.565,610.274,474.283,611.629,486.308C612.984,498.333,612.984,506.667,612.984,519C612.984,531.333,612.984,547.667,612.984,565.5C612.984,583.333,612.984,602.667,612.984,625C612.984,647.333,612.984,672.667,612.984,698C612.984,723.333,612.984,748.667,605.223,768.063C597.462,787.46,581.94,800.92,574.179,807.65L566.418,814.379\" id=\"L_ADD2_DEC_ADD_NORM1_0\" class=\" edge-thickness-normal edge-pattern-dotted edge-thickness-normal edge-pattern-solid flowchart-link\" style=\"\" marker-end=\"url(#mermaid-svg_flowchart-v2-pointEnd)\"/><path d=\"M567.691,865L575.24,870.667C582.789,876.333,597.886,887.667,605.435,901.5C612.984,915.333,612.984,931.667,612.984,948C612.984,964.333,612.984,980.667,612.984,994.5C612.984,1008.333,612.984,1019.667,612.984,1036.5C612.984,1053.333,612.984,1075.667,612.984,1096.5C612.984,1117.333,612.984,1136.667,605.727,1150.187C598.47,1163.708,583.955,1171.416,576.698,1175.27L569.441,1179.124\" id=\"L_DEC_ADD_NORM1_DEC_ADD_NORM2_0\" class=\" edge-thickness-normal edge-pattern-dotted edge-thickness-normal edge-pattern-solid flowchart-link\" style=\"\" marker-end=\"url(#mermaid-svg_flowchart-v2-pointEnd)\"/><path d=\"M565.908,1229L573.754,1233.167C581.6,1237.333,597.292,1245.667,605.138,1258C612.984,1270.333,612.984,1286.667,612.984,1304.5C612.984,1322.333,612.984,1341.667,612.984,1362.5C612.984,1383.333,612.984,1405.667,612.984,1426.5C612.984,1447.333,612.984,1466.667,605.727,1480.187C598.47,1493.708,583.955,1501.416,576.698,1505.27L569.441,1509.124\" id=\"L_DEC_ADD_NORM2_DEC_ADD_NORM3_0\" class=\" edge-thickness-normal edge-pattern-dotted edge-thickness-normal edge-pattern-solid flowchart-link\" style=\"\" marker-end=\"url(#mermaid-svg_flowchart-v2-pointEnd)\"/><path d=\"M299.047,172L299.047,176.167C299.047,180.333,299.047,188.667,299.047,196.333C299.047,204,299.047,211,299.047,214.5L299.047,218\" id=\"L_NX_ENC_ENCODER_0\" class=\" edge-thickness-normal edge-pattern-dotted edge-thickness-normal edge-pattern-solid flowchart-link\" style=\"\" marker-end=\"url(#mermaid-svg_flowchart-v2-pointEnd)\"/><path d=\"M453.48,456L453.48,461.667C453.48,467.333,453.48,478.667,453.48,487.833C453.48,497,453.48,504,453.48,507.5L453.48,511\" id=\"L_NX_DEC_DECODER_0\" class=\" edge-thickness-normal edge-pattern-dotted edge-thickness-normal edge-pattern-solid flowchart-link\" style=\"\" marker-end=\"url(#mermaid-svg_flowchart-v2-pointEnd)\"/></g><g class=\"edgeLabels\"><g class=\"edgeLabel\"><g class=\"label\" transform=\"translate(0, 0)\"><foreignObject width=\"0\" height=\"0\"><div xmlns=\"http://www.w3.org/1999/xhtml\" class=\"labelBkg\" style=\"display: table-cell; white-space: nowrap; line-height: 1.5; max-width: 200px; text-align: center;\"><span class=\"edgeLabel \"/></div></foreignObject></g></g><g class=\"edgeLabel\"><g class=\"label\" transform=\"translate(0, 0)\"><foreignObject width=\"0\" height=\"0\"><div xmlns=\"http://www.w3.org/1999/xhtml\" class=\"labelBkg\" style=\"display: table-cell; white-space: nowrap; line-height: 1.5; max-width: 200px; text-align: center;\"><span class=\"edgeLabel \"/></div></foreignObject></g></g><g class=\"edgeLabel\"><g class=\"label\" transform=\"translate(0, 0)\"><foreignObject width=\"0\" height=\"0\"><div xmlns=\"http://www.w3.org/1999/xhtml\" class=\"labelBkg\" style=\"display: table-cell; white-space: nowrap; line-height: 1.5; max-width: 200px; text-align: center;\"><span class=\"edgeLabel \"/></div></foreignObject></g></g><g class=\"edgeLabel\"><g class=\"label\" transform=\"translate(0, 0)\"><foreignObject width=\"0\" height=\"0\"><div xmlns=\"http://www.w3.org/1999/xhtml\" class=\"labelBkg\" style=\"display: table-cell; white-space: nowrap; line-height: 1.5; max-width: 200px; text-align: center;\"><span class=\"edgeLabel \"/></div></foreignObject></g></g><g class=\"edgeLabel\"><g class=\"label\" transform=\"translate(0, 0)\"><foreignObject width=\"0\" height=\"0\"><div xmlns=\"http://www.w3.org/1999/xhtml\" class=\"labelBkg\" style=\"display: table-cell; white-space: nowrap; line-height: 1.5; max-width: 200px; text-align: center;\"><span class=\"edgeLabel \"/></div></foreignObject></g></g><g class=\"edgeLabel\"><g class=\"label\" transform=\"translate(0, 0)\"><foreignObject width=\"0\" height=\"0\"><div xmlns=\"http://www.w3.org/1999/xhtml\" class=\"labelBkg\" style=\"display: table-cell; white-space: nowrap; line-height: 1.5; max-width: 200px; text-align: center;\"><span class=\"edgeLabel \"/></div></foreignObject></g></g><g class=\"edgeLabel\"><g class=\"label\" transform=\"translate(0, 0)\"><foreignObject width=\"0\" height=\"0\"><div xmlns=\"http://www.w3.org/1999/xhtml\" class=\"labelBkg\" style=\"display: table-cell; white-space: nowrap; line-height: 1.5; max-width: 200px; text-align: center;\"><span class=\"edgeLabel \"/></div></foreignObject></g></g><g class=\"edgeLabel\"><g class=\"label\" transform=\"translate(0, 0)\"><foreignObject width=\"0\" height=\"0\"><div xmlns=\"http://www.w3.org/1999/xhtml\" class=\"labelBkg\" style=\"display: table-cell; white-space: nowrap; line-height: 1.5; max-width: 200px; text-align: center;\"><span class=\"edgeLabel \"/></div></foreignObject></g></g><g class=\"edgeLabel\"><g class=\"label\" transform=\"translate(0, 0)\"><foreignObject width=\"0\" height=\"0\"><div xmlns=\"http://www.w3.org/1999/xhtml\" class=\"labelBkg\" style=\"display: table-cell; white-space: nowrap; line-height: 1.5; max-width: 200px; text-align: center;\"><span class=\"edgeLabel \"/></div></foreignObject></g></g><g class=\"edgeLabel\"><g class=\"label\" transform=\"translate(0, 0)\"><foreignObject width=\"0\" height=\"0\"><div xmlns=\"http://www.w3.org/1999/xhtml\" class=\"labelBkg\" style=\"display: table-cell; white-space: nowrap; line-height: 1.5; max-width: 200px; text-align: center;\"><span class=\"edgeLabel \"/></div></foreignObject></g></g><g class=\"edgeLabel\"><g class=\"label\" transform=\"translate(0, 0)\"><foreignObject width=\"0\" height=\"0\"><div xmlns=\"http://www.w3.org/1999/xhtml\" class=\"labelBkg\" style=\"display: table-cell; white-space: nowrap; line-height: 1.5; max-width: 200px; text-align: center;\"><span class=\"edgeLabel \"/></div></foreignObject></g></g><g class=\"edgeLabel\"><g class=\"label\" transform=\"translate(0, 0)\"><foreignObject width=\"0\" height=\"0\"><div xmlns=\"http://www.w3.org/1999/xhtml\" class=\"labelBkg\" style=\"display: table-cell; white-space: nowrap; line-height: 1.5; max-width: 200px; text-align: center;\"><span class=\"edgeLabel \"/></div></foreignObject></g></g><g class=\"edgeLabel\"><g class=\"label\" transform=\"translate(0, 0)\"><foreignObject width=\"0\" height=\"0\"><div xmlns=\"http://www.w3.org/1999/xhtml\" class=\"labelBkg\" style=\"display: table-cell; white-space: nowrap; line-height: 1.5; max-width: 200px; text-align: center;\"><span class=\"edgeLabel \"/></div></foreignObject></g></g><g class=\"edgeLabel\"><g class=\"label\" transform=\"translate(0, 0)\"><foreignObject width=\"0\" height=\"0\"><div xmlns=\"http://www.w3.org/1999/xhtml\" class=\"labelBkg\" style=\"display: table-cell; white-space: nowrap; line-height: 1.5; max-width: 200px; text-align: center;\"><span class=\"edgeLabel \"/></div></foreignObject></g></g><g class=\"edgeLabel\"><g class=\"label\" transform=\"translate(0, 0)\"><foreignObject width=\"0\" height=\"0\"><div xmlns=\"http://www.w3.org/1999/xhtml\" class=\"labelBkg\" style=\"display: table-cell; white-space: nowrap; line-height: 1.5; max-width: 200px; text-align: center;\"><span class=\"edgeLabel \"/></div></foreignObject></g></g><g class=\"edgeLabel\"><g class=\"label\" transform=\"translate(0, 0)\"><foreignObject width=\"0\" height=\"0\"><div xmlns=\"http://www.w3.org/1999/xhtml\" class=\"labelBkg\" style=\"display: table-cell; white-space: nowrap; line-height: 1.5; max-width: 200px; text-align: center;\"><span class=\"edgeLabel \"/></div></foreignObject></g></g><g class=\"edgeLabel\"><g class=\"label\" transform=\"translate(0, 0)\"><foreignObject width=\"0\" height=\"0\"><div xmlns=\"http://www.w3.org/1999/xhtml\" class=\"labelBkg\" style=\"display: table-cell; white-space: nowrap; line-height: 1.5; max-width: 200px; text-align: center;\"><span class=\"edgeLabel \"/></div></foreignObject></g></g><g class=\"edgeLabel\"><g class=\"label\" transform=\"translate(0, 0)\"><foreignObject width=\"0\" height=\"0\"><div xmlns=\"http://www.w3.org/1999/xhtml\" class=\"labelBkg\" style=\"display: table-cell; white-space: nowrap; line-height: 1.5; max-width: 200px; text-align: center;\"><span class=\"edgeLabel \"/></div></foreignObject></g></g><g class=\"edgeLabel\"><g class=\"label\" transform=\"translate(0, 0)\"><foreignObject width=\"0\" height=\"0\"><div xmlns=\"http://www.w3.org/1999/xhtml\" class=\"labelBkg\" style=\"display: table-cell; white-space: nowrap; line-height: 1.5; max-width: 200px; text-align: center;\"><span class=\"edgeLabel \"/></div></foreignObject></g></g><g class=\"edgeLabel\"><g class=\"label\" transform=\"translate(0, 0)\"><foreignObject width=\"0\" height=\"0\"><div xmlns=\"http://www.w3.org/1999/xhtml\" class=\"labelBkg\" style=\"display: table-cell; white-space: nowrap; line-height: 1.5; max-width: 200px; text-align: center;\"><span class=\"edgeLabel \"/></div></foreignObject></g></g><g class=\"edgeLabel\"><g class=\"label\" transform=\"translate(0, 0)\"><foreignObject width=\"0\" height=\"0\"><div xmlns=\"http://www.w3.org/1999/xhtml\" class=\"labelBkg\" style=\"display: table-cell; white-space: nowrap; line-height: 1.5; max-width: 200px; text-align: center;\"><span class=\"edgeLabel \"/></div></foreignObject></g></g><g class=\"edgeLabel\"><g class=\"label\" transform=\"translate(0, 0)\"><foreignObject width=\"0\" height=\"0\"><div xmlns=\"http://www.w3.org/1999/xhtml\" class=\"labelBkg\" style=\"display: table-cell; white-space: nowrap; line-height: 1.5; max-width: 200px; text-align: center;\"><span class=\"edgeLabel \"/></div></foreignObject></g></g><g class=\"edgeLabel\" transform=\"translate(302.20837, 1014.94612)\"><g class=\"label\" transform=\"translate(-10.0078125, -9)\"><foreignObject width=\"20.015625\" height=\"18\"><div xmlns=\"http://www.w3.org/1999/xhtml\" class=\"labelBkg\" style=\"display: table-cell; white-space: nowrap; line-height: 1.5; max-width: 200px; text-align: center;\"><span class=\"edgeLabel \"><p>K,V</p></span></div></foreignObject></g></g><g class=\"edgeLabel\" transform=\"translate(220.2734375, 365)\"><g class=\"label\" transform=\"translate(-23.015625, -9)\"><foreignObject width=\"46.03125\" height=\"18\"><div xmlns=\"http://www.w3.org/1999/xhtml\" class=\"labelBkg\" style=\"display: table-cell; white-space: nowrap; line-height: 1.5; max-width: 200px; text-align: center;\"><span class=\"edgeLabel \"><p>residual</p></span></div></foreignObject></g></g><g class=\"edgeLabel\" transform=\"translate(220.2734375, 774)\"><g class=\"label\" transform=\"translate(-23.015625, -9)\"><foreignObject width=\"46.03125\" height=\"18\"><div xmlns=\"http://www.w3.org/1999/xhtml\" class=\"labelBkg\" style=\"display: table-cell; white-space: nowrap; line-height: 1.5; max-width: 200px; text-align: center;\"><span class=\"edgeLabel \"><p>residual</p></span></div></foreignObject></g></g><g class=\"edgeLabel\" transform=\"translate(612.984375, 622)\"><g class=\"label\" transform=\"translate(-23.015625, -9)\"><foreignObject width=\"46.03125\" height=\"18\"><div xmlns=\"http://www.w3.org/1999/xhtml\" class=\"labelBkg\" style=\"display: table-cell; white-space: nowrap; line-height: 1.5; max-width: 200px; text-align: center;\"><span class=\"edgeLabel \"><p>residual</p></span></div></foreignObject></g></g><g class=\"edgeLabel\" transform=\"translate(612.984375, 1031)\"><g class=\"label\" transform=\"translate(-23.015625, -9)\"><foreignObject width=\"46.03125\" height=\"18\"><div xmlns=\"http://www.w3.org/1999/xhtml\" class=\"labelBkg\" style=\"display: table-cell; white-space: nowrap; line-height: 1.5; max-width: 200px; text-align: center;\"><span class=\"edgeLabel \"><p>residual</p></span></div></foreignObject></g></g><g class=\"edgeLabel\" transform=\"translate(612.984375, 1361)\"><g class=\"label\" transform=\"translate(-23.015625, -9)\"><foreignObject width=\"46.03125\" height=\"18\"><div xmlns=\"http://www.w3.org/1999/xhtml\" class=\"labelBkg\" style=\"display: table-cell; white-space: nowrap; line-height: 1.5; max-width: 200px; text-align: center;\"><span class=\"edgeLabel \"><p>residual</p></span></div></foreignObject></g></g><g class=\"edgeLabel\"><g class=\"label\" transform=\"translate(0, 0)\"><foreignObject width=\"0\" height=\"0\"><div xmlns=\"http://www.w3.org/1999/xhtml\" class=\"labelBkg\" style=\"display: table-cell; white-space: nowrap; line-height: 1.5; max-width: 200px; text-align: center;\"><span class=\"edgeLabel \"/></div></foreignObject></g></g><g class=\"edgeLabel\"><g class=\"label\" transform=\"translate(0, 0)\"><foreignObject width=\"0\" height=\"0\"><div xmlns=\"http://www.w3.org/1999/xhtml\" class=\"labelBkg\" style=\"display: table-cell; white-space: nowrap; line-height: 1.5; max-width: 200px; text-align: center;\"><span class=\"edgeLabel \"/></div></foreignObject></g></g></g><g class=\"nodes\"><g class=\"node default inputOutput \" id=\"flowchart-INPUTS-0\" transform=\"translate(78.84375, 41)\"><rect class=\"basic label-container\" style=\"fill:#e3f2fd !important;stroke:#1976d2 !important;stroke-width:2px !important\" x=\"-62.671875\" y=\"-33\" width=\"125.34375\" height=\"66\"/><g class=\"label\" style=\"color:#000 !important\" transform=\"translate(-32.671875, -18)\"><rect/><foreignObject width=\"65.34375\" height=\"36\"><div xmlns=\"http://www.w3.org/1999/xhtml\" style=\"color: rgb(0, 0, 0) !important; display: table-cell; white-space: nowrap; line-height: 1.5; max-width: 200px; text-align: center;\"><span style=\"color:#000 !important\" class=\"nodeLabel \"><p>Inputs<br/>Embedding</p></span></div></foreignObject></g></g><g class=\"node default inputOutput \" id=\"flowchart-OUTPUTS-1\" transform=\"translate(516.31640625, 289)\"><rect class=\"basic label-container\" style=\"fill:#e3f2fd !important;stroke:#1976d2 !important;stroke-width:2px !important\" x=\"-64.6640625\" y=\"-42\" width=\"129.328125\" height=\"84\"/><g class=\"label\" style=\"color:#000 !important\" transform=\"translate(-34.6640625, -27)\"><rect/><foreignObject width=\"69.328125\" height=\"54\"><div xmlns=\"http://www.w3.org/1999/xhtml\" style=\"color: rgb(0, 0, 0) !important; display: table-cell; white-space: nowrap; line-height: 1.5; max-width: 200px; text-align: center;\"><span style=\"color:#000 !important\" class=\"nodeLabel \"><p>Outputs<br/>Embedding<br/><i>shifted right</i></p></span></div></foreignObject></g></g><g class=\"node default embedding \" id=\"flowchart-POS_ENC1-2\" transform=\"translate(250.1875, 41)\"><rect class=\"basic label-container\" style=\"fill:#f3e5f5 !important;stroke:#7b1fa2 !important;stroke-width:2px !important\" x=\"-58.671875\" y=\"-33\" width=\"117.34375\" height=\"66\"/><g class=\"label\" style=\"color:#000 !important\" transform=\"translate(-28.671875, -18)\"><rect/><foreignObject width=\"57.34375\" height=\"36\"><div xmlns=\"http://www.w3.org/1999/xhtml\" style=\"color: rgb(0, 0, 0) !important; display: table-cell; white-space: nowrap; line-height: 1.5; max-width: 200px; text-align: center;\"><span style=\"color:#000 !important\" class=\"nodeLabel \"><p>Positional<br/>Encoding</p></span></div></foreignObject></g></g><g class=\"node default embedding \" id=\"flowchart-POS_ENC2-3\" transform=\"translate(689.65234375, 289)\"><rect class=\"basic label-container\" style=\"fill:#f3e5f5 !important;stroke:#7b1fa2 !important;stroke-width:2px !important\" x=\"-58.671875\" y=\"-33\" width=\"117.34375\" height=\"66\"/><g class=\"label\" style=\"color:#000 !important\" transform=\"translate(-28.671875, -18)\"><rect/><foreignObject width=\"57.34375\" height=\"36\"><div xmlns=\"http://www.w3.org/1999/xhtml\" style=\"color: rgb(0, 0, 0) !important; display: table-cell; white-space: nowrap; line-height: 1.5; max-width: 200px; text-align: center;\"><span style=\"color:#000 !important\" class=\"nodeLabel \"><p>Positional<br/>Encoding</p></span></div></foreignObject></g></g><g class=\"node default addNode \" id=\"flowchart-ADD1-4\" transform=\"translate(164.515625, 148)\"><circle class=\"basic label-container\" style=\"fill:#c8e6c9 !important;stroke:#388e3c !important;stroke-width:3px !important\" r=\"11.0078125\" cx=\"0\" cy=\"0\"/><g class=\"label\" style=\"color:#000 !important\" transform=\"translate(-3.5078125, -9)\"><rect/><foreignObject width=\"7.015625\" height=\"18\"><div xmlns=\"http://www.w3.org/1999/xhtml\" style=\"color: rgb(0, 0, 0) !important; display: table-cell; white-space: nowrap; line-height: 1.5; max-width: 200px; text-align: center;\"><span style=\"color:#000 !important\" class=\"nodeLabel \">+</span></div></foreignObject></g></g><g class=\"node default addNode \" id=\"flowchart-ADD2-5\" transform=\"translate(602.984375, 432)\"><circle class=\"basic label-container\" style=\"fill:#c8e6c9 !important;stroke:#388e3c !important;stroke-width:3px !important\" r=\"11.0078125\" cx=\"0\" cy=\"0\"/><g class=\"label\" style=\"color:#000 !important\" transform=\"translate(-3.5078125, -9)\"><rect/><foreignObject width=\"7.015625\" height=\"18\"><div xmlns=\"http://www.w3.org/1999/xhtml\" style=\"color: rgb(0, 0, 0) !important; display: table-cell; white-space: nowrap; line-height: 1.5; max-width: 200px; text-align: center;\"><span style=\"color:#000 !important\" class=\"nodeLabel \">+</span></div></foreignObject></g></g><g class=\"node default layerNorm \" id=\"flowchart-ENC_LAYER_NORM1-6\" transform=\"translate(112.3359375, 289)\"><rect class=\"basic label-container\" style=\"fill:#fff9c4 !important;stroke:#f9a825 !important;stroke-width:2px !important\" x=\"-63.3515625\" y=\"-24\" width=\"126.703125\" height=\"48\"/><g class=\"label\" style=\"color:#000 !important\" transform=\"translate(-33.3515625, -9)\"><rect/><foreignObject width=\"66.703125\" height=\"18\"><div xmlns=\"http://www.w3.org/1999/xhtml\" style=\"color: rgb(0, 0, 0) !important; display: table-cell; white-space: nowrap; line-height: 1.5; max-width: 200px; text-align: center;\"><span style=\"color:#000 !important\" class=\"nodeLabel \"><p>Layer Norm</p></span></div></foreignObject></g></g><g class=\"node default attention \" id=\"flowchart-ENC_MHA-7\" transform=\"translate(112.3359375, 432)\"><rect class=\"basic label-container\" style=\"fill:#fff3e0 !important;stroke:#f57c00 !important;stroke-width:2px !important\" x=\"-69.328125\" y=\"-33\" width=\"138.65625\" height=\"66\"/><g class=\"label\" style=\"color:#000 !important\" transform=\"translate(-39.328125, -18)\"><rect/><foreignObject width=\"78.65625\" height=\"36\"><div xmlns=\"http://www.w3.org/1999/xhtml\" style=\"color: rgb(0, 0, 0) !important; display: table-cell; white-space: nowrap; line-height: 1.5; max-width: 200px; text-align: center;\"><span style=\"color:#000 !important\" class=\"nodeLabel \"><p>Multi-Head<br/>Self-Attention</p></span></div></foreignObject></g></g><g class=\"node default addNorm \" id=\"flowchart-ENC_ADD_NORM1-8\" transform=\"translate(164.515625, 564)\"><rect class=\"basic label-container\" style=\"fill:#fff9c4 !important;stroke:#f9a825 !important;stroke-width:2px !important\" x=\"-65\" y=\"-24\" width=\"130\" height=\"48\"/><g class=\"label\" style=\"color:#000 !important\" transform=\"translate(-35, -9)\"><rect/><foreignObject width=\"70\" height=\"18\"><div xmlns=\"http://www.w3.org/1999/xhtml\" style=\"color: rgb(0, 0, 0) !important; display: table-cell; white-space: nowrap; line-height: 1.5; max-width: 200px; text-align: center;\"><span style=\"color:#000 !important\" class=\"nodeLabel \"><p>Add &amp; Norm</p></span></div></foreignObject></g></g><g class=\"node default layerNorm \" id=\"flowchart-ENC_LAYER_NORM2-9\" transform=\"translate(112.34375, 698)\"><rect class=\"basic label-container\" style=\"fill:#fff9c4 !important;stroke:#f9a825 !important;stroke-width:2px !important\" x=\"-63.3515625\" y=\"-24\" width=\"126.703125\" height=\"48\"/><g class=\"label\" style=\"color:#000 !important\" transform=\"translate(-33.3515625, -9)\"><rect/><foreignObject width=\"66.703125\" height=\"18\"><div xmlns=\"http://www.w3.org/1999/xhtml\" style=\"color: rgb(0, 0, 0) !important; display: table-cell; white-space: nowrap; line-height: 1.5; max-width: 200px; text-align: center;\"><span style=\"color:#000 !important\" class=\"nodeLabel \"><p>Layer Norm</p></span></div></foreignObject></g></g><g class=\"node default feedforward \" id=\"flowchart-ENC_FF-10\" transform=\"translate(112.34375, 841)\"><rect class=\"basic label-container\" style=\"fill:#e8f5e8 !important;stroke:#4caf50 !important;stroke-width:2px !important\" x=\"-69.34375\" y=\"-33\" width=\"138.6875\" height=\"66\"/><g class=\"label\" style=\"color:#000 !important\" transform=\"translate(-39.34375, -18)\"><rect/><foreignObject width=\"78.6875\" height=\"36\"><div xmlns=\"http://www.w3.org/1999/xhtml\" style=\"color: rgb(0, 0, 0) !important; display: table-cell; white-space: nowrap; line-height: 1.5; max-width: 200px; text-align: center;\"><span style=\"color:#000 !important\" class=\"nodeLabel \"><p>Position-wise<br/>Feed Forward</p></span></div></foreignObject></g></g><g class=\"node default addNorm \" id=\"flowchart-ENC_ADD_NORM2-11\" transform=\"translate(164.515625, 948)\"><rect class=\"basic label-container\" style=\"fill:#fff9c4 !important;stroke:#f9a825 !important;stroke-width:2px !important\" x=\"-65\" y=\"-24\" width=\"130\" height=\"48\"/><g class=\"label\" style=\"color:#000 !important\" transform=\"translate(-35, -9)\"><rect/><foreignObject width=\"70\" height=\"18\"><div xmlns=\"http://www.w3.org/1999/xhtml\" style=\"color: rgb(0, 0, 0) !important; display: table-cell; white-space: nowrap; line-height: 1.5; max-width: 200px; text-align: center;\"><span style=\"color:#000 !important\" class=\"nodeLabel \"><p>Add &amp; Norm</p></span></div></foreignObject></g></g><g class=\"node default layerNorm \" id=\"flowchart-DEC_LAYER_NORM1-22\" transform=\"translate(477.546875, 564)\"><rect class=\"basic label-container\" style=\"fill:#fff9c4 !important;stroke:#f9a825 !important;stroke-width:2px !important\" x=\"-63.3515625\" y=\"-24\" width=\"126.703125\" height=\"48\"/><g class=\"label\" style=\"color:#000 !important\" transform=\"translate(-33.3515625, -9)\"><rect/><foreignObject width=\"66.703125\" height=\"18\"><div xmlns=\"http://www.w3.org/1999/xhtml\" style=\"color: rgb(0, 0, 0) !important; display: table-cell; white-space: nowrap; line-height: 1.5; max-width: 200px; text-align: center;\"><span style=\"color:#000 !important\" class=\"nodeLabel \"><p>Layer Norm</p></span></div></foreignObject></g></g><g class=\"node default maskedAttention \" id=\"flowchart-DEC_MMHA-23\" transform=\"translate(477.546875, 698)\"><rect class=\"basic label-container\" style=\"fill:#ffebee !important;stroke:#d32f2f !important;stroke-width:2px !important\" x=\"-69.328125\" y=\"-42\" width=\"138.65625\" height=\"84\"/><g class=\"label\" style=\"color:#000 !important\" transform=\"translate(-39.328125, -27)\"><rect/><foreignObject width=\"78.65625\" height=\"54\"><div xmlns=\"http://www.w3.org/1999/xhtml\" style=\"color: rgb(0, 0, 0) !important; display: table-cell; white-space: nowrap; line-height: 1.5; max-width: 200px; text-align: center;\"><span style=\"color:#000 !important\" class=\"nodeLabel \"><p>Masked<br/>Multi-Head<br/>Self-Attention</p></span></div></foreignObject></g></g><g class=\"node default addNorm \" id=\"flowchart-DEC_ADD_NORM1-24\" transform=\"translate(535.71875, 841)\"><rect class=\"basic label-container\" style=\"fill:#fff9c4 !important;stroke:#f9a825 !important;stroke-width:2px !important\" x=\"-65\" y=\"-24\" width=\"130\" height=\"48\"/><g class=\"label\" style=\"color:#000 !important\" transform=\"translate(-35, -9)\"><rect/><foreignObject width=\"70\" height=\"18\"><div xmlns=\"http://www.w3.org/1999/xhtml\" style=\"color: rgb(0, 0, 0) !important; display: table-cell; white-space: nowrap; line-height: 1.5; max-width: 200px; text-align: center;\"><span style=\"color:#000 !important\" class=\"nodeLabel \"><p>Add &amp; Norm</p></span></div></foreignObject></g></g><g class=\"node default layerNorm \" id=\"flowchart-DEC_LAYER_NORM2-25\" transform=\"translate(480.55078125, 948)\"><rect class=\"basic label-container\" style=\"fill:#fff9c4 !important;stroke:#f9a825 !important;stroke-width:2px !important\" x=\"-63.3515625\" y=\"-24\" width=\"126.703125\" height=\"48\"/><g class=\"label\" style=\"color:#000 !important\" transform=\"translate(-33.3515625, -9)\"><rect/><foreignObject width=\"66.703125\" height=\"18\"><div xmlns=\"http://www.w3.org/1999/xhtml\" style=\"color: rgb(0, 0, 0) !important; display: table-cell; white-space: nowrap; line-height: 1.5; max-width: 200px; text-align: center;\"><span style=\"color:#000 !important\" class=\"nodeLabel \"><p>Layer Norm</p></span></div></foreignObject></g></g><g class=\"node default crossAttention \" id=\"flowchart-DEC_CROSS_ATTN-26\" transform=\"translate(465.546875, 1098)\"><rect class=\"basic label-container\" style=\"fill:#e8f5e8 !important;stroke:#388e3c !important;stroke-width:2px !important\" x=\"-75.3359375\" y=\"-33\" width=\"150.671875\" height=\"66\"/><g class=\"label\" style=\"color:#000 !important\" transform=\"translate(-45.3359375, -18)\"><rect/><foreignObject width=\"90.671875\" height=\"36\"><div xmlns=\"http://www.w3.org/1999/xhtml\" style=\"color: rgb(0, 0, 0) !important; display: table-cell; white-space: nowrap; line-height: 1.5; max-width: 200px; text-align: center;\"><span style=\"color:#000 !important\" class=\"nodeLabel \"><p>Multi-Head<br/>Cross-Attention</p></span></div></foreignObject></g></g><g class=\"node default addNorm \" id=\"flowchart-DEC_ADD_NORM2-27\" transform=\"translate(520.71484375, 1205)\"><rect class=\"basic label-container\" style=\"fill:#fff9c4 !important;stroke:#f9a825 !important;stroke-width:2px !important\" x=\"-65\" y=\"-24\" width=\"130\" height=\"48\"/><g class=\"label\" style=\"color:#000 !important\" transform=\"translate(-35, -9)\"><rect/><foreignObject width=\"70\" height=\"18\"><div xmlns=\"http://www.w3.org/1999/xhtml\" style=\"color: rgb(0, 0, 0) !important; display: table-cell; white-space: nowrap; line-height: 1.5; max-width: 200px; text-align: center;\"><span style=\"color:#000 !important\" class=\"nodeLabel \"><p>Add &amp; Norm</p></span></div></foreignObject></g></g><g class=\"node default layerNorm \" id=\"flowchart-DEC_LAYER_NORM3-28\" transform=\"translate(462.55078125, 1303)\"><rect class=\"basic label-container\" style=\"fill:#fff9c4 !important;stroke:#f9a825 !important;stroke-width:2px !important\" x=\"-63.3515625\" y=\"-24\" width=\"126.703125\" height=\"48\"/><g class=\"label\" style=\"color:#000 !important\" transform=\"translate(-33.3515625, -9)\"><rect/><foreignObject width=\"66.703125\" height=\"18\"><div xmlns=\"http://www.w3.org/1999/xhtml\" style=\"color: rgb(0, 0, 0) !important; display: table-cell; white-space: nowrap; line-height: 1.5; max-width: 200px; text-align: center;\"><span style=\"color:#000 !important\" class=\"nodeLabel \"><p>Layer Norm</p></span></div></foreignObject></g></g><g class=\"node default feedforward \" id=\"flowchart-DEC_FF-29\" transform=\"translate(462.55078125, 1428)\"><rect class=\"basic label-container\" style=\"fill:#e8f5e8 !important;stroke:#4caf50 !important;stroke-width:2px !important\" x=\"-69.34375\" y=\"-33\" width=\"138.6875\" height=\"66\"/><g class=\"label\" style=\"color:#000 !important\" transform=\"translate(-39.34375, -18)\"><rect/><foreignObject width=\"78.6875\" height=\"36\"><div xmlns=\"http://www.w3.org/1999/xhtml\" style=\"color: rgb(0, 0, 0) !important; display: table-cell; white-space: nowrap; line-height: 1.5; max-width: 200px; text-align: center;\"><span style=\"color:#000 !important\" class=\"nodeLabel \"><p>Position-wise<br/>Feed Forward</p></span></div></foreignObject></g></g><g class=\"node default addNorm \" id=\"flowchart-DEC_ADD_NORM3-30\" transform=\"translate(520.71484375, 1535)\"><rect class=\"basic label-container\" style=\"fill:#fff9c4 !important;stroke:#f9a825 !important;stroke-width:2px !important\" x=\"-65\" y=\"-24\" width=\"130\" height=\"48\"/><g class=\"label\" style=\"color:#000 !important\" transform=\"translate(-35, -9)\"><rect/><foreignObject width=\"70\" height=\"18\"><div xmlns=\"http://www.w3.org/1999/xhtml\" style=\"color: rgb(0, 0, 0) !important; display: table-cell; white-space: nowrap; line-height: 1.5; max-width: 200px; text-align: center;\"><span style=\"color:#000 !important\" class=\"nodeLabel \"><p>Add &amp; Norm</p></span></div></foreignObject></g></g><g class=\"node default linear \" id=\"flowchart-LINEAR-47\" transform=\"translate(520.71484375, 1667)\"><rect class=\"basic label-container\" style=\"fill:#e1bee7 !important;stroke:#8e24aa !important;stroke-width:2px !important\" x=\"-59.34375\" y=\"-33\" width=\"118.6875\" height=\"66\"/><g class=\"label\" style=\"color:#000 !important\" transform=\"translate(-29.34375, -18)\"><rect/><foreignObject width=\"58.6875\" height=\"36\"><div xmlns=\"http://www.w3.org/1999/xhtml\" style=\"color: rgb(0, 0, 0) !important; display: table-cell; white-space: nowrap; line-height: 1.5; max-width: 200px; text-align: center;\"><span style=\"color:#000 !important\" class=\"nodeLabel \"><p>Linear<br/>Projection</p></span></div></foreignObject></g></g><g class=\"node default softmax \" id=\"flowchart-SOFTMAX-48\" transform=\"translate(520.71484375, 1774)\"><rect class=\"basic label-container\" style=\"fill:#fce4ec !important;stroke:#c2185b !important;stroke-width:2px !important\" x=\"-53.671875\" y=\"-24\" width=\"107.34375\" height=\"48\"/><g class=\"label\" style=\"color:#000 !important\" transform=\"translate(-23.671875, -9)\"><rect/><foreignObject width=\"47.34375\" height=\"18\"><div xmlns=\"http://www.w3.org/1999/xhtml\" style=\"color: rgb(0, 0, 0) !important; display: table-cell; white-space: nowrap; line-height: 1.5; max-width: 200px; text-align: center;\"><span style=\"color:#000 !important\" class=\"nodeLabel \"><p>Softmax</p></span></div></foreignObject></g></g><g class=\"node default inputOutput \" id=\"flowchart-OUTPUT_PROB-49\" transform=\"translate(520.71484375, 1881)\"><rect class=\"basic label-container\" style=\"fill:#e3f2fd !important;stroke:#1976d2 !important;stroke-width:2px !important\" x=\"-66.015625\" y=\"-33\" width=\"132.03125\" height=\"66\"/><g class=\"label\" style=\"color:#000 !important\" transform=\"translate(-36.015625, -18)\"><rect/><foreignObject width=\"72.03125\" height=\"36\"><div xmlns=\"http://www.w3.org/1999/xhtml\" style=\"color: rgb(0, 0, 0) !important; display: table-cell; white-space: nowrap; line-height: 1.5; max-width: 200px; text-align: center;\"><span style=\"color:#000 !important\" class=\"nodeLabel \"><p>Output<br/>Probabilities</p></span></div></foreignObject></g></g><g class=\"node default label \" id=\"flowchart-NX_ENC-50\" transform=\"translate(299.046875, 148)\"><rect class=\"basic label-container\" style=\"fill:transparent !important;stroke:none !important\" x=\"-73.5234375\" y=\"-24\" width=\"147.046875\" height=\"48\"/><g class=\"label\" style=\"color:#666 !important;font-weight:bold !important;font-size:12px !important\" transform=\"translate(-43.5234375, -9)\"><rect/><foreignObject width=\"87.046875\" height=\"18\"><div xmlns=\"http://www.w3.org/1999/xhtml\" style=\"color: rgb(102, 102, 102) !important; font-weight: bold !important; font-size: 12px !important; display: table-cell; white-space: nowrap; line-height: 1.5; max-width: 200px; text-align: center;\"><span style=\"color:#666 !important;font-weight:bold !important;font-size:12px !important\" class=\"nodeLabel \"><p>Nx (N=6 layers)</p></span></div></foreignObject></g></g><g class=\"node default label \" id=\"flowchart-NX_DEC-51\" transform=\"translate(453.48046875, 432)\"><rect class=\"basic label-container\" style=\"fill:transparent !important;stroke:none !important\" x=\"-73.5234375\" y=\"-24\" width=\"147.046875\" height=\"48\"/><g class=\"label\" style=\"color:#666 !important;font-weight:bold !important;font-size:12px !important\" transform=\"translate(-43.5234375, -9)\"><rect/><foreignObject width=\"87.046875\" height=\"18\"><div xmlns=\"http://www.w3.org/1999/xhtml\" style=\"color: rgb(102, 102, 102) !important; font-weight: bold !important; font-size: 12px !important; display: table-cell; white-space: nowrap; line-height: 1.5; max-width: 200px; text-align: center;\"><span style=\"color:#666 !important;font-weight:bold !important;font-size:12px !important\" class=\"nodeLabel \"><p>Nx (N=6 layers)</p></span></div></foreignObject></g></g></g></g></g></svg>"
          },
          "metadata": {}
        }
      ]
    },
    {
      "cell_type": "markdown",
      "source": [
        "#### Ideia central: Atenção (Self-Attention)"
      ],
      "metadata": {
        "id": "2TSuLsSAUlyM"
      }
    },
    {
      "cell_type": "markdown",
      "source": [
        "Cada token “pergunta” ao restante da sequência o que é relevante para compor sua nova representação.\n",
        "\n",
        "- Três projeções lineares: **Q** (queries), **K** (keys), **V** (values)  \n",
        "- Similaridade: $ \\text{scores} = \\dfrac{QK^\\top}{\\sqrt{d_k}} $  \n",
        "- Pesos: $ \\text{softmax}(\\text{scores}) $  \n",
        "- Saída: média ponderada de $V$\n",
        "\n",
        "$$\n",
        "\\text{Attention}(Q,K,V)\\;=\\;\\text{softmax}\\!\\left(\\frac{QK^\\top}{\\sqrt{d_k}}\\right)\\,V\n",
        "$$\n",
        "\n",
        "**Intuição:** $Q$ = “o que eu procuro”; $K$ = “o que eu ofereço”; $V$ = “o que eu trago de informação”.\n"
      ],
      "metadata": {
        "id": "A1-P4V2dUlun"
      }
    },
    {
      "cell_type": "markdown",
      "source": [
        "#### Multi-Head Attention\n"
      ],
      "metadata": {
        "id": "ewMh5wUSU3QN"
      }
    },
    {
      "cell_type": "markdown",
      "source": [
        "\n",
        "Em vez de uma única atenção, usamos **várias cabeças** (heads). Cada cabeça aprende “padrões” distintos (curta/longa distância, sintaxe, estilo…). As saídas são concatenadas e projetadas de volta para $d_{\\text{model}}$:\n",
        "\n",
        "$$\n",
        "\\text{MHA}(Q,K,V)\\;=\\;\\text{Concat}(\\text{head}_1,\\dots,\\text{head}_h)\\,W^{O}\n",
        "$$\n"
      ],
      "metadata": {
        "id": "sAs4cnKlUlrR"
      }
    },
    {
      "cell_type": "markdown",
      "source": [
        "#### Posições importam: Positional Encoding"
      ],
      "metadata": {
        "id": "4oc_BL7pU7A3"
      }
    },
    {
      "cell_type": "markdown",
      "source": [
        "\n",
        "Como o Transformer não é recorrente, adicionamos uma “assinatura rítmica” para a **ordem** dos tokens.\n",
        "\n",
        "- **Senoidal clássica** (não-treinável), usada nesta aula:\n",
        "$$\n",
        "\\mathrm{PE}(pos,2i) = \\sin\\!\\left(\\frac{pos}{10000^{\\frac{2i}{d}}}\\right),\\qquad\n",
        "\\mathrm{PE}(pos,2i+1) = \\cos\\!\\left(\\frac{pos}{10000^{\\frac{2i}{d}}}\\right)\n",
        "$$\n",
        "\n",
        "- Alternativa: **embeddings de posição aprendíveis**.\n"
      ],
      "metadata": {
        "id": "k64QCrLaU4xP"
      }
    },
    {
      "cell_type": "markdown",
      "source": [
        "### **1. Configuração do Ambiente**"
      ],
      "metadata": {
        "id": "_5l3tKZZQfbj"
      }
    },
    {
      "cell_type": "code",
      "source": [
        "!pip install transformers sentencepiece -q"
      ],
      "metadata": {
        "id": "D1BPFoi145f2"
      },
      "execution_count": null,
      "outputs": []
    },
    {
      "cell_type": "code",
      "source": [
        "!pip install datasets -q"
      ],
      "metadata": {
        "id": "9CjPjWxzZvcy"
      },
      "execution_count": null,
      "outputs": []
    },
    {
      "cell_type": "code",
      "execution_count": null,
      "metadata": {
        "colab": {
          "base_uri": "https://localhost:8080/"
        },
        "id": "b3bdo_6C4TMF",
        "outputId": "fab172db-ae36-475a-88f8-6d6231bfbc88"
      },
      "outputs": [
        {
          "output_type": "stream",
          "name": "stdout",
          "text": [
            "Usando: cuda\n",
            "GPU: NVIDIA A100-SXM4-40GB\n"
          ]
        }
      ],
      "source": [
        "# Importações essenciais\n",
        "import re\n",
        "import shutil\n",
        "import unicodedata\n",
        "import torch\n",
        "import math\n",
        "import torch.nn as nn\n",
        "import torch.nn.functional as F\n",
        "import numpy as np\n",
        "import pandas as pd\n",
        "import matplotlib.pyplot as plt\n",
        "import seaborn as sns\n",
        "from pathlib import Path\n",
        "from typing import Dict, List, Optional, Tuple, Union\n",
        "from dataclasses import dataclass\n",
        "from collections import Counter\n",
        "import polars as pl\n",
        "from tqdm import tqdm\n",
        "import json\n",
        "import random\n",
        "import warnings\n",
        "from datasets import load_dataset\n",
        "\n",
        "# Importar tokenizer pré-treinado\n",
        "from transformers import AutoTokenizer\n",
        "from torch.optim.lr_scheduler import CosineAnnealingWarmRestarts\n",
        "from torch.amp import autocast, GradScaler\n",
        "\n",
        "# Verificar se temos GPU disponível\n",
        "device = torch.device('cuda' if torch.cuda.is_available() else 'cpu')\n",
        "print(f\"Usando: {device}\")\n",
        "if torch.cuda.is_available():\n",
        "    print(f\"GPU: {torch.cuda.get_device_name(0)}\")"
      ]
    },
    {
      "cell_type": "code",
      "source": [
        "torch.manual_seed(42)\n",
        "np.random.seed(42)\n",
        "if torch.cuda.is_available():\n",
        "    torch.cuda.manual_seed_all(42)"
      ],
      "metadata": {
        "id": "gD4YrJhNJVxG"
      },
      "execution_count": null,
      "outputs": []
    },
    {
      "cell_type": "markdown",
      "source": [
        "### **2. Download e Preparação do Dataset**"
      ],
      "metadata": {
        "id": "Vk4SP7xYQaFK"
      }
    },
    {
      "cell_type": "markdown",
      "source": [
        "Carregamos a base de dados brasileira do Kaggle, [pablo-moreira/wikipedia-pt](https://huggingface.co/datasets/pablo-moreira/wikipedia-pt), por meio da classe `WikipediaPortuguesLoader`."
      ],
      "metadata": {
        "id": "NptE_OaC8wgV"
      }
    },
    {
      "cell_type": "code",
      "source": [
        "from huggingface_hub import login\n",
        "login(token='hf_...')"
      ],
      "metadata": {
        "id": "S0ykZvAwmbgt"
      },
      "execution_count": null,
      "outputs": []
    },
    {
      "cell_type": "code",
      "source": [
        "class WikipediaPortuguesLoader:\n",
        "\n",
        "    def __init__(self, dataset_path: str = 'hf://datasets/pablo-moreira/wikipedia-pt/latest/train-*.parquet'):\n",
        "        print(\"Carregando dataset...\")\n",
        "        self.df = pl.read_parquet(dataset_path, columns=['text'])\n",
        "        print(f\"Carregado: {len(self.df):,} artigos\")\n",
        "\n",
        "    def carregar_tudo(self, limite_caracteres: int = 500_000, sep_token: str = \"[SEP]\",\n",
        "                      inserir_sep_final: bool = True) -> str:\n",
        "\n",
        "        print(\"Processando textos...\")\n",
        "\n",
        "        # Limpa e filtra textos de forma rigorosa (conforme seu pipeline atual)\n",
        "        df_limpo = (\n",
        "            self.df\n",
        "            .filter(pl.col(\"text\").str.len_chars() > 100)  # pegar texto com mais de 100 caracteres\n",
        "            .with_columns([\n",
        "                pl.col(\"text\")\n",
        "                # Remover elementos específicos da Wikipedia\n",
        "                .str.replace_all(r'\\[\\d+\\]', ' ')  # Referências [1], [2]\n",
        "                .str.replace_all(r'\\{\\{[^}]*\\}\\}', ' ')  # Templates {{...}}\n",
        "                .str.replace_all(r'\\[\\[([^\\]|]+)(?:\\|([^\\]]+))?\\]\\]', r'$2')  # Links [[...]]\n",
        "                .str.replace_all(r'\\[\\[([^\\]]+)\\]\\]', r'$1')  # Links simples\n",
        "\n",
        "                # URLs, emails, HTML\n",
        "                .str.replace_all(r'https?://\\S+|www\\.\\S+|\\S+@\\S+|@\\w+', ' ')\n",
        "                .str.replace_all(r'<[^>]+>', ' ')  # Tags HTML\n",
        "                .str.replace_all(r'&\\w+;', ' ')   # Entidades HTML (&amp;, &nbsp;)\n",
        "                .str.replace_all(r'==+[^=]*==+', ' ')  # Headers wiki (==Título==)\n",
        "\n",
        "                # Caracteres de controle e problemáticos\n",
        "                .str.replace_all(r'[\\x00-\\x08\\x0B\\x0C\\x0E-\\x1F\\x7F]', ' ')\n",
        "\n",
        "                # Normalizar pontuação\n",
        "                .str.replace_all(r'[\"\"„‚]', '\"')  # Aspas diferentes\n",
        "                .str.replace_all(r'[''‛]', \"'\")   # Aspas simples\n",
        "                .str.replace_all(r'[–—]', '-')    # Travessões\n",
        "                .str.replace_all(r'[…]', '...')   # Reticências\n",
        "\n",
        "                # Remover números longos sem contexto e símbolos matemáticos\n",
        "                .str.replace_all(r'\\b\\d{5,}\\b', ' ')  # Números muito longos\n",
        "                .str.replace_all(r'[≈≠≤≥±∞∫∑∏√∂∇∆Ω∀∃∈∉⊂⊃⊆⊇°§]', ' ')\n",
        "\n",
        "                # Manter apenas caracteres válidos para português\n",
        "                .str.replace_all(r\"[^a-zA-ZáéíóúâêôãõçàÁÉÍÓÚÂÊÔÃÕÇÀüÜ0-9\\s\\.\\,\\;\\:\\!\\?\\-\\(\\)\\\"\\'%]\", ' ')\n",
        "\n",
        "                # Limpar múltipla pontuação\n",
        "                .str.replace_all(r'\\.{2,}', '.')\n",
        "                .str.replace_all(r',{2,}', ',')\n",
        "                .str.replace_all(r';{2,}', ';')\n",
        "                .str.replace_all(r':{2,}', ':')\n",
        "                .str.replace_all(r'\\!{2,}', '!')\n",
        "                .str.replace_all(r'\\?{2,}', '?')\n",
        "\n",
        "                # Espaços e formatação final\n",
        "                .str.replace_all(r'\\s+([,.:;!?])', r'$1')  # Remove espaço antes de pontuação\n",
        "                .str.replace_all(r'\\s+', ' ')              # Múltiplos espaços\n",
        "                .str.strip_chars()\n",
        "            ])\n",
        "            .filter(\n",
        "                (pl.col(\"text\").str.len_chars() > 50) &\n",
        "                (pl.col(\"text\").str.len_chars() < 5000) &  # Não muito longo\n",
        "                # Pelo menos 70% de caracteres alfabéticos\n",
        "                (pl.col(\"text\").str.count_matches(r'[a-zA-ZáéíóúâêôãõçàÁÉÍÓÚÂÊÔÃÕÇÀüÜ]') * 100 / pl.col(\"text\").str.len_chars() > 70) &\n",
        "                # Deve ter pelo menos uma frase completa\n",
        "                pl.col(\"text\").str.contains(r'[.!?]\\s*[A-ZÁÉÍÓÚÂÊÔÃÕÇÀÜÜ]')\n",
        "            )\n",
        "        )\n",
        "\n",
        "        print(f\"Após limpeza: {len(df_limpo):,} artigos\")\n",
        "\n",
        "        # Converter para lista mantendo ordem original\n",
        "        textos = df_limpo.get_column(\"text\").to_list()\n",
        "\n",
        "        # --- Concatenação com DELIMITADOR [SEP] ---\n",
        "        # Estratégia:\n",
        "        #   Para cada artigo, adicionamos: \"[SEP]\\n\" + texto.strip() + \"\\n\"\n",
        "        #   Isso cria fronteiras claras entre documentos.\n",
        "        #   Respeitamos 'limite_caracteres' e cortamos o último texto em fronteira de frase, se necessário.\n",
        "        corpus_parts = []\n",
        "        total_len = 0\n",
        "        textos_adicionados = 0\n",
        "\n",
        "        # Pré-calculamos o custo fixo do prefixo/sufixo de cada bloco\n",
        "        prefix = f\"{sep_token}\\n\"\n",
        "        suffix = \"\\n\"\n",
        "        prefix_len = len(prefix)\n",
        "        suffix_len = len(suffix)\n",
        "\n",
        "        for texto in textos:\n",
        "            t = (texto or \"\").strip()\n",
        "            if not t:\n",
        "                continue\n",
        "\n",
        "            bloco = f\"{prefix}{t}{suffix}\"\n",
        "            bloco_len = len(bloco)\n",
        "\n",
        "            # Cabe inteiro?\n",
        "            if total_len + bloco_len <= limite_caracteres:\n",
        "                corpus_parts.append(bloco)\n",
        "                total_len += bloco_len\n",
        "                textos_adicionados += 1\n",
        "                continue\n",
        "\n",
        "            # Se não cabe inteiro, tentamos um corte \"limpo\" (até fim de frase) se houver espaço suficiente\n",
        "            restante = limite_caracteres - total_len\n",
        "            # Espaço disponível para o conteúdo (descontando prefixo/sufixo)\n",
        "            disponivel_para_texto = restante - prefix_len - suffix_len\n",
        "\n",
        "            if disponivel_para_texto > 100:\n",
        "                # Cortamos o texto no que cabe e tentamos encontrar a última sentença completa\n",
        "                parc = t[:max(0, disponivel_para_texto)]\n",
        "                # Procura o último delimitador de frase que caiba\n",
        "                ponto = max(parc.rfind('.'), parc.rfind('!'), parc.rfind('?'))\n",
        "                if ponto > 0:\n",
        "                    bloco = f\"{prefix}{parc[:ponto+1].rstrip()}{suffix}\"\n",
        "                    corpus_parts.append(bloco)\n",
        "                    total_len += len(bloco)\n",
        "                    textos_adicionados += 1\n",
        "            # Independente do corte, atingimos o limite\n",
        "            break\n",
        "\n",
        "        corpus = \"\".join(corpus_parts).strip()\n",
        "\n",
        "        # [SEP] final para marcar término do último documento\n",
        "        if inserir_sep_final:\n",
        "            final_tag = f\"{sep_token}\\n\"\n",
        "            if not corpus.endswith(final_tag):\n",
        "                # Se ainda houver espaço para adicionar o [SEP] final sem estourar o limite\n",
        "                if len(corpus) + len(final_tag) <= limite_caracteres:\n",
        "                    corpus += (\"\\n\" if not corpus.endswith(\"\\n\") else \"\") + final_tag\n",
        "                # Senão, ignora silenciosamente (prioriza conteúdo)\n",
        "\n",
        "        print(f\"Concluído: {len(corpus):,} caracteres de {textos_adicionados:,} textos (limite: {limite_caracteres:,})\")\n",
        "        return corpus\n"
      ],
      "metadata": {
        "id": "aQm9Kt4b8HlF"
      },
      "execution_count": null,
      "outputs": []
    },
    {
      "cell_type": "code",
      "source": [
        "# Carrega o dataset\n",
        "loader = WikipediaPortuguesLoader()\n",
        "textos = loader.carregar_tudo(limite_caracteres = 500_000_000)\n",
        "print(\"Exemplo de Texto:\\n\", textos[1200:2300])"
      ],
      "metadata": {
        "id": "oXvamdpY91Bv",
        "colab": {
          "base_uri": "https://localhost:8080/"
        },
        "outputId": "369b3f87-a253-47ee-cc80-4029412959b0"
      },
      "execution_count": null,
      "outputs": [
        {
          "output_type": "stream",
          "name": "stdout",
          "text": [
            "Carregando dataset...\n",
            "Carregado: 1,857,355 artigos\n",
            "Processando textos...\n",
            "Após limpeza: 833,348 artigos\n",
            "Concluído: 499,999,921 caracteres de 462,345 textos (limite: 500,000,000)\n",
            "Exemplo de Texto:\n",
            " ra do Tejo. Segundo Bernardo Rodrigues, em os \"Anais de Arzila\", o seu aio era João de Meneses, conde de Cantanhede, e esse acontecimento terá ocasionado nesta personagem um grande traumatismo: Depois da morte de D. Afonso, nomeou como sucessor o Duque de Beja, seu primo, que viria a governar como e que casou depois com Isabel, a viúva do infante Afonso.\n",
            "[SEP]\n",
            "A Ideia Perigosa de Darwin A Ideia Perigosa de Darwin (em Portugal) ou A Perigosa Ideia de Darwin (no Brasil), Darwin's Dangerous Idea no original em inglês, é um livro da autoria de Daniel C. Dennett (1995) que explora os efeitos que a teoria da evolução de Charles Darwin terá produzido no pensamento filosófico ocidental. Segundo o autor, a teoria de Darwin sugere que a vida no planeta Terra foi produzida por um processo algorítmico absolutamente cego, enquanto pensadores da época de Darwin defendiam que só Deus poderia criar todas as coisas concebidas. Através da seleção natural, a concepção e a própria noção de Deus seriam criadas a partir de coisas mais simples. Através da biologia, Darwin teria encontrado uma solução para \n"
          ]
        }
      ]
    },
    {
      "cell_type": "markdown",
      "source": [
        "### **3. Tokenizer Pre-Treinado**"
      ],
      "metadata": {
        "id": "RYwNCc02H_gV"
      }
    },
    {
      "cell_type": "markdown",
      "source": [
        "Para a tokenização, utilizamos o modelo [neuralmind/bert-large-portuguese-cased](https://huggingface.co/neuralmind/bert-large-portuguese-cased) exclusivamente como tokenizer. O objetivo é explorar seu vocabulário robusto em português, adicionando marcações específicas para estruturar narrativas.\n",
        "\n",
        "- Definimos o EOS (end-of-sequence) como o token `[SEP]`.\n",
        "\n",
        "- Opcionalmente, o BOS (begin-of-sequence) pode ser definido como `[CLS]`."
      ],
      "metadata": {
        "id": "UeIrzsF6VKMv"
      }
    },
    {
      "cell_type": "code",
      "source": [
        "class BertTokenizerWrapper:\n",
        "    def __init__(self):\n",
        "        self.tokenizer = AutoTokenizer.from_pretrained(\n",
        "            \"neuralmind/bert-large-portuguese-cased\"\n",
        "        )\n",
        "        # Evita pós-processamento que às vezes cola espaços/pontuação\n",
        "        self.tokenizer.clean_up_tokenization_spaces = False\n",
        "\n",
        "        # Garantir mapeamentos BOS/EOS usados em modelos auto-regressivo\n",
        "        if self.tokenizer.sep_token_id is not None:\n",
        "            self.tokenizer.eos_token = self.tokenizer.sep_token\n",
        "            self.tokenizer.eos_token_id = self.tokenizer.sep_token_id\n",
        "\n",
        "        if self.tokenizer.cls_token_id is not None:\n",
        "            self.tokenizer.bos_token = self.tokenizer.cls_token\n",
        "            self.tokenizer.bos_token_id = self.tokenizer.cls_token_id\n",
        "\n",
        "        self.vocab_size = len(self.tokenizer)\n",
        "        self.pad_id = self.tokenizer.pad_token_id\n",
        "        self.eos_id = self.tokenizer.eos_token_id\n",
        "        self.bos_id = self.tokenizer.bos_token_id\n",
        "\n",
        "    def encode(self, text: str, max_length: int = None) -> List[int]:\n",
        "        # Mantém add_special_tokens=False para LM (não injeta [CLS]/[SEP] extras)\n",
        "        return self.tokenizer.encode(\n",
        "            text,\n",
        "            truncation=bool(max_length),\n",
        "            max_length=max_length,\n",
        "            add_special_tokens=False\n",
        "        )\n",
        "\n",
        "    def decode(self, ids: List[int]) -> str:\n",
        "        # Remove tokens especiais ao exibir\n",
        "        return self.tokenizer.decode(ids, skip_special_tokens=True)\n",
        "\n",
        "    def batch_encode(self, texts: List[str], max_length: int = 512) -> Dict:\n",
        "        return self.tokenizer(\n",
        "            texts,\n",
        "            truncation=True,\n",
        "            padding=True,\n",
        "            max_length=max_length,\n",
        "            return_tensors=\"pt\",\n",
        "            add_special_tokens=False\n",
        "        )"
      ],
      "metadata": {
        "id": "XIP6EuoSibX2"
      },
      "execution_count": null,
      "outputs": []
    },
    {
      "cell_type": "code",
      "source": [
        "# Criar tokenizer BERTimbau\n",
        "tokenizer = BertTokenizerWrapper()\n",
        "vocab_size = tokenizer.vocab_size\n",
        "\n",
        "# Testar tokenizer\n",
        "sample_text = \"[SEP] O gato subiu no telhado ontem à noite sozinho porque estava assustado\"\n",
        "encoded = tokenizer.encode(sample_text)\n",
        "decoded = tokenizer.decode(encoded)\n",
        "\n",
        "print(f\"Tamanho do Vocabulário: {vocab_size}\")\n",
        "print(f\"Texto original: {sample_text}\")\n",
        "print(f\"Tokens: (primeiros 10) {encoded}\")\n",
        "print(f\"Decodificado: {decoded}\")"
      ],
      "metadata": {
        "colab": {
          "base_uri": "https://localhost:8080/",
          "referenced_widgets": [
            "9c32e275c644407b8526b693db9917a5",
            "e2de4fdcb6754d219faef70202ee9b39",
            "6b47aac3b3394ba6a7cc51c408605777",
            "f2f44f94485644219fa5d6df9ced9faf",
            "2d0ce24afed44f2280198aff14c405f5",
            "f1a8540ef96a479c918c4f1d2b69317a",
            "353d695c7721402ebf4cec9433e80ac3",
            "402c0a0b5a644042ad0922b5ef29a2d7",
            "b1c5c005d94847a09abb7150d6e32be3",
            "53ac5bda8d0c4ca198e8df3349ef7421",
            "e6fd2a50d12e4224afee437895c020f3",
            "e984572aa9084407b3999fecb0375390",
            "422c1e57db344c28b92507189d67ecf0",
            "34f6601a9c6042279c3b6b43941e16d7",
            "e5f48085bc514a4ba529ee18d8983f46",
            "fdf137e9ed1c4b18975bd8beeea096ec",
            "c8c18ba166c64385ac3c861ef52106e9",
            "cfbe8c8bb0f34177b0838a15f4405c1a",
            "a2dcee9bb40f48fbbcd1c222f34a1a29",
            "267ede1959ab4faa87c4313f5f630829",
            "2e4182e5a34d4afe881e4095ea4f0f6f",
            "e4dee83b245246ad9a78c5fa433fcbdf",
            "0008207802b24cee8aa8456c24257eab",
            "027a44e22719476082fcd70635038ca9",
            "9e0d12083d8546968df15ea096473802",
            "f34aa4c5c45446e3b0ea6d61297880ae",
            "06722e4e70a7467da2a5afd83ee4e241",
            "7a16b658eef94988b026969d4df95f97",
            "a73abde6f9484769b4c65703e64222a4",
            "9e1c99195e6f4068875a7100f512c9cc",
            "16cc1289927e4b03813376444baed2b2",
            "1ee019f2561c4bfab006f3e0e5049a5a",
            "922697758bb3405481a40b1970cae772",
            "6e74be0d883249fbbec4a5d5863d03a3",
            "b2ece02519ab4a3d9ce15da6ed6946cb",
            "adcd5e84fc8e4c1e9cfffa7707f854e7",
            "96b4653997264f5594115194dccdc4c1",
            "95eb211947c04919b576cd80e9f3a43a",
            "47efe04516204b2eb947fe8f16c0bb53",
            "2d393e377af8430c9f904ecf0aaab90a",
            "a327d1a9e3134ec1a7731a57c75af516",
            "8cb0f2ef1e4a43069e8d3f9b20670b66",
            "c64545862e974db5b7c08d0c98c63e4b",
            "3f052d057f46483d8bda6c0f923e9695",
            "39d33479ec244f6d8de0e003c662be63",
            "15af9524bf7a49299b7aff81a358a3c3",
            "946aaaff36e94dba80b27bd179deab5b",
            "76081301e3b24744b5cd879e5c787c3a",
            "b541df88dd2945d68923cfcc884718cd",
            "fdfd8a9f6f754410a89c1d35e123bb14",
            "e19d97ff3e7c47799d13b5da174af831",
            "d82c62ffa82a4871810287bdeef5edb7",
            "1053b097a76d4111ae3f56a57765c037",
            "52cfe1858eab4d6890714137a0e9d209",
            "95d56cd34e5c46b990165c27b0d59280"
          ]
        },
        "id": "UWUwRNLF6qWd",
        "outputId": "49b4e84b-58df-4998-cb7b-a918c9e0a520"
      },
      "execution_count": null,
      "outputs": [
        {
          "output_type": "stream",
          "name": "stderr",
          "text": [
            "/usr/local/lib/python3.12/dist-packages/huggingface_hub/utils/_auth.py:94: UserWarning: \n",
            "The secret `HF_TOKEN` does not exist in your Colab secrets.\n",
            "To authenticate with the Hugging Face Hub, create a token in your settings tab (https://huggingface.co/settings/tokens), set it as secret in your Google Colab and restart your session.\n",
            "You will be able to reuse this secret in all of your notebooks.\n",
            "Please note that authentication is recommended but still optional to access public models or datasets.\n",
            "  warnings.warn(\n"
          ]
        },
        {
          "output_type": "display_data",
          "data": {
            "text/plain": [
              "tokenizer_config.json:   0%|          | 0.00/155 [00:00<?, ?B/s]"
            ],
            "application/vnd.jupyter.widget-view+json": {
              "version_major": 2,
              "version_minor": 0,
              "model_id": "9c32e275c644407b8526b693db9917a5"
            }
          },
          "metadata": {}
        },
        {
          "output_type": "display_data",
          "data": {
            "text/plain": [
              "config.json:   0%|          | 0.00/648 [00:00<?, ?B/s]"
            ],
            "application/vnd.jupyter.widget-view+json": {
              "version_major": 2,
              "version_minor": 0,
              "model_id": "e984572aa9084407b3999fecb0375390"
            }
          },
          "metadata": {}
        },
        {
          "output_type": "display_data",
          "data": {
            "text/plain": [
              "vocab.txt: 0.00B [00:00, ?B/s]"
            ],
            "application/vnd.jupyter.widget-view+json": {
              "version_major": 2,
              "version_minor": 0,
              "model_id": "0008207802b24cee8aa8456c24257eab"
            }
          },
          "metadata": {}
        },
        {
          "output_type": "display_data",
          "data": {
            "text/plain": [
              "added_tokens.json:   0%|          | 0.00/2.00 [00:00<?, ?B/s]"
            ],
            "application/vnd.jupyter.widget-view+json": {
              "version_major": 2,
              "version_minor": 0,
              "model_id": "6e74be0d883249fbbec4a5d5863d03a3"
            }
          },
          "metadata": {}
        },
        {
          "output_type": "display_data",
          "data": {
            "text/plain": [
              "special_tokens_map.json:   0%|          | 0.00/112 [00:00<?, ?B/s]"
            ],
            "application/vnd.jupyter.widget-view+json": {
              "version_major": 2,
              "version_minor": 0,
              "model_id": "39d33479ec244f6d8de0e003c662be63"
            }
          },
          "metadata": {}
        },
        {
          "output_type": "stream",
          "name": "stdout",
          "text": [
            "Tamanho do Vocabulário: 29794\n",
            "Texto original: [SEP] O gato subiu no telhado ontem à noite sozinho porque estava assustado\n",
            "Tokens: (primeiros 10) [102, 231, 15997, 10996, 202, 16267, 3185, 2097, 353, 2954, 10580, 2113, 1011, 17154, 487]\n",
            "Decodificado: O gato subiu no telhado ontem à noite sozinho porque estava assustado\n"
          ]
        }
      ]
    },
    {
      "cell_type": "markdown",
      "source": [
        "### **4. Positional Encoding**"
      ],
      "metadata": {
        "id": "nTt0NhXt9w-d"
      }
    },
    {
      "cell_type": "markdown",
      "source": [
        "Transformers não possuem, por natureza, um senso de ordem entre os tokens. Para resolver isso, adicionamos um **carimbo de posição** ao embedding de cada palavra. Utilizamos o positional encoding senoidal clássico, baseado em senos e cossenos com diferentes frequências:\n",
        "\n",
        "$$PE(pos, 2i)   = \\sin\\!\\left(\\frac{pos}{10000^{\\tfrac{2i}{d}}}\\right)$$\n",
        "\n",
        "$$PE(pos, 2i+1) = \\cos\\!\\left(\\frac{pos}{10000^{\\tfrac{2i}{d}}}\\right)$$\n",
        "\n",
        "$\\text{onde:}$  \n",
        "$\\quad pos$ posição do token na sequência  \n",
        "\n",
        "$\\quad i$ índice da dimensão do embedding\n",
        "\n",
        "$\\quad d$ dimensionalidade total do embedding\n",
        "\n",
        "Esse mecanismo permite ao modelo compreender relações relativas, quem vem antes ou depois, e ainda generalizar para sequências mais longas do que as observadas durante o treino.\n",
        "\n",
        "Como alternativa, pode-se usar uma camada aprendível `nn.Embedding(max_len, d_model)`, que aprende representações de posição em vez de defini-las de forma determinística."
      ],
      "metadata": {
        "id": "HzIKch--z2lK"
      }
    },
    {
      "cell_type": "code",
      "source": [
        "d_model = 8  # deve ser par\n",
        "frase = \"O gato brinca com o cachorro\"\n",
        "palavras = frase.split(\" \")\n",
        "seq_len = len(palavras)"
      ],
      "metadata": {
        "id": "IXBOTCB1VebO"
      },
      "execution_count": null,
      "outputs": []
    },
    {
      "cell_type": "code",
      "source": [
        "# Criar matriz de positional encoding\n",
        "pe = np.zeros((seq_len, d_model))"
      ],
      "metadata": {
        "id": "nZ-V9fWH34NC"
      },
      "execution_count": null,
      "outputs": []
    },
    {
      "cell_type": "code",
      "source": [
        "# Para cada posição na sequência\n",
        "for pos in range(seq_len):\n",
        "    # Para cada dimensão\n",
        "    for i in range(0, d_model, 2):\n",
        "        # Calcular divisor\n",
        "        div_term = 10000 ** (i / d_model)\n",
        "\n",
        "        # Aplicar seno e cosseno\n",
        "        pe[pos, i] = math.sin(pos / div_term)      # dimensões pares\n",
        "        pe[pos, i + 1] = math.cos(pos / div_term)  # dimensões ímpares\n",
        "\n",
        "pe.round(3)"
      ],
      "metadata": {
        "colab": {
          "base_uri": "https://localhost:8080/"
        },
        "id": "WlQ6TUlAcQdz",
        "outputId": "0325fecd-e18b-4dc0-bf1a-eb23af75eb03"
      },
      "execution_count": null,
      "outputs": [
        {
          "output_type": "execute_result",
          "data": {
            "text/plain": [
              "array([[ 0.   ,  1.   ,  0.   ,  1.   ,  0.   ,  1.   ,  0.   ,  1.   ],\n",
              "       [ 0.841,  0.54 ,  0.1  ,  0.995,  0.01 ,  1.   ,  0.001,  1.   ],\n",
              "       [ 0.909, -0.416,  0.199,  0.98 ,  0.02 ,  1.   ,  0.002,  1.   ],\n",
              "       [ 0.141, -0.99 ,  0.296,  0.955,  0.03 ,  1.   ,  0.003,  1.   ],\n",
              "       [-0.757, -0.654,  0.389,  0.921,  0.04 ,  0.999,  0.004,  1.   ],\n",
              "       [-0.959,  0.284,  0.479,  0.878,  0.05 ,  0.999,  0.005,  1.   ]])"
            ]
          },
          "metadata": {},
          "execution_count": 12
        }
      ]
    },
    {
      "cell_type": "code",
      "source": [
        "# Visualização\n",
        "fig, ax = plt.subplots(1, 2, figsize=(12, 4))\n",
        "\n",
        "im = ax[0].imshow(pe, cmap='RdBu', aspect='auto')\n",
        "ax[0].set_title('Positional Encoding\\n(Azul=negativo, Vermelho=positivo)')\n",
        "ax[0].set_xlabel('Dimensões')\n",
        "ax[0].set_ylabel('Palavras (posição)')\n",
        "ax[0].set_xticks(np.arange(d_model))\n",
        "ax[0].set_yticks(np.arange(seq_len))\n",
        "ax[0].set_yticklabels(palavras)\n",
        "fig.colorbar(im, ax=ax[0], fraction=0.046, pad=0.04)\n",
        "\n",
        "# Curvas por dimensão ao longo das posições\n",
        "for k in range(3): #Escolhendo 3 posições\n",
        "    ax[1].plot(np.arange(seq_len), pe[:, k], label=f'dim {k}')\n",
        "ax[1].set_title('Sinais por dimensão')\n",
        "ax[1].set_xlabel('Posição na sequência')\n",
        "ax[1].set_ylabel('Valor')\n",
        "ax[1].grid(True, linestyle='--', alpha=0.4)\n",
        "ax[1].legend(ncol=2, fontsize=8, frameon=False)\n",
        "\n",
        "plt.tight_layout()\n",
        "plt.show()"
      ],
      "metadata": {
        "colab": {
          "base_uri": "https://localhost:8080/",
          "height": 407
        },
        "id": "SYVvgfeiP6NG",
        "outputId": "21ae0e00-e6ce-4930-b6ee-82a1adcf45b9"
      },
      "execution_count": null,
      "outputs": [
        {
          "output_type": "display_data",
          "data": {
            "text/plain": [
              "<Figure size 1200x400 with 3 Axes>"
            ],
            "image/png": "[encoded data removed]"
          },
          "metadata": {}
        }
      ]
    },
    {
      "cell_type": "code",
      "source": [
        "class PositionalEncoding(nn.Module):\n",
        "    def __init__(self, d_model: int, max_len: int = 5000):\n",
        "        super().__init__()\n",
        "\n",
        "        # Codificação sinusoidal (como Transformer original)\n",
        "        pe = torch.zeros(max_len, d_model)\n",
        "        position = torch.arange(0, max_len).unsqueeze(1).float()\n",
        "\n",
        "        # Criar divisores para frequências diferentes\n",
        "        div_term = torch.exp(torch.arange(0, d_model, 2).float() *\n",
        "                           -(math.log(10000.0) / d_model))\n",
        "\n",
        "        # Aplicar seno e cosseno\n",
        "        pe[:, 0::2] = torch.sin(position * div_term)\n",
        "        pe[:, 1::2] = torch.cos(position * div_term)\n",
        "\n",
        "        self.register_buffer('pe', pe.unsqueeze(0))\n",
        "\n",
        "    def forward(self, x: torch.Tensor) -> torch.Tensor:\n",
        "        \"\"\"\n",
        "        x: [batch_size, seq_len, d_model]\n",
        "        \"\"\"\n",
        "        B, T, C = x.shape\n",
        "\n",
        "        return x + self.pe[:, :T, :]"
      ],
      "metadata": {
        "id": "XcTcakmw_eNL"
      },
      "execution_count": null,
      "outputs": []
    },
    {
      "cell_type": "markdown",
      "source": [
        "### **5. Scaled Dot‑Product Attention SDPA**"
      ],
      "metadata": {
        "id": "7z7DQpztAQuk"
      }
    },
    {
      "cell_type": "markdown",
      "source": [
        "Aqui está o coração do Transformer: a atenção escalada por produto interno.  \n",
        "\n",
        "$$\n",
        "\\text{Attention}(Q, K, V) = \\text{softmax}\\!\\left(\\frac{QK^T}{\\sqrt{d_k}}\\right)V\n",
        "$$\n",
        "\n",
        "$\\text{onde:}$  \n",
        "$\\quad Q \\;=\\; \\text{matriz de consultas (queries)},$  \n",
        "$\\quad K \\;=\\; \\text{matriz de chaves (keys)},$  \n",
        "$\\quad V \\;=\\; \\text{matriz de valores (values)},$  \n",
        "$\\quad d_k \\;=\\; \\text{dimensão das chaves/consultas}.$  \n",
        "\n",
        "Dividimos por $\\sqrt{d_k}$ para estabilizar a escala e aplicamos a função $softmax$, que transforma os resultados em pesos de atenção. Esses pesos determinam quanto cada valor em $V$ deve contribuir para a representação final.  \n",
        "\n",
        "Além disso, usamos uma **máscara causal** para impedir que o modelo, durante a geração, “espie” tokens futuros.  \n",
        "\n",
        "> 💡 **Intuição:**  \n",
        "> - $Q$ representa **o que cada palavra pergunta**,  \n",
        "> - $K$ representa **o que cada palavra responde**,  \n",
        "> - $V$ representa **o que cada palavra contribui**.  \n",
        ">   \n",
        "> O resultado é uma **média ponderada dos valores $V$**, guiada pelo quão bem as consultas $Q$ se alinham com as chaves $K$."
      ],
      "metadata": {
        "id": "AtxgqS-r0FqW"
      }
    },
    {
      "cell_type": "code",
      "source": [
        "palavras = [\"Eu\", \"Jogo\", \"Tibia\"]\n",
        "seq_len = len(palavras)"
      ],
      "metadata": {
        "id": "5JZ-jfbGS0lI"
      },
      "execution_count": null,
      "outputs": []
    },
    {
      "cell_type": "code",
      "source": [
        "# o que cada palavra 'pergunta' (Query)\n",
        "Q = np.array([\n",
        "        [0.62, 0.27, 0.11],  # Eu pergunta sobre...\n",
        "        [0.33, 0.41, 0.26],  # Jogo pergunta sobre...\n",
        "        [0.18, 0.29, 0.53]   # Tibia pergunta sobre...\n",
        "    ])\n",
        "\n",
        "# o que cada palavra 'responde' (Key)\n",
        "K = np.array([\n",
        "        [0.65, 0.22, 0.13],  # Eu responde a...\n",
        "        [0.28, 0.44, 0.28],  # Jogo responde a...\n",
        "        [0.15, 0.25, 0.60]   # Tibia responde a...\n",
        "    ])\n",
        "\n",
        "# o que cada palavra 'contribui' (Value)\n",
        "V = np.array([\n",
        "        [0.58, 0.30, 0.12],  # Eu contribui com...\n",
        "        [0.29, 0.37, 0.34],  # Jogo contribui com...\n",
        "        [0.20, 0.31, 0.49]   # Tibia contribui com...\n",
        "    ])\n"
      ],
      "metadata": {
        "id": "FMDoC-4tS0b4"
      },
      "execution_count": null,
      "outputs": []
    },
    {
      "cell_type": "code",
      "source": [
        "# Calcular similaridades (Q * K^T)\n",
        "scores = Q @ K.T\n",
        "scores"
      ],
      "metadata": {
        "colab": {
          "base_uri": "https://localhost:8080/"
        },
        "id": "ugHIInHqXHF-",
        "outputId": "73dca53f-2023-4310-ca1d-de2480a71184"
      },
      "execution_count": null,
      "outputs": [
        {
          "output_type": "execute_result",
          "data": {
            "text/plain": [
              "array([[0.4767, 0.3232, 0.2265],\n",
              "       [0.3385, 0.3456, 0.308 ],\n",
              "       [0.2497, 0.3264, 0.4175]])"
            ]
          },
          "metadata": {},
          "execution_count": 17
        }
      ]
    },
    {
      "cell_type": "code",
      "source": [
        "# Passo 2: Escalar por √d_k\n",
        "d_k = Q.shape[-1]\n",
        "scaled_scores = scores / math.sqrt(d_k)\n",
        "scaled_scores.round(3)"
      ],
      "metadata": {
        "colab": {
          "base_uri": "https://localhost:8080/"
        },
        "id": "zWV6XvV9XHDD",
        "outputId": "def41fc3-3a6b-4473-8c87-a957284f2b5f"
      },
      "execution_count": null,
      "outputs": [
        {
          "output_type": "execute_result",
          "data": {
            "text/plain": [
              "array([[0.275, 0.187, 0.131],\n",
              "       [0.195, 0.2  , 0.178],\n",
              "       [0.144, 0.188, 0.241]])"
            ]
          },
          "metadata": {},
          "execution_count": 18
        }
      ]
    },
    {
      "cell_type": "code",
      "source": [
        "# Aplicar softmax\n",
        "attention_weights = np.exp(scaled_scores) / np.sum(np.exp(scaled_scores), axis=1, keepdims=True)\n",
        "print(\"Pesos de atenção (após softmax):\")\n",
        "print(attention_weights.round(3))"
      ],
      "metadata": {
        "colab": {
          "base_uri": "https://localhost:8080/"
        },
        "id": "NQiAAK_1XHAM",
        "outputId": "4b8deb5b-183a-416b-dab4-ad6bd8de58f6"
      },
      "execution_count": null,
      "outputs": [
        {
          "output_type": "stream",
          "name": "stdout",
          "text": [
            "Pesos de atenção (após softmax):\n",
            "[[0.36  0.329 0.311]\n",
            " [0.335 0.336 0.329]\n",
            " [0.318 0.332 0.35 ]]\n"
          ]
        }
      ]
    },
    {
      "cell_type": "code",
      "source": [
        "for i, palavra in enumerate(palavras):\n",
        "    print(f\"{palavra} presta atenção em:\")\n",
        "    for j, palavra_alvo in enumerate(palavras):\n",
        "        peso = attention_weights[i, j]\n",
        "        print(f\"  {palavra_alvo}: {peso:.1%}\")\n",
        "    print()"
      ],
      "metadata": {
        "colab": {
          "base_uri": "https://localhost:8080/"
        },
        "id": "0OGPZISGXG9L",
        "outputId": "2d8ea422-bf9e-4fcc-dc81-e8e386e1a282"
      },
      "execution_count": null,
      "outputs": [
        {
          "output_type": "stream",
          "name": "stdout",
          "text": [
            "Eu presta atenção em:\n",
            "  Eu: 36.0%\n",
            "  Jogo: 32.9%\n",
            "  Tibia: 31.1%\n",
            "\n",
            "Jogo presta atenção em:\n",
            "  Eu: 33.5%\n",
            "  Jogo: 33.6%\n",
            "  Tibia: 32.9%\n",
            "\n",
            "Tibia presta atenção em:\n",
            "  Eu: 31.8%\n",
            "  Jogo: 33.2%\n",
            "  Tibia: 35.0%\n",
            "\n"
          ]
        }
      ]
    },
    {
      "cell_type": "code",
      "source": [
        "# Passo 4: Aplicar pesos aos valores\n",
        "output = attention_weights @ V\n",
        "output.round(3)"
      ],
      "metadata": {
        "colab": {
          "base_uri": "https://localhost:8080/"
        },
        "id": "gPzKpm_cXio9",
        "outputId": "690175fd-e043-4ce7-98d9-2902574c2bea"
      },
      "execution_count": null,
      "outputs": [
        {
          "output_type": "execute_result",
          "data": {
            "text/plain": [
              "array([[0.366, 0.326, 0.308],\n",
              "       [0.357, 0.327, 0.316],\n",
              "       [0.351, 0.327, 0.323]])"
            ]
          },
          "metadata": {},
          "execution_count": 21
        }
      ]
    },
    {
      "cell_type": "code",
      "source": [
        "# Visualização\n",
        "plt.subplot(1, 2, 2)\n",
        "plt.imshow(attention_weights, cmap='Blues')\n",
        "plt.title('Matriz de Atenção')\n",
        "plt.xlabel('Palavra sendo observada')\n",
        "plt.ylabel('Palavra observando')\n",
        "plt.xticks(range(3), palavras)\n",
        "plt.yticks(range(3), palavras)\n",
        "\n",
        "# Adicionar valores na matriz\n",
        "for i in range(3):\n",
        "    for j in range(3):\n",
        "        plt.text(j, i, f'{attention_weights[i,j]:.2f}',\n",
        "                ha='center', va='center', color='white' if attention_weights[i,j] > 0.5 else 'black')\n",
        "\n",
        "plt.tight_layout()\n",
        "plt.show()"
      ],
      "metadata": {
        "colab": {
          "base_uri": "https://localhost:8080/",
          "height": 368
        },
        "id": "6vOyi2cOXl27",
        "outputId": "e5346d83-872a-4eb9-e28a-57619bf01def"
      },
      "execution_count": null,
      "outputs": [
        {
          "output_type": "display_data",
          "data": {
            "text/plain": [
              "<Figure size 640x480 with 1 Axes>"
            ],
            "image/png": "[encoded data removed]"
          },
          "metadata": {}
        }
      ]
    },
    {
      "cell_type": "code",
      "source": [
        "class ScaledDotProductAttention(nn.Module):\n",
        "    \"\"\"\n",
        "    Scaled Dot-Product Attention\n",
        "    - scores = (Q @ K^T) / sqrt(d_k)\n",
        "    - aplica máscara (True = permitido; False = bloquear) ANTES do softmax\n",
        "    - softmax -> dropout -> @ V\n",
        "    \"\"\"\n",
        "    def __init__(self, d_k: int, dropout: float = 0.1):\n",
        "        super().__init__()\n",
        "        self.scale = 1.0 / math.sqrt(d_k)\n",
        "        self.drop = nn.Dropout(dropout)\n",
        "\n",
        "    def forward(self, Q: torch.Tensor, K: torch.Tensor, V: torch.Tensor,\n",
        "                mask: Optional[torch.Tensor] = None) -> Tuple[torch.Tensor, torch.Tensor]:\n",
        "        # Q,K,V: [B, H, T, d_k]; scores: [B, H, T, T]\n",
        "        scores = torch.matmul(Q, K.transpose(-2, -1)) * self.scale\n",
        "        if mask is not None:\n",
        "            # mask: True = pode atender; False = bloquear -> -inf\n",
        "            # scores e mask devem ser broadcastáveis para [B, H, T, T]\n",
        "            scores = scores.masked_fill(~mask, float('-inf'))\n",
        "\n",
        "        attn = F.softmax(scores, dim=-1)\n",
        "        attn = self.drop(attn)\n",
        "        out  = torch.matmul(attn, V)  # [B, H, T, d_k]\n",
        "        return out, attn"
      ],
      "metadata": {
        "id": "7I1vHSbsAUOZ"
      },
      "execution_count": null,
      "outputs": []
    },
    {
      "cell_type": "markdown",
      "source": [
        "### **6. Implementação de Multi-Head Attention**"
      ],
      "metadata": {
        "id": "IqSeYeTq5UUq"
      }
    },
    {
      "cell_type": "markdown",
      "source": [
        "Expandimos a ideia de atenção para **múltiplas cabeças**. Cada cabeça observa o contexto por uma “lente” diferente: algumas capturam dependências locais, outras relações de longo alcance ou padrões de estilo.\n",
        "  \n",
        "Depois, concatenamos os resultados de todas as cabeças e projetamos de volta para a dimensão $d_{\\text{model}}$, mantendo o formato $[B, T, d_{\\text{model}}]$, o que garante compatibilidade com as conexões residuais.  \n",
        "\n",
        "$$\n",
        "\\text{MultiHead}(Q, K, V) = \\text{Concat}(\\text{head}_1, \\ldots, \\text{head}_h)W^O\n",
        "$$\n",
        "\n",
        "com  \n",
        "\n",
        "$$\n",
        "\\text{head}_i = \\text{Attention}(QW_i^Q, KW_i^K, VW_i^V)\n",
        "$$\n",
        "\n",
        "$\\text{onde:}$ <p>\n",
        "$\\quad h$ número de cabeças de atenção <p>\n",
        "$\\quad W_i^Q, W_i^K, W_i^V$ projeções aprendíveis para consultas, chaves e valores <p>\n",
        "$\\quad W^O$ projeção final para voltar à dimensão $d_{model}.$  <p>\n",
        "\n",
        "> 💡 **Intuição:**  \n",
        "> - cada cabeça funciona como uma **lente fotográfica** diferente:  \n",
        ">   - uma aproxima,  \n",
        ">   - outra amplia o campo,  \n",
        ">   - outra realça contraste.  \n",
        ">   \n",
        "> O conjunto das lentes oferece ao modelo uma **visão mais rica e complementar** do contexto.\n"
      ],
      "metadata": {
        "id": "GtELQMGV0YxD"
      }
    },
    {
      "cell_type": "code",
      "source": [
        "palavras = ['O', 'gato', 'brinca', 'com', 'o', 'cachorro']\n",
        "\n",
        "# Parâmetros\n",
        "d_model = 8\n",
        "n_heads = 2\n",
        "seq_len = len(palavras)"
      ],
      "metadata": {
        "id": "u7dkhs0XegZw"
      },
      "execution_count": null,
      "outputs": []
    },
    {
      "cell_type": "code",
      "source": [
        "# Criando embeddings\n",
        "word_embeddings = torch.randn(seq_len, d_model) * 0.2\n",
        "word_embeddings"
      ],
      "metadata": {
        "colab": {
          "base_uri": "https://localhost:8080/"
        },
        "id": "PY64Lj0o3Uro",
        "outputId": "c8c1f5f1-ed58-4cfe-c9e2-d906ac86ce33"
      },
      "execution_count": null,
      "outputs": [
        {
          "output_type": "execute_result",
          "data": {
            "text/plain": [
              "tensor([[ 0.3854,  0.2975,  0.1801, -0.4211,  0.1357, -0.2469, -0.0086, -0.3209],\n",
              "        [-0.1504,  0.3297, -0.0785, -0.2807, -0.1456, -0.1119, -0.1538,  0.1525],\n",
              "        [ 0.3285, -0.0319, -0.0995,  0.0879, -0.1516,  0.2157,  0.1602,  0.3361],\n",
              "        [ 0.2558,  0.2593,  0.1221,  0.2669, -0.0463,  0.0084, -0.0503,  0.1720],\n",
              "        [-0.2769, -0.1742, -0.0447,  0.3435,  0.0638, -0.0849,  0.0611, -0.1549],\n",
              "        [-0.3115,  0.1991, -0.1760, -0.1202, -0.2548,  0.4246, -0.2469, -0.0976]])"
            ]
          },
          "metadata": {},
          "execution_count": 25
        }
      ]
    },
    {
      "cell_type": "code",
      "source": [
        "x = word_embeddings + torch.tensor(pe, dtype=torch.float32)  # soma PE\n",
        "x = x.unsqueeze(0)  # adiciona dimensão batch\n",
        "print(\"Shape do input:\", x.shape)"
      ],
      "metadata": {
        "colab": {
          "base_uri": "https://localhost:8080/"
        },
        "id": "D4LL0cx5lYgc",
        "outputId": "525db619-9017-4211-9d33-c7d4f59c1812"
      },
      "execution_count": null,
      "outputs": [
        {
          "output_type": "stream",
          "name": "stdout",
          "text": [
            "Shape do input: torch.Size([1, 6, 8])\n"
          ]
        }
      ]
    },
    {
      "cell_type": "code",
      "source": [
        "d_k = d_model // n_heads\n",
        "\n",
        "# Projeções Q, K, V\n",
        "W_Q = nn.Linear(d_model, d_model, bias=False)\n",
        "W_K = nn.Linear(d_model, d_model, bias=False)\n",
        "W_V = nn.Linear(d_model, d_model, bias=False)"
      ],
      "metadata": {
        "id": "fdNffl3cjhmJ"
      },
      "execution_count": null,
      "outputs": []
    },
    {
      "cell_type": "code",
      "source": [
        "W_V"
      ],
      "metadata": {
        "colab": {
          "base_uri": "https://localhost:8080/"
        },
        "id": "lJ5MG8-TlbbB",
        "outputId": "e0d6afc1-ea94-4f87-fee3-eaabf82d32de"
      },
      "execution_count": null,
      "outputs": [
        {
          "output_type": "execute_result",
          "data": {
            "text/plain": [
              "Linear(in_features=8, out_features=8, bias=False)"
            ]
          },
          "metadata": {},
          "execution_count": 28
        }
      ]
    },
    {
      "cell_type": "code",
      "source": [
        "Q = W_Q(x)   # (batch, seq_len, d_model)\n",
        "K = W_K(x)\n",
        "V = W_V(x)"
      ],
      "metadata": {
        "id": "ptQptwr9k3pG"
      },
      "execution_count": null,
      "outputs": []
    },
    {
      "cell_type": "code",
      "source": [
        "Q"
      ],
      "metadata": {
        "colab": {
          "base_uri": "https://localhost:8080/"
        },
        "id": "kAHqebY2ldpz",
        "outputId": "fbe9d17c-3bef-4dfd-a11d-6def13f86a33"
      },
      "execution_count": null,
      "outputs": [
        {
          "output_type": "execute_result",
          "data": {
            "text/plain": [
              "tensor([[[-0.0723, -0.3228, -0.2324, -0.1968, -0.6544,  0.1160, -0.3855,\n",
              "          -0.6461],\n",
              "         [ 0.2792, -0.4759, -0.2041,  0.2548, -0.8850, -0.0858, -0.3099,\n",
              "          -0.4849],\n",
              "         [ 0.7387, -0.5409, -0.0472,  0.8400, -0.7165, -0.3874, -0.1401,\n",
              "          -0.2056],\n",
              "         [ 0.3792, -0.5341, -0.1229,  0.3502, -0.4123, -0.1988, -0.4610,\n",
              "          -0.3438],\n",
              "         [ 0.0669, -0.6469, -0.3093, -0.2180, -0.0012,  0.0724, -0.8719,\n",
              "          -0.3167],\n",
              "         [ 0.0342, -0.7356, -0.4705, -0.4020, -0.3959,  0.4237, -0.8191,\n",
              "          -0.6479]]], grad_fn=<UnsafeViewBackward0>)"
            ]
          },
          "metadata": {},
          "execution_count": 30
        }
      ]
    },
    {
      "cell_type": "code",
      "source": [
        "# Split em heads: (batch, n_heads, seq_len, d_k)\n",
        "def split_heads(tensor):\n",
        "    b, seq_len, d_model = tensor.shape\n",
        "    return tensor.view(b, seq_len, n_heads, d_k).transpose(1, 2)\n",
        "\n",
        "Qh = split_heads(Q)\n",
        "Kh = split_heads(K)\n",
        "Vh = split_heads(V)"
      ],
      "metadata": {
        "id": "I0RMOriIjhiy"
      },
      "execution_count": null,
      "outputs": []
    },
    {
      "cell_type": "code",
      "source": [
        "Qh"
      ],
      "metadata": {
        "id": "tA0znFy5lgbY",
        "outputId": "1e931eae-06d9-4f3b-a32d-d028a2a582db",
        "colab": {
          "base_uri": "https://localhost:8080/"
        }
      },
      "execution_count": null,
      "outputs": [
        {
          "output_type": "execute_result",
          "data": {
            "text/plain": [
              "tensor([[[[-0.0723, -0.3228, -0.2324, -0.1968],\n",
              "          [ 0.2792, -0.4759, -0.2041,  0.2548],\n",
              "          [ 0.7387, -0.5409, -0.0472,  0.8400],\n",
              "          [ 0.3792, -0.5341, -0.1229,  0.3502],\n",
              "          [ 0.0669, -0.6469, -0.3093, -0.2180],\n",
              "          [ 0.0342, -0.7356, -0.4705, -0.4020]],\n",
              "\n",
              "         [[-0.6544,  0.1160, -0.3855, -0.6461],\n",
              "          [-0.8850, -0.0858, -0.3099, -0.4849],\n",
              "          [-0.7165, -0.3874, -0.1401, -0.2056],\n",
              "          [-0.4123, -0.1988, -0.4610, -0.3438],\n",
              "          [-0.0012,  0.0724, -0.8719, -0.3167],\n",
              "          [-0.3959,  0.4237, -0.8191, -0.6479]]]],\n",
              "       grad_fn=<TransposeBackward0>)"
            ]
          },
          "metadata": {},
          "execution_count": 32
        }
      ]
    },
    {
      "cell_type": "code",
      "source": [
        "# Atenção em cada cabeça\n",
        "scores = torch.matmul(Qh, Kh.transpose(-2, -1)) / torch.sqrt(torch.tensor(d_k, dtype=torch.float32))\n",
        "attn = F.softmax(scores, dim=-1)  # (batch, n_heads, seq_len, seq_len)\n",
        "out = torch.matmul(attn, Vh)      # (batch, n_heads, seq_len, d_k)\n",
        "\n",
        "# Concatenar cabeças\n",
        "out = out.transpose(1, 2).contiguous().view(1, seq_len, d_model)\n",
        "out"
      ],
      "metadata": {
        "id": "Oif3alCzefr6",
        "colab": {
          "base_uri": "https://localhost:8080/"
        },
        "outputId": "1084b400-31fc-4e6e-c198-880ef258ad14"
      },
      "execution_count": null,
      "outputs": [
        {
          "output_type": "execute_result",
          "data": {
            "text/plain": [
              "tensor([[[-0.1934, -0.0486,  0.0540, -0.3807,  0.3562,  0.1158,  0.1296,\n",
              "          -0.4435],\n",
              "         [-0.1952, -0.0724,  0.0180, -0.3497,  0.3550,  0.1162,  0.1214,\n",
              "          -0.4373],\n",
              "         [-0.2000, -0.1043, -0.0301, -0.3089,  0.3526,  0.1141,  0.1113,\n",
              "          -0.4260],\n",
              "         [-0.1988, -0.0771,  0.0110, -0.3456,  0.3557,  0.1140,  0.1292,\n",
              "          -0.4406],\n",
              "         [-0.1964, -0.0489,  0.0538, -0.3823,  0.3591,  0.1136,  0.1494,\n",
              "          -0.4635],\n",
              "         [-0.1941, -0.0414,  0.0653, -0.3907,  0.3601,  0.1163,  0.1503,\n",
              "          -0.4674]]], grad_fn=<ViewBackward0>)"
            ]
          },
          "metadata": {},
          "execution_count": 33
        }
      ]
    },
    {
      "cell_type": "code",
      "source": [
        "attn_np = attn[0].detach().numpy()\n",
        "\n",
        "fig, axes = plt.subplots(1, n_heads, figsize=(12, 5))\n",
        "if n_heads == 1:\n",
        "    axes = [axes]\n",
        "\n",
        "for i in range(n_heads):\n",
        "    axes[i].imshow(attn_np[i], cmap='Blues')\n",
        "    axes[i].set_title(f'Cabeça {i+1}')\n",
        "    axes[i].set_xticks(np.arange(seq_len))\n",
        "    axes[i].set_yticks(np.arange(seq_len))\n",
        "    axes[i].set_xticklabels(palavras, rotation=45, ha=\"right\", fontsize=8)\n",
        "    axes[i].set_yticklabels(palavras, fontsize=8)\n",
        "\n",
        "    for row in range(seq_len):\n",
        "        for col in range(seq_len):\n",
        "            val = attn_np[i, row, col]\n",
        "            axes[i].text(col, row, f'{val:.2f}',\n",
        "                         ha='center', va='center')\n",
        "\n",
        "plt.tight_layout()\n",
        "plt.show()"
      ],
      "metadata": {
        "colab": {
          "base_uri": "https://localhost:8080/",
          "height": 507
        },
        "id": "89l5dpt6escs",
        "outputId": "2266bc49-ee1f-45ae-d61f-a6f9bb578778"
      },
      "execution_count": null,
      "outputs": [
        {
          "output_type": "display_data",
          "data": {
            "text/plain": [
              "<Figure size 1200x500 with 2 Axes>"
            ],
            "image/png": "[encoded data removed]"
          },
          "metadata": {}
        }
      ]
    },
    {
      "cell_type": "code",
      "source": [
        "class MultiHeadAttention(nn.Module):\n",
        "    \"\"\"\n",
        "    Multi-Head Attention:\n",
        "    - Projeta x em Q, K, V para cada cabeça\n",
        "    - Aplica atenção cabeça a cabeça (em paralelo)\n",
        "    - Concatena e projeta de volta para d_model\n",
        "    \"\"\"\n",
        "    def __init__(self, d_model: int, n_heads: int = 8, dropout: float = 0.1):\n",
        "        super().__init__()\n",
        "        assert d_model % n_heads == 0, \"d_model deve ser divisível por n_heads\"\n",
        "        self.d_model = d_model\n",
        "        self.n_heads = n_heads\n",
        "        self.d_k = d_model // n_heads\n",
        "\n",
        "        # Projeções lineares para Q, K, V (sem bias por padrão em LMs)\n",
        "        self.q_proj = nn.Linear(d_model, d_model, bias=False)\n",
        "        self.k_proj = nn.Linear(d_model, d_model, bias=False)\n",
        "        self.v_proj = nn.Linear(d_model, d_model, bias=False)\n",
        "\n",
        "        # Projeção final após concatenação das cabeças\n",
        "        self.out_proj = nn.Linear(d_model, d_model, bias=False)\n",
        "\n",
        "        self.sdpa = ScaledDotProductAttention(self.d_k, dropout=dropout)\n",
        "        self.attn_drop = nn.Dropout(dropout)\n",
        "        self.proj_drop = nn.Dropout(dropout)\n",
        "\n",
        "    def _split_heads(self, x: torch.Tensor) -> torch.Tensor:\n",
        "        # [B, T, C] -> [B, heads, T, d_k]\n",
        "        B, T, C = x.shape\n",
        "        x = x.view(B, T, self.n_heads, self.d_k).transpose(1, 2)\n",
        "        return x\n",
        "\n",
        "    def _merge_heads(self, x: torch.Tensor) -> torch.Tensor:\n",
        "        # [B, heads, T, d_k] -> [B, T, C]\n",
        "        B, H, T, D = x.shape\n",
        "        return x.transpose(1, 2).contiguous().view(B, T, H * D)\n",
        "\n",
        "    def forward(self, x: torch.Tensor, mask: Optional[torch.Tensor] = None):\n",
        "        # x: [B, T, C]\n",
        "        Q = self._split_heads(self.q_proj(x))\n",
        "        K = self._split_heads(self.k_proj(x))\n",
        "        V = self._split_heads(self.v_proj(x))\n",
        "\n",
        "        # Atenção por cabeça (com máscara causal/padding já expandida)\n",
        "        y, attn = self.sdpa(Q, K, V, mask=mask)  # y: [B, heads, T, d_k]\n",
        "\n",
        "        # Concatena cabeças e projeta de volta para d_model\n",
        "        y = self._merge_heads(y)                 # [B, T, C]\n",
        "        y = self.out_proj(y)\n",
        "        y = self.proj_drop(y)\n",
        "\n",
        "        return y, attn  # retornamos 'attn' para visualização posterior"
      ],
      "metadata": {
        "id": "X6BYQjLq3V9x"
      },
      "execution_count": null,
      "outputs": []
    },
    {
      "cell_type": "markdown",
      "source": [
        "### **7. Feed-Forward Network (FFN)**"
      ],
      "metadata": {
        "id": "ARYrqImY5h-P"
      }
    },
    {
      "cell_type": "markdown",
      "source": [
        "Depois da atenção multi-cabeças, cada token já tem informações contextualizadas do restante da sequência. Mas ainda precisamos refinar cada posição individualmente, aumentando a capacidade de representação do modelo.\n",
        "É aí que entra a Feed-Forward Network (FFN).\n",
        "\n",
        "Ela é chamada de position-wise ML (Multi-Layer Perceptron) porque:\n",
        "\n",
        "A mesma transformação é aplicada a cada posição do token independentemente.\n",
        "\n",
        "*Não há troca de informação entre tokens nessa etapa (essa troca já foi feita na atenção).*\n",
        "\n",
        "$$\n",
        "\\text{FFN}(x) = \\text{Dropout}\\!\\left( W_2 \\, \\sigma(W_1 x + b_1) + b_2 \\right)\n",
        "$$\n",
        "\n",
        "$\\text{onde:}$  \n",
        "$\\quad x \\;=\\;$ vetor de entrada em uma posição <p>\n",
        "$\\quad W_1 \\in \\mathbb{R}^{d_{\\text{model}} \\times 4d_{\\text{model}}},$  \n",
        "$\\quad W_2 \\in \\mathbb{R}^{4d_{\\text{model}} \\times d_{\\text{model}}},$  \n",
        "$\\quad \\sigma =$ função de ativação (GELU) <p>\n",
        "$\\quad b_1, b_2$ biases aprendíveis  \n",
        "\n",
        "Usamos:  \n",
        "- expansão de **4× em relação a $d_{model}$**,  \n",
        "- ativação [**GELU**](https://medium.com/@shauryagoel/gelu-gaussian-error-linear-unit-4ec59fb2e47c) (padrão em LMs modernos)\n"
      ],
      "metadata": {
        "id": "bojJsqNk0uwB"
      }
    },
    {
      "cell_type": "code",
      "source": [
        "# domínio\n",
        "x = np.linspace(-5, 5, 2000)\n",
        "x"
      ],
      "metadata": {
        "colab": {
          "base_uri": "https://localhost:8080/"
        },
        "id": "qn-HuD4D3DiX",
        "outputId": "daf4b352-ed21-4c4f-a448-dcafba109703"
      },
      "execution_count": null,
      "outputs": [
        {
          "output_type": "execute_result",
          "data": {
            "text/plain": [
              "array([-5.       , -4.9949975, -4.989995 , ...,  4.989995 ,  4.9949975,\n",
              "        5.       ])"
            ]
          },
          "metadata": {},
          "execution_count": 36
        }
      ]
    },
    {
      "cell_type": "code",
      "source": [
        "# ReLU\n",
        "relu = np.maximum(0.0, x)\n",
        "relu\n",
        "\n"
      ],
      "metadata": {
        "colab": {
          "base_uri": "https://localhost:8080/"
        },
        "id": "nj1yfjHt3FXQ",
        "outputId": "3c0616dc-7a3a-44cf-c119-7130e91c3637"
      },
      "execution_count": null,
      "outputs": [
        {
          "output_type": "execute_result",
          "data": {
            "text/plain": [
              "array([0.       , 0.       , 0.       , ..., 4.989995 , 4.9949975,\n",
              "       5.       ])"
            ]
          },
          "metadata": {},
          "execution_count": 37
        }
      ]
    },
    {
      "cell_type": "code",
      "source": [
        "# GELU (aproximação com tanh de Hendrycks & Gimpel)\n",
        "gelu = 0.5 * x * (1.0 + np.tanh(np.sqrt(2/np.pi) * (x + 0.044715 * x**3)))\n",
        "gelu"
      ],
      "metadata": {
        "colab": {
          "base_uri": "https://localhost:8080/"
        },
        "id": "ICF-LMK93mwV",
        "outputId": "10d28b92-a246-47e3-c40d-fdadd7e8dce4"
      },
      "execution_count": null,
      "outputs": [
        {
          "output_type": "execute_result",
          "data": {
            "text/plain": [
              "array([-2.29179620e-07, -2.37040867e-07, -2.45158403e-07, ...,\n",
              "        4.98999475e+00,  4.99499726e+00,  4.99999977e+00])"
            ]
          },
          "metadata": {},
          "execution_count": 38
        }
      ]
    },
    {
      "cell_type": "code",
      "source": [
        "# Derivadas numéricas\n",
        "drelu = np.gradient(relu, x)\n",
        "dgelu = np.gradient(gelu, x)"
      ],
      "metadata": {
        "id": "XkyEng5u3GcC"
      },
      "execution_count": null,
      "outputs": []
    },
    {
      "cell_type": "code",
      "source": [
        "fig, axes = plt.subplots(1, 2, figsize=(12, 4))\n",
        "\n",
        "# Ativações\n",
        "axes[0].plot(x, relu, label=\"ReLU\")\n",
        "axes[0].plot(x, gelu, label=\"GELU (tanh approx)\")\n",
        "axes[0].set_title(\"Ativações: ReLU vs GELU\")\n",
        "axes[0].set_xlabel(\"x\")\n",
        "axes[0].set_ylabel(\"f(x)\")\n",
        "axes[0].legend()\n",
        "axes[0].grid(True, linestyle=\"--\", alpha=0.3)\n",
        "\n",
        "# Derivadas\n",
        "axes[1].plot(x, drelu, label=\"ReLU'\")\n",
        "axes[1].plot(x, dgelu, label=\"GELU' (aprox num.)\")\n",
        "axes[1].set_title(\"Derivadas: ReLU vs GELU\")\n",
        "axes[1].set_xlabel(\"x\")\n",
        "axes[1].set_ylabel(\"f'(x)\")\n",
        "axes[1].legend()\n",
        "axes[1].grid(True, linestyle=\"--\", alpha=0.3)\n",
        "\n",
        "plt.show()"
      ],
      "metadata": {
        "colab": {
          "base_uri": "https://localhost:8080/",
          "height": 410
        },
        "id": "QngLsxs-VXKu",
        "outputId": "d231345a-f63e-4d89-9a26-be141d733f34"
      },
      "execution_count": null,
      "outputs": [
        {
          "output_type": "display_data",
          "data": {
            "text/plain": [
              "<Figure size 1200x400 with 2 Axes>"
            ],
            "image/png": "[encoded data removed]"
          },
          "metadata": {}
        }
      ]
    },
    {
      "cell_type": "code",
      "source": [
        "class FeedForward(nn.Module):\n",
        "    \"\"\"\n",
        "    FFN posição-wise (mesma transformação aplicada a cada posição):\n",
        "    - Expansão 4x\n",
        "    - GELU (ou ReLU) como ativação\n",
        "    - Dropout para regularização\n",
        "    \"\"\"\n",
        "    def __init__(self, d_model: int, d_ff: Optional[int] = None, dropout: float = 0.1, activation: str = 'gelu'):\n",
        "        super().__init__()\n",
        "        d_ff = d_ff or 4 * d_model\n",
        "        act = nn.GELU() if activation.lower() == 'gelu' else nn.ReLU(inplace=True)\n",
        "\n",
        "        self.net = nn.Sequential(\n",
        "            nn.Linear(d_model, d_ff),\n",
        "            act,\n",
        "            nn.Dropout(dropout),\n",
        "            nn.Linear(d_ff, d_model),\n",
        "            nn.Dropout(dropout),\n",
        "        )\n",
        "\n",
        "    def forward(self, x: torch.Tensor) -> torch.Tensor:\n",
        "        return self.net(x)"
      ],
      "metadata": {
        "id": "1FymPvW85cT0"
      },
      "execution_count": null,
      "outputs": []
    },
    {
      "cell_type": "markdown",
      "source": [
        "### **8. Bloco Transformer Completo**"
      ],
      "metadata": {
        "id": "bonI1xE-5wAp"
      }
    },
    {
      "cell_type": "markdown",
      "source": [
        "Juntamos tudo no bloco Transformer no estilo **Pre-LayerNorm**:  \n",
        "\n",
        "1. Normalizamos, aplicamos a atenção multi-cabeças e somamos o residual.  \n",
        "2. Normalizamos novamente, passamos pela FFN e somamos outro residual.  "
      ],
      "metadata": {
        "id": "GskCzLuc03-h"
      }
    },
    {
      "cell_type": "code",
      "source": [
        "class TransformerBlock(nn.Module):\n",
        "    \"\"\"\n",
        "    Bloco Transformer (estilo GPT) com:\n",
        "    - Pre-LayerNorm -> estabilidade em redes profundas\n",
        "    - Multi-Head Attention (com máscara causal/padding)\n",
        "    - Residual + FFN posição-wise\n",
        "    \"\"\"\n",
        "    def __init__(self, d_model: int, n_heads: int = 8, d_ff: Optional[int] = None,\n",
        "                 dropout: float = 0.1, activation: str = 'gelu'):\n",
        "        super().__init__()\n",
        "        self.ln1 = nn.LayerNorm(d_model)\n",
        "        self.mha = MultiHeadAttention(d_model, n_heads, dropout)\n",
        "        self.ln2 = nn.LayerNorm(d_model)\n",
        "        self.ffn = FeedForward(d_model, d_ff, dropout, activation)\n",
        "\n",
        "    def forward(self, x: torch.Tensor, mask: Optional[torch.Tensor] = None):\n",
        "        # 1) Atenção com normalização antes (Pre-LN) + residual\n",
        "        h, attn = self.mha(self.ln1(x), mask=mask)\n",
        "        x = x + h\n",
        "\n",
        "        # 2) FFN com normalização antes (Pre-LN) + residual\n",
        "        h = self.ffn(self.ln2(x))\n",
        "        x = x + h\n",
        "\n",
        "        return x, attn"
      ],
      "metadata": {
        "id": "nzAmjg8550HC"
      },
      "execution_count": null,
      "outputs": []
    },
    {
      "cell_type": "markdown",
      "source": [
        "### **9. Modelo Linguagem**"
      ],
      "metadata": {
        "id": "gWxflXHS5_t4"
      }
    },
    {
      "cell_type": "markdown",
      "source": [
        "Montamos o modelo **auto-regressivo** com os seguintes componentes:  \n",
        "- **embedding de tokens**,  \n",
        "- **embedding posicionais**,  \n",
        "- uma pilha de **blocos Transformer**,  \n",
        "- **normalização final**,  \n",
        "- e a **cabeça de linguagem** para previsão do próximo token.  \n",
        "\n",
        "Ativamos **weight tying**, isto é, compartilhamos os pesos entre o embedding de entrada e a projeção final, reduzindo o número de parâmetros e favorecendo a generalização.  \n",
        "\n",
        "$$\n",
        "P(x_t \\mid x_{<t}) = \\text{softmax}(W \\, h_t)\n",
        "$$\n",
        "\n",
        "$\\text{onde:}$ <p>  \n",
        "$\\quad h_t$ representação do Transformer na posição <p>\n",
        "$\\quad W$ matriz de pesos (compartilhada com o embedding)  \n",
        "\n",
        "Para geração de texto, usamos **amostragem com temperatura**:  \n",
        "\n",
        "$$\n",
        "P_i = \\frac{\\exp(z_i / T)}{\\sum_j \\exp(z_j / T)}\n",
        "$$\n",
        "\n",
        "$\\text{onde:}$ <p>\n",
        "$\\quad z_i$ logit do token<p>\n",
        "$\\quad T$ temperatura de amostragem  \n",
        "\n",
        "- Valores mais baixos ($0.5 \\!-\\! 0.7$) produzem saídas **mais conservadoras**,  \n",
        "- Valores mais altos ($1.0 \\!-\\! 1.2$) aumentam a **diversidade**, mas com risco de perder coerência.  \n",
        "\n",
        "Também podemos combinar com:  \n",
        "- **top-p** ($0.9 \\!-\\! 0.95$): mantém apenas tokens dentro da massa de probabilidade cumulativa $p$,  \n",
        "- **top-k** ($40 \\!-\\! 100$): limita a escolha aos $k$ tokens mais prováveis.  "
      ],
      "metadata": {
        "id": "8YbDnRF2-IP2"
      }
    },
    {
      "cell_type": "code",
      "source": [
        "@dataclass\n",
        "class AutoregressiveConfig:\n",
        "    \"\"\"Configurações do modelo.\"\"\"\n",
        "    vocab_size: int = vocab_size\n",
        "    d_model: int = 512     # Dimensão do embedding\n",
        "    n_heads: int = 8       # Cabeças de atenção\n",
        "    n_layers: int = 6      # Camadas Transformer\n",
        "    d_ff: int = 2048       # Dimensão do feed-forward\n",
        "    max_len: int = 512     # Comprimento máximo da sequência\n",
        "    dropout: float = 0.1\n",
        "    activation: str = 'gelu'\n",
        "    weight_tying: bool = True  # Compartilhar pesos embedding <-> output"
      ],
      "metadata": {
        "id": "wosSrWWx6B1S"
      },
      "execution_count": null,
      "outputs": []
    },
    {
      "cell_type": "code",
      "source": [
        "class AutoregressiveTransformer(nn.Module):\n",
        "    \"\"\"\n",
        "    Modelo de linguagem auto-regressivo:\n",
        "    - Embedding de tokens + PositionalEncoding (seno/cosseno)\n",
        "    - Pilha de blocos Transformer (Pre-LN)\n",
        "    - Cabeça de linguagem (weight tying opcional)\n",
        "    - Forward retorna logits (+ loss opcional) e mapas de atenção\n",
        "    - Generate com temperature/top-k/top-p/repetition penalty/eos/pad\n",
        "    \"\"\"\n",
        "    def __init__(self, config: AutoregressiveConfig):\n",
        "        super().__init__()\n",
        "        self.config = config\n",
        "\n",
        "        # Embedding de tokens (ID -> vetor)\n",
        "        self.token_embedding = nn.Embedding(config.vocab_size, config.d_model)\n",
        "\n",
        "        # Codificação posicional (ordem dos tokens)\n",
        "        self.pos_encoding = PositionalEncoding(config.d_model, config.max_len)\n",
        "\n",
        "        # Dropout inicial\n",
        "        self.dropout = nn.Dropout(config.dropout)\n",
        "\n",
        "        # Pilha de blocos Transformer\n",
        "        self.blocks = nn.ModuleList([\n",
        "            TransformerBlock(config.d_model, config.n_heads, config.d_ff,\n",
        "                             config.dropout, config.activation)\n",
        "            for _ in range(config.n_layers)\n",
        "        ])\n",
        "\n",
        "        # Normalização final + projeção para o vocabulário\n",
        "        self.ln_final = nn.LayerNorm(config.d_model)\n",
        "        self.lm_head = nn.Linear(config.d_model, config.vocab_size, bias=False)\n",
        "\n",
        "        # Weight tying (compartilha pesos do embedding com a cabeça de linguagem)\n",
        "        if config.weight_tying:\n",
        "            self.token_embedding.weight = self.lm_head.weight\n",
        "\n",
        "        # Inicialização\n",
        "        self.apply(self._init_weights)\n",
        "\n",
        "    def _init_weights(self, module):\n",
        "        \"\"\"Inicialização estilo GPT para estabilidade.\"\"\"\n",
        "        if isinstance(module, nn.Linear):\n",
        "            nn.init.normal_(module.weight, 0.0, 0.02)\n",
        "            if module.bias is not None:\n",
        "                nn.init.zeros_(module.bias)\n",
        "        elif isinstance(module, nn.Embedding):\n",
        "            nn.init.normal_(module.weight, 0.0, 0.02)\n",
        "        elif isinstance(module, nn.LayerNorm):\n",
        "            nn.init.zeros_(module.bias); nn.init.ones_(module.weight)\n",
        "\n",
        "    def create_causal_mask(self, seq_len: int, device: torch.device) -> torch.Tensor:\n",
        "        \"\"\"\n",
        "        Máscara causal triângulo inferior (permite olhar só para o passado):\n",
        "        shape: [1, 1, T, T] com True onde PODE atender.\n",
        "        \"\"\"\n",
        "        causal = torch.tril(torch.ones((seq_len, seq_len), device=device, dtype=torch.bool))\n",
        "        return causal[None, None, :, :]  # [1, 1, T, T]\n",
        "\n",
        "    def forward(self, idx: torch.Tensor, targets: Optional[torch.Tensor] = None, pad_id: Optional[int] = None):\n",
        "        \"\"\"\n",
        "        idx:     [B, T]\n",
        "        targets: [B, T]\n",
        "        pad_id:  se informado, ignora padding na loss e na atenção\n",
        "        \"\"\"\n",
        "        B, T = idx.shape\n",
        "\n",
        "        # Sanidade\n",
        "        max_token_id = torch.max(idx)\n",
        "        if max_token_id >= self.config.vocab_size:\n",
        "            raise ValueError(f\"Token ID {max_token_id} excede vocab_size {self.config.vocab_size}\")\n",
        "\n",
        "        # Embedding (com escala) + PE + dropout\n",
        "        x = self.token_embedding(idx) * math.sqrt(self.config.d_model)  # <<< escala recomendada\n",
        "        x = self.pos_encoding(x)\n",
        "        x = self.dropout(x)\n",
        "\n",
        "        # Máscara causal [1,1,T,T]\n",
        "        mask = self.create_causal_mask(T, idx.device)  # True = permitido\n",
        "\n",
        "        # Máscara de padding (chaves) [B,1,1,T] -> broadcast para [B,1,T,T]\n",
        "        if pad_id is not None:\n",
        "            key_padding = (idx != pad_id).unsqueeze(1).unsqueeze(2)  # True = token válido\n",
        "            mask = mask & key_padding\n",
        "\n",
        "        # Pilha de blocos\n",
        "        attns = []\n",
        "        for block in self.blocks:\n",
        "            x, a = block(x, mask)\n",
        "            attns.append(a)\n",
        "\n",
        "        # Camada final\n",
        "        x = self.ln_final(x)\n",
        "        logits = self.lm_head(x)  # [B, T, V]\n",
        "\n",
        "        loss = None\n",
        "        if targets is not None:\n",
        "            ignore_idx = pad_id if pad_id is not None else -100\n",
        "            loss = F.cross_entropy(\n",
        "                logits.view(-1, logits.size(-1)),\n",
        "                targets.view(-1),\n",
        "                ignore_index=ignore_idx\n",
        "            )\n",
        "\n",
        "        return logits, loss, attns\n",
        "\n",
        "\n",
        "    @torch.no_grad()\n",
        "    def generate(self,\n",
        "                 idx: torch.Tensor,\n",
        "                 max_new_tokens: int = 100,\n",
        "                 temperature: float = 1.0,\n",
        "                 top_p: Optional[float] = None,\n",
        "                 top_k: Optional[int] = None,\n",
        "                 eos_id: Optional[int] = None,\n",
        "                 repetition_penalty: float = 1.0,\n",
        "                 return_new_only: bool = False,\n",
        "                 pad_id: Optional[int] = None):\n",
        "        \"\"\"\n",
        "        Geração auto-regressiva controlável:\n",
        "        - temperature: 0 => greedy; >0 => amostragem\n",
        "        - top_k/top_p (nucleus): corta cauda da distribuição\n",
        "        - repetition_penalty: penaliza tokens já vistos no contexto\n",
        "        - eos_id: para antecipar parada assim que [SEP] for gerado\n",
        "        - pad_id: para formar máscara de atenção (se houver padding no prompt)\n",
        "        \"\"\"\n",
        "        self.eval()\n",
        "\n",
        "        temperature = max(temperature, 1e-8)\n",
        "        if top_p is not None: top_p = float(min(max(top_p, 0.0), 1.0))\n",
        "        if top_k is not None: top_k = int(max(1, top_k))\n",
        "\n",
        "        B, _ = idx.size()\n",
        "        new_tokens = []\n",
        "\n",
        "        # Sanidade de entrada\n",
        "        max_input_id = torch.max(idx)\n",
        "        if max_input_id >= self.config.vocab_size:\n",
        "            raise ValueError(f\"Input token ID {max_input_id} excede vocab_size {self.config.vocab_size}\")\n",
        "\n",
        "        for _ in range(max_new_tokens):\n",
        "            # Contexto limitado ao tamanho máximo do modelo\n",
        "            ctx = idx[:, -self.config.max_len:]\n",
        "\n",
        "            # Forward para obter logits do próximo token\n",
        "            logits, _, _ = self(ctx, pad_id=pad_id)\n",
        "            logits = logits[:, -1, :]  # só o último passo [B, V]\n",
        "\n",
        "            # Penaliza repetição (reduz prob. de tokens já usados)\n",
        "            if repetition_penalty != 1.0:\n",
        "                for b in range(B):\n",
        "                    seq = ctx[b] if pad_id is None else ctx[b][ctx[b] != pad_id]\n",
        "                    uniq = torch.unique(seq)\n",
        "                    uniq = uniq[uniq < logits.size(-1)]\n",
        "                    # Se o logit é positivo, divide; se negativo, multiplica\n",
        "                    logits[b, uniq] = torch.where(\n",
        "                        logits[b, uniq] > 0,\n",
        "                        logits[b, uniq] / repetition_penalty,\n",
        "                        logits[b, uniq] * repetition_penalty\n",
        "                    )\n",
        "\n",
        "            # Greedy (temperature == 0) vs Sampling\n",
        "            if temperature == 0:\n",
        "                next_token = torch.argmax(logits, dim=-1, keepdim=True)\n",
        "            else:\n",
        "                logits = logits / temperature\n",
        "\n",
        "                # Top-k: mantém apenas os k melhores\n",
        "                if top_k is not None and top_k < logits.size(-1):\n",
        "                    v, _ = torch.topk(logits, top_k, dim=-1)\n",
        "                    logits[logits < v[..., -1, None]] = -float('inf')\n",
        "\n",
        "                # Top-p (nucleus): mantém a menor banda de tokens cuja soma de probs >= p\n",
        "                if top_p is not None and 0.0 < top_p < 1.0:\n",
        "                    sorted_logits, sorted_idx = torch.sort(logits, descending=True)\n",
        "                    sorted_probs = F.softmax(sorted_logits, dim=-1)\n",
        "                    cumprobs = torch.cumsum(sorted_probs, dim=-1)\n",
        "\n",
        "                    # Mascara tudo que ultrapassa p (preserva pelo menos um token)\n",
        "                    cutoff = cumprobs > top_p\n",
        "                    cutoff[..., 1:] = cutoff[..., :-1].clone()\n",
        "                    cutoff[..., 0] = False\n",
        "                    sorted_logits[cutoff] = -float('inf')\n",
        "                    logits = logits.scatter(1, sorted_idx, sorted_logits)\n",
        "\n",
        "                probs = F.softmax(logits, dim=-1)\n",
        "                if torch.isnan(probs).any():\n",
        "                    # fallback defensivo\n",
        "                    next_token = torch.argmax(logits, dim=-1, keepdim=True)\n",
        "                else:\n",
        "                    next_token = torch.multinomial(probs, num_samples=1)\n",
        "\n",
        "            # Sanidade do token\n",
        "            if torch.max(next_token) >= self.config.vocab_size:\n",
        "                break\n",
        "\n",
        "            # Concatena novo token ao contexto\n",
        "            idx = torch.cat([idx, next_token], dim=1)\n",
        "            new_tokens.append(next_token)\n",
        "\n",
        "            # Parada se todos geraram EOS\n",
        "            if eos_id is not None and (next_token == eos_id).all():\n",
        "                break\n",
        "\n",
        "        if not new_tokens:\n",
        "            return idx if not return_new_only else torch.empty((B, 0), dtype=idx.dtype, device=idx.device)\n",
        "\n",
        "        out = torch.cat(new_tokens, dim=1)\n",
        "        return out if return_new_only else idx"
      ],
      "metadata": {
        "id": "ywZ4TMNp6CM1"
      },
      "execution_count": null,
      "outputs": []
    },
    {
      "cell_type": "code",
      "source": [
        "# Criar modelo\n",
        "config = AutoregressiveConfig(\n",
        "    vocab_size=vocab_size,\n",
        "    d_model=512,\n",
        "    n_heads=8,\n",
        "    n_layers=6,\n",
        "    d_ff=2048,\n",
        "    max_len=512,\n",
        "    dropout=0.1,\n",
        "    weight_tying=True\n",
        ")\n",
        "\n",
        "# Inicialização do Modelo\n",
        "model = AutoregressiveTransformer(config).to(device)"
      ],
      "metadata": {
        "id": "07N6fZzn6CJb"
      },
      "execution_count": null,
      "outputs": []
    },
    {
      "cell_type": "markdown",
      "source": [
        "### **10. Preparação dos Dados**"
      ],
      "metadata": {
        "id": "A35iXuZ16Szu"
      }
    },
    {
      "cell_type": "markdown",
      "source": [
        "Tokenizamos o corpus completo, convertendo o texto em **IDs inteiros** e depois dividimos em conjuntos de treino e validação (no código, 80% / 20%).  \n",
        "\n",
        "Para treinar de forma **auto-regressiva**, amostramos janelas de comprimento $block\\_size$ usando a função `get_batch`:  \n",
        "\n",
        "- cada batch contém pares $(x, y)$,  \n",
        "- onde $x$ são os tokens de entrada,  \n",
        "- e $y$ são os mesmos tokens deslocados em 1 posição, ou seja, os alvos da predição.  \n",
        "\n",
        "$$\n",
        "x = [x_t, \\ldots, x_{t+block\\_size-1}], \\quad\n",
        "y = [x_{t+1}, \\ldots, x_{t+block\\_size}]\n",
        "$$  \n",
        "\n",
        "Aumentar $block\\_size$ fornece **mais contexto** para cada predição, mas o custo de memória e tempo cresce de forma aproximadamente **quadrática** com o tamanho da janela, exigindo um equilíbrio cuidadoso.  "
      ],
      "metadata": {
        "id": "pmxO4P93-XYS"
      }
    },
    {
      "cell_type": "code",
      "source": [
        "# Tokenizar o corpus completo\n",
        "print(\"Tokenizando corpus...\")\n",
        "text_ids = tokenizer.encode(textos)\n",
        "print(f\"Total de tokens: {len(text_ids):,}\")\n",
        "\n",
        "# Converter para tensor\n",
        "data = torch.tensor(text_ids, dtype=torch.long)\n",
        "\n",
        "# Dividir em treino (75%) e validação (25%)\n",
        "n_train = int(0.75 * len(data))\n",
        "train_data = data[:n_train]\n",
        "val_data   = data[n_train:]\n",
        "\n",
        "print(\"Dados preparados:\")\n",
        "print(f\"   Treino: {len(train_data):,} tokens\")\n",
        "print(f\"   Validação: {len(val_data):,} tokens\")"
      ],
      "metadata": {
        "colab": {
          "base_uri": "https://localhost:8080/"
        },
        "id": "96jLzJ7GCOXJ",
        "outputId": "09e29b3e-def1-48a2-b7d5-504cb950ba6d"
      },
      "execution_count": null,
      "outputs": [
        {
          "output_type": "stream",
          "name": "stdout",
          "text": [
            "Tokenizando corpus...\n",
            "Total de tokens: 118,298,407\n",
            "Dados preparados:\n",
            "   Treino: 88,723,805 tokens\n",
            "   Validação: 29,574,602 tokens\n"
          ]
        }
      ]
    },
    {
      "cell_type": "markdown",
      "source": [
        "### **11. Treinamento do Modelo**"
      ],
      "metadata": {
        "id": "wUp3Mqx6FJwa"
      }
    },
    {
      "cell_type": "markdown",
      "source": [
        "O loop de treino vamos utilziar:  \n",
        "- `AdamW` como otimizador,  \n",
        "- `mixed precision` para acelerar e economizar memória,  \n",
        "- `clipping de gradiente` para evitar explosões,  \n",
        "- `CosineAnnealingWarmRestarts` como `scheduler` da taxa de aprendizado.  \n",
        "\n",
        "Em intervalos regulares, calculamos a **perda média** em treino e validação (para reduzir variância) e salvamos o melhor modelo com base na menor *val\\_loss*. A métrica principal é a **perplexidade (PPL)**: A **Perplexidad**e mede quão \"surpreso\" o modelo fica com o texto de teste. Valores menores indicam melhor performance.\n",
        "\n",
        "$$\n",
        "\\text{PPL} = \\exp(\\text{loss})\n",
        "$$  \n",
        "\n",
        "Esperamos observar a `val\\_loss` caindo ao longo do tempo e a perplexidade acompanhando essa queda.  \n",
        "\n",
        "- Se a curva “achatar” cedo → ajuste a **taxa de aprendizado** ou o **agendamento**.  \n",
        "- Se oscilar demais → aumente `eval_iters` para médias mais estáveis.\n"
      ],
      "metadata": {
        "id": "1F_DAwXG-aWl"
      }
    },
    {
      "cell_type": "code",
      "source": [
        "def get_batch(split, batch_size=32, block_size=128):\n",
        "    \"\"\"Gera um batch de treino ou validação.\"\"\"\n",
        "    data = train_data if split == 'train' else val_data\n",
        "\n",
        "    # Índices iniciais aleatórios\n",
        "    ix = torch.randint(len(data) - block_size, (batch_size,))\n",
        "\n",
        "    # Constrói entradas (x) e alvos (y)\n",
        "    x = torch.stack([data[i:i+block_size] for i in ix])\n",
        "    y = torch.stack([data[i+1:i+block_size+1] for i in ix])\n",
        "\n",
        "    return x.to(device), y.to(device)\n",
        "\n",
        "\n",
        "@torch.no_grad()\n",
        "def estimate_loss(model, eval_iters=200):\n",
        "    \"\"\"Calcula perda média em treino e validação.\"\"\"\n",
        "    model.eval()\n",
        "    out = {}\n",
        "\n",
        "    for split in ['train', 'val']:\n",
        "        losses = torch.zeros(eval_iters)\n",
        "        for k in range(eval_iters):\n",
        "            X, Y = get_batch(split)\n",
        "            logits, loss, _ = model(X, Y)   # <- ignora attn_weights\n",
        "            losses[k] = loss.item()\n",
        "        out[split] = losses.mean().item()   # <-- retorna float\n",
        "\n",
        "    model.train()\n",
        "    return out"
      ],
      "metadata": {
        "id": "o0hZf0IrGI6L"
      },
      "execution_count": null,
      "outputs": []
    },
    {
      "cell_type": "code",
      "source": [
        "@torch.no_grad()\n",
        "def calculate_perplexity(model, split, batch_size=32, block_size=128, n_batches=100):\n",
        "    \"\"\"Calcula perplexidade média.\"\"\"\n",
        "    model.eval()\n",
        "    total_loss = 0.0\n",
        "\n",
        "    for _ in range(n_batches):\n",
        "        x, y = get_batch(split, batch_size, block_size)\n",
        "        logits, loss, _ = model(x, y)\n",
        "        total_loss += loss.item()\n",
        "\n",
        "    avg_loss = total_loss / n_batches\n",
        "    ppl = math.exp(avg_loss)  # perplexidade = e^(loss em nats)\n",
        "\n",
        "    model.train()\n",
        "    return ppl"
      ],
      "metadata": {
        "id": "rekqC8wF1N_A"
      },
      "execution_count": null,
      "outputs": []
    },
    {
      "cell_type": "code",
      "source": [
        "# Hiperparâmetros\n",
        "batch_size    = 64\n",
        "block_size    = 512\n",
        "learning_rate = 3e-4\n",
        "max_iters     = 20_000\n",
        "eval_interval = 500\n",
        "eval_iters    = 200\n",
        "save_interval = 1_000\n",
        "\n",
        "# Criar otimizador\n",
        "optimizer = torch.optim.AdamW(model.parameters(), lr=learning_rate)"
      ],
      "metadata": {
        "id": "2s1PSMBi7ljj"
      },
      "execution_count": null,
      "outputs": []
    },
    {
      "cell_type": "code",
      "source": [
        "print(\"Iniciando o Treinamento do Modelo\")\n",
        "\n",
        "train_losses, val_losses, val_ppls = [], [], []\n",
        "best_val_loss = float('inf')\n",
        "\n",
        "# Inicializar GradScaler para mixed precision\n",
        "scaler = GradScaler()\n",
        "\n",
        "# Inicializa Cosine Learning Rate Scheduler\n",
        "scheduler = CosineAnnealingWarmRestarts(\n",
        "    optimizer,\n",
        "    T_0=max_iters // 10,  # Primeiro ciclo: ~10% do treino\n",
        "    T_mult=2,             # Dobra a cada restart\n",
        "    eta_min=learning_rate / 100\n",
        ")\n",
        "\n",
        "for iter in tqdm(range(max_iters), desc=\"Treinando\"):\n",
        "\n",
        "    # Avaliação periódica\n",
        "    if iter % eval_interval == 0 or iter == max_iters - 1:\n",
        "        losses = estimate_loss(model, eval_iters)\n",
        "        train_losses.append(losses['train'])\n",
        "        val_losses.append(losses['val'])\n",
        "\n",
        "        # Calcular perplexidade no conjunto de validação\n",
        "        val_ppl = calculate_perplexity(model, 'val', batch_size=32, block_size=block_size)\n",
        "        val_ppls.append(val_ppl)\n",
        "\n",
        "        print(f\"\\nIter {iter:5d} | Train: {losses['train']:.4f} | Val: {losses['val']:.4f} | PPL: {val_ppl:.2f}\")\n",
        "\n",
        "        # Salvar melhor modelo\n",
        "        if losses['val'] < best_val_loss:\n",
        "            best_val_loss = losses['val']\n",
        "            if not math.isnan(best_val_loss):\n",
        "                print(f\"   Novo melhor modelo! Val Loss: {best_val_loss:.4f} | Perplexity: {val_ppl:.2f}\")\n",
        "\n",
        "                torch.save({\n",
        "                    'iter': iter,\n",
        "                    'model': model.state_dict(),\n",
        "                    'optim': optimizer.state_dict(),\n",
        "                    'train_loss': losses['train'],\n",
        "                    'val_loss': losses['val'],\n",
        "                    'val_perplexity': val_ppl,\n",
        "                    'config': config.__dict__,\n",
        "                    'tokenizer': \"neuralmind/bert-large-portuguese-cased\"\n",
        "                }, '/content/drive/MyDrive/modelo_transforms/best_model.pt')\n",
        "\n",
        "    # Checkpoint periódico\n",
        "    if iter % save_interval == 0 and iter > 0:\n",
        "        print(f\"   Checkpoint salvo em iter {iter}\")\n",
        "        torch.save({\n",
        "            'iter': iter,\n",
        "            'model': model.state_dict(),\n",
        "            'optim': optimizer.state_dict(),\n",
        "            'train_losses': train_losses,\n",
        "            'val_losses': val_losses,\n",
        "            'config': config.__dict__  # <-- consistente\n",
        "        }, f'/content/drive/MyDrive/modelo_transforms/checkpoint_{iter}.pt')\n",
        "\n",
        "    # Batch de treino\n",
        "    xb, yb = get_batch('train', batch_size, block_size)\n",
        "\n",
        "    # Forward + loss (mixed precision só na GPU)\n",
        "    use_autocast = (device.type == 'cuda')\n",
        "    with autocast(device_type='cuda', enabled=use_autocast):\n",
        "        logits, loss, _ = model(xb, yb)\n",
        "\n",
        "    # Backward\n",
        "    optimizer.zero_grad(set_to_none=True)\n",
        "    scaler.scale(loss).backward()\n",
        "\n",
        "    # Clipping de gradientes\n",
        "    scaler.unscale_(optimizer)  # Unscale antes do clipping\n",
        "    torch.nn.utils.clip_grad_norm_(model.parameters(), 1.0)\n",
        "\n",
        "    # Optimizer step\n",
        "    scaler.step(optimizer)\n",
        "    scaler.update()\n",
        "\n",
        "    # Step do scheduler por iteração\n",
        "    scheduler.step(iter)"
      ],
      "metadata": {
        "id": "12VNR0YRGP5z",
        "colab": {
          "base_uri": "https://localhost:8080/"
        },
        "outputId": "ec29efb5-46c7-4192-e7da-48012c37195c"
      },
      "execution_count": null,
      "outputs": [
        {
          "metadata": {
            "tags": null
          },
          "name": "stdout",
          "output_type": "stream",
          "text": [
            "Iniciando o Treinamento do Modelo\n"
          ]
        },
        {
          "metadata": {
            "tags": null
          },
          "name": "stderr",
          "output_type": "stream",
          "text": [
            "\rTreinando:   0%|          | 0/20000 [00:00<?, ?it/s]"
          ]
        },
        {
          "metadata": {
            "tags": null
          },
          "name": "stdout",
          "output_type": "stream",
          "text": [
            "\n",
            "Iter     0 | Train: 10.3944 | Val: 10.3965 | PPL: 33168.01\n",
            "   Novo melhor modelo! Val Loss: 10.3965 | Perplexity: 33168.01\n"
          ]
        },
        {
          "metadata": {
            "tags": null
          },
          "name": "stderr",
          "output_type": "stream",
          "text": [
            "Treinando:   2%|▎         | 500/20000 [01:39<51:47,  6.28it/s]"
          ]
        },
        {
          "metadata": {
            "tags": null
          },
          "name": "stdout",
          "output_type": "stream",
          "text": [
            "\n",
            "Iter   500 | Train: 5.1075 | Val: 5.3956 | PPL: 215.63\n",
            "   Novo melhor modelo! Val Loss: 5.3956 | Perplexity: 215.63\n"
          ]
        },
        {
          "metadata": {
            "tags": null
          },
          "name": "stderr",
          "output_type": "stream",
          "text": [
            "Treinando:   5%|▌         | 1000/20000 [03:17<50:30,  6.27it/s]"
          ]
        },
        {
          "metadata": {
            "tags": null
          },
          "name": "stdout",
          "output_type": "stream",
          "text": [
            "\n",
            "Iter  1000 | Train: 4.5738 | Val: 4.8654 | PPL: 124.46\n",
            "   Novo melhor modelo! Val Loss: 4.8654 | Perplexity: 124.46\n",
            "   Checkpoint salvo em iter 1000\n"
          ]
        },
        {
          "metadata": {
            "tags": null
          },
          "name": "stderr",
          "output_type": "stream",
          "text": [
            "Treinando:   8%|▊         | 1500/20000 [04:58<49:12,  6.27it/s]"
          ]
        },
        {
          "metadata": {
            "tags": null
          },
          "name": "stdout",
          "output_type": "stream",
          "text": [
            "\n",
            "Iter  1500 | Train: 4.3708 | Val: 4.6760 | PPL: 101.76\n",
            "   Novo melhor modelo! Val Loss: 4.6760 | Perplexity: 101.76\n"
          ]
        },
        {
          "metadata": {
            "tags": null
          },
          "name": "stderr",
          "output_type": "stream",
          "text": [
            "Treinando:  10%|█         | 2000/20000 [06:36<47:48,  6.28it/s]"
          ]
        },
        {
          "metadata": {
            "tags": null
          },
          "name": "stdout",
          "output_type": "stream",
          "text": [
            "\n",
            "Iter  2000 | Train: 4.3511 | Val: 4.6482 | PPL: 97.80\n",
            "   Novo melhor modelo! Val Loss: 4.6482 | Perplexity: 97.80\n",
            "   Checkpoint salvo em iter 2000\n"
          ]
        },
        {
          "metadata": {
            "tags": null
          },
          "name": "stderr",
          "output_type": "stream",
          "text": [
            "Treinando:  12%|█▎        | 2500/20000 [08:16<46:28,  6.28it/s]"
          ]
        },
        {
          "metadata": {
            "tags": null
          },
          "name": "stdout",
          "output_type": "stream",
          "text": [
            "\n",
            "Iter  2500 | Train: 4.0829 | Val: 4.4079 | PPL: 71.61\n",
            "   Novo melhor modelo! Val Loss: 4.4079 | Perplexity: 71.61\n"
          ]
        },
        {
          "metadata": {
            "tags": null
          },
          "name": "stderr",
          "output_type": "stream",
          "text": [
            "Treinando:  15%|█▌        | 3000/20000 [09:54<45:11,  6.27it/s]"
          ]
        },
        {
          "output_type": "stream",
          "name": "stdout",
          "text": [
            "\n",
            "Iter  3000 | Train: 3.8907 | Val: 4.1846 | PPL: 55.78\n",
            "   Novo melhor modelo! Val Loss: 4.1846 | Perplexity: 55.78\n",
            "   Checkpoint salvo em iter 3000\n"
          ]
        },
        {
          "output_type": "stream",
          "name": "stderr",
          "text": [
            "Treinando:  18%|█▊        | 3500/20000 [11:34<43:51,  6.27it/s]"
          ]
        },
        {
          "output_type": "stream",
          "name": "stdout",
          "text": [
            "\n",
            "Iter  3500 | Train: 3.8072 | Val: 4.0849 | PPL: 49.03\n",
            "   Novo melhor modelo! Val Loss: 4.0849 | Perplexity: 49.03\n"
          ]
        },
        {
          "output_type": "stream",
          "name": "stderr",
          "text": [
            "Treinando:  20%|██        | 4000/20000 [13:12<42:35,  6.26it/s]"
          ]
        },
        {
          "output_type": "stream",
          "name": "stdout",
          "text": [
            "\n",
            "Iter  4000 | Train: 3.7042 | Val: 3.9960 | PPL: 45.23\n",
            "   Novo melhor modelo! Val Loss: 3.9960 | Perplexity: 45.23\n",
            "   Checkpoint salvo em iter 4000\n"
          ]
        },
        {
          "output_type": "stream",
          "name": "stderr",
          "text": [
            "Treinando:  22%|██▎       | 4500/20000 [14:51<41:08,  6.28it/s]"
          ]
        },
        {
          "output_type": "stream",
          "name": "stdout",
          "text": [
            "\n",
            "Iter  4500 | Train: 3.6739 | Val: 3.9317 | PPL: 43.10\n",
            "   Novo melhor modelo! Val Loss: 3.9317 | Perplexity: 43.10\n"
          ]
        },
        {
          "output_type": "stream",
          "name": "stderr",
          "text": [
            "Treinando:  25%|██▌       | 5000/20000 [16:29<39:53,  6.27it/s]"
          ]
        },
        {
          "output_type": "stream",
          "name": "stdout",
          "text": [
            "\n",
            "Iter  5000 | Train: 3.6170 | Val: 3.9119 | PPL: 42.03\n",
            "   Novo melhor modelo! Val Loss: 3.9119 | Perplexity: 42.03\n",
            "   Checkpoint salvo em iter 5000\n"
          ]
        },
        {
          "output_type": "stream",
          "name": "stderr",
          "text": [
            "Treinando:  28%|██▊       | 5500/20000 [18:09<38:28,  6.28it/s]"
          ]
        },
        {
          "output_type": "stream",
          "name": "stdout",
          "text": [
            "\n",
            "Iter  5500 | Train: 3.6260 | Val: 3.9006 | PPL: 40.82\n",
            "   Novo melhor modelo! Val Loss: 3.9006 | Perplexity: 40.82\n"
          ]
        },
        {
          "output_type": "stream",
          "name": "stderr",
          "text": [
            "Treinando:  30%|███       | 6000/20000 [19:47<37:11,  6.27it/s]"
          ]
        },
        {
          "output_type": "stream",
          "name": "stdout",
          "text": [
            "\n",
            "Iter  6000 | Train: 3.6098 | Val: 3.8968 | PPL: 40.78\n",
            "   Novo melhor modelo! Val Loss: 3.8968 | Perplexity: 40.78\n",
            "   Checkpoint salvo em iter 6000\n"
          ]
        },
        {
          "output_type": "stream",
          "name": "stderr",
          "text": [
            "Treinando:  33%|███▎      | 6501/20000 [21:44<20:25:04,  5.45s/it]"
          ]
        },
        {
          "output_type": "stream",
          "name": "stdout",
          "text": [
            "\n",
            "Iter  6500 | Train: 3.6362 | Val: 3.9254 | PPL: 40.88\n"
          ]
        },
        {
          "output_type": "stream",
          "name": "stderr",
          "text": [
            "Treinando:  35%|███▌      | 7000/20000 [23:04<34:34,  6.27it/s]"
          ]
        },
        {
          "output_type": "stream",
          "name": "stdout",
          "text": [
            "\n",
            "Iter  7000 | Train: 3.5491 | Val: 3.8452 | PPL: 39.59\n",
            "   Novo melhor modelo! Val Loss: 3.8452 | Perplexity: 39.59\n",
            "   Checkpoint salvo em iter 7000\n"
          ]
        },
        {
          "output_type": "stream",
          "name": "stderr",
          "text": [
            "Treinando:  38%|███▊      | 7500/20000 [24:43<33:10,  6.28it/s]"
          ]
        },
        {
          "output_type": "stream",
          "name": "stdout",
          "text": [
            "\n",
            "Iter  7500 | Train: 3.5222 | Val: 3.8227 | PPL: 37.86\n",
            "   Novo melhor modelo! Val Loss: 3.8227 | Perplexity: 37.86\n"
          ]
        },
        {
          "output_type": "stream",
          "name": "stderr",
          "text": [
            "Treinando:  40%|████      | 8000/20000 [26:21<31:54,  6.27it/s]"
          ]
        },
        {
          "output_type": "stream",
          "name": "stdout",
          "text": [
            "\n",
            "Iter  8000 | Train: 3.4908 | Val: 3.7924 | PPL: 36.28\n",
            "   Novo melhor modelo! Val Loss: 3.7924 | Perplexity: 36.28\n",
            "   Checkpoint salvo em iter 8000\n"
          ]
        },
        {
          "output_type": "stream",
          "name": "stderr",
          "text": [
            "Treinando:  42%|████▎     | 8500/20000 [28:00<30:31,  6.28it/s]"
          ]
        },
        {
          "output_type": "stream",
          "name": "stdout",
          "text": [
            "\n",
            "Iter  8500 | Train: 3.4317 | Val: 3.7445 | PPL: 34.65\n",
            "   Novo melhor modelo! Val Loss: 3.7445 | Perplexity: 34.65\n"
          ]
        },
        {
          "output_type": "stream",
          "name": "stderr",
          "text": [
            "Treinando:  45%|████▌     | 9000/20000 [29:39<29:16,  6.26it/s]"
          ]
        },
        {
          "output_type": "stream",
          "name": "stdout",
          "text": [
            "\n",
            "Iter  9000 | Train: 3.4003 | Val: 3.7233 | PPL: 34.12\n",
            "   Novo melhor modelo! Val Loss: 3.7233 | Perplexity: 34.12\n",
            "   Checkpoint salvo em iter 9000\n"
          ]
        },
        {
          "output_type": "stream",
          "name": "stderr",
          "text": [
            "Treinando:  48%|████▊     | 9500/20000 [31:18<27:57,  6.26it/s]"
          ]
        },
        {
          "output_type": "stream",
          "name": "stdout",
          "text": [
            "\n",
            "Iter  9500 | Train: 3.3891 | Val: 3.6907 | PPL: 32.78\n",
            "   Novo melhor modelo! Val Loss: 3.6907 | Perplexity: 32.78\n"
          ]
        },
        {
          "output_type": "stream",
          "name": "stderr",
          "text": [
            "Treinando:  50%|█████     | 10000/20000 [32:56<26:35,  6.27it/s]"
          ]
        },
        {
          "output_type": "stream",
          "name": "stdout",
          "text": [
            "\n",
            "Iter 10000 | Train: 3.3650 | Val: 3.6818 | PPL: 32.25\n",
            "   Novo melhor modelo! Val Loss: 3.6818 | Perplexity: 32.25\n",
            "   Checkpoint salvo em iter 10000\n"
          ]
        },
        {
          "output_type": "stream",
          "name": "stderr",
          "text": [
            "Treinando:  52%|█████▎    | 10500/20000 [34:36<25:13,  6.28it/s]"
          ]
        },
        {
          "output_type": "stream",
          "name": "stdout",
          "text": [
            "\n",
            "Iter 10500 | Train: 3.3295 | Val: 3.6599 | PPL: 31.32\n",
            "   Novo melhor modelo! Val Loss: 3.6599 | Perplexity: 31.32\n"
          ]
        },
        {
          "output_type": "stream",
          "name": "stderr",
          "text": [
            "Treinando:  55%|█████▌    | 11000/20000 [36:14<23:55,  6.27it/s]"
          ]
        },
        {
          "output_type": "stream",
          "name": "stdout",
          "text": [
            "\n",
            "Iter 11000 | Train: 3.3403 | Val: 3.6392 | PPL: 30.81\n",
            "   Novo melhor modelo! Val Loss: 3.6392 | Perplexity: 30.81\n",
            "   Checkpoint salvo em iter 11000\n"
          ]
        },
        {
          "output_type": "stream",
          "name": "stderr",
          "text": [
            "Treinando:  57%|█████▊    | 11500/20000 [37:53<22:38,  6.26it/s]"
          ]
        },
        {
          "output_type": "stream",
          "name": "stdout",
          "text": [
            "\n",
            "Iter 11500 | Train: 3.3115 | Val: 3.6224 | PPL: 31.14\n",
            "   Novo melhor modelo! Val Loss: 3.6224 | Perplexity: 31.14\n"
          ]
        },
        {
          "output_type": "stream",
          "name": "stderr",
          "text": [
            "Treinando:  60%|██████    | 12000/20000 [39:31<21:16,  6.27it/s]"
          ]
        },
        {
          "output_type": "stream",
          "name": "stdout",
          "text": [
            "\n",
            "Iter 12000 | Train: 3.2817 | Val: 3.6087 | PPL: 30.58\n",
            "   Novo melhor modelo! Val Loss: 3.6087 | Perplexity: 30.58\n",
            "   Checkpoint salvo em iter 12000\n"
          ]
        },
        {
          "output_type": "stream",
          "name": "stderr",
          "text": [
            "Treinando:  62%|██████▎   | 12500/20000 [41:11<19:58,  6.26it/s]"
          ]
        },
        {
          "output_type": "stream",
          "name": "stdout",
          "text": [
            "\n",
            "Iter 12500 | Train: 3.2660 | Val: 3.6013 | PPL: 30.45\n",
            "   Novo melhor modelo! Val Loss: 3.6013 | Perplexity: 30.45\n"
          ]
        },
        {
          "output_type": "stream",
          "name": "stderr",
          "text": [
            "Treinando:  65%|██████▌   | 13000/20000 [42:49<18:38,  6.26it/s]"
          ]
        },
        {
          "output_type": "stream",
          "name": "stdout",
          "text": [
            "\n",
            "Iter 13000 | Train: 3.3064 | Val: 3.5958 | PPL: 29.91\n",
            "   Novo melhor modelo! Val Loss: 3.5958 | Perplexity: 29.91\n",
            "   Checkpoint salvo em iter 13000\n"
          ]
        },
        {
          "output_type": "stream",
          "name": "stderr",
          "text": [
            "Treinando:  68%|██████▊   | 13501/20000 [44:46<9:49:57,  5.45s/it]"
          ]
        },
        {
          "output_type": "stream",
          "name": "stdout",
          "text": [
            "\n",
            "Iter 13500 | Train: 3.2687 | Val: 3.6030 | PPL: 29.81\n"
          ]
        },
        {
          "output_type": "stream",
          "name": "stderr",
          "text": [
            "Treinando:  70%|███████   | 14000/20000 [46:05<15:55,  6.28it/s]"
          ]
        },
        {
          "output_type": "stream",
          "name": "stdout",
          "text": [
            "\n",
            "Iter 14000 | Train: 3.2713 | Val: 3.6030 | PPL: 30.04\n",
            "   Checkpoint salvo em iter 14000\n"
          ]
        },
        {
          "output_type": "stream",
          "name": "stderr",
          "text": [
            "Treinando:  73%|███████▎  | 14501/20000 [48:01<8:19:22,  5.45s/it]"
          ]
        },
        {
          "output_type": "stream",
          "name": "stdout",
          "text": [
            "\n",
            "Iter 14500 | Train: 3.3352 | Val: 3.6533 | PPL: 31.68\n"
          ]
        },
        {
          "output_type": "stream",
          "name": "stderr",
          "text": [
            "Treinando:  75%|███████▌  | 15000/20000 [49:21<13:17,  6.27it/s]"
          ]
        },
        {
          "output_type": "stream",
          "name": "stdout",
          "text": [
            "\n",
            "Iter 15000 | Train: 3.3217 | Val: 3.6324 | PPL: 30.96\n",
            "   Checkpoint salvo em iter 15000\n"
          ]
        },
        {
          "output_type": "stream",
          "name": "stderr",
          "text": [
            "Treinando:  78%|███████▊  | 15501/20000 [51:17<6:48:57,  5.45s/it]"
          ]
        },
        {
          "output_type": "stream",
          "name": "stdout",
          "text": [
            "\n",
            "Iter 15500 | Train: 3.3034 | Val: 3.6292 | PPL: 31.04\n"
          ]
        },
        {
          "output_type": "stream",
          "name": "stderr",
          "text": [
            "Treinando:  80%|████████  | 16000/20000 [52:37<10:40,  6.25it/s]"
          ]
        },
        {
          "output_type": "stream",
          "name": "stdout",
          "text": [
            "\n",
            "Iter 16000 | Train: 3.2998 | Val: 3.6174 | PPL: 30.23\n",
            "   Checkpoint salvo em iter 16000\n"
          ]
        },
        {
          "output_type": "stream",
          "name": "stderr",
          "text": [
            "Treinando:  82%|████████▎ | 16500/20000 [54:15<09:17,  6.27it/s]"
          ]
        },
        {
          "output_type": "stream",
          "name": "stdout",
          "text": [
            "\n",
            "Iter 16500 | Train: 3.2617 | Val: 3.5935 | PPL: 29.86\n",
            "   Novo melhor modelo! Val Loss: 3.5935 | Perplexity: 29.86\n"
          ]
        },
        {
          "output_type": "stream",
          "name": "stderr",
          "text": [
            "Treinando:  85%|████████▌ | 17000/20000 [55:53<07:59,  6.26it/s]"
          ]
        },
        {
          "output_type": "stream",
          "name": "stdout",
          "text": [
            "\n",
            "Iter 17000 | Train: 3.2509 | Val: 3.5854 | PPL: 29.91\n",
            "   Novo melhor modelo! Val Loss: 3.5854 | Perplexity: 29.91\n",
            "   Checkpoint salvo em iter 17000\n"
          ]
        },
        {
          "output_type": "stream",
          "name": "stderr",
          "text": [
            "Treinando:  88%|████████▊ | 17500/20000 [57:32<06:38,  6.28it/s]"
          ]
        },
        {
          "output_type": "stream",
          "name": "stdout",
          "text": [
            "\n",
            "Iter 17500 | Train: 3.2482 | Val: 3.5690 | PPL: 29.24\n",
            "   Novo melhor modelo! Val Loss: 3.5690 | Perplexity: 29.24\n"
          ]
        },
        {
          "output_type": "stream",
          "name": "stderr",
          "text": [
            "Treinando:  90%|█████████ | 18000/20000 [59:11<05:18,  6.28it/s]"
          ]
        },
        {
          "output_type": "stream",
          "name": "stdout",
          "text": [
            "\n",
            "Iter 18000 | Train: 3.2293 | Val: 3.5621 | PPL: 29.59\n",
            "   Novo melhor modelo! Val Loss: 3.5621 | Perplexity: 29.59\n",
            "   Checkpoint salvo em iter 18000\n"
          ]
        },
        {
          "output_type": "stream",
          "name": "stderr",
          "text": [
            "Treinando:  92%|█████████▎| 18500/20000 [1:00:50<03:59,  6.26it/s]"
          ]
        },
        {
          "output_type": "stream",
          "name": "stdout",
          "text": [
            "\n",
            "Iter 18500 | Train: 3.2061 | Val: 3.5562 | PPL: 29.03\n",
            "   Novo melhor modelo! Val Loss: 3.5562 | Perplexity: 29.03\n"
          ]
        },
        {
          "output_type": "stream",
          "name": "stderr",
          "text": [
            "Treinando:  95%|█████████▌| 19000/20000 [1:02:28<02:39,  6.26it/s]"
          ]
        },
        {
          "output_type": "stream",
          "name": "stdout",
          "text": [
            "\n",
            "Iter 19000 | Train: 3.2081 | Val: 3.5422 | PPL: 28.26\n",
            "   Novo melhor modelo! Val Loss: 3.5422 | Perplexity: 28.26\n",
            "   Checkpoint salvo em iter 19000\n"
          ]
        },
        {
          "output_type": "stream",
          "name": "stderr",
          "text": [
            "Treinando:  98%|█████████▊| 19501/20000 [1:04:25<45:16,  5.44s/it]"
          ]
        },
        {
          "output_type": "stream",
          "name": "stdout",
          "text": [
            "\n",
            "Iter 19500 | Train: 3.2100 | Val: 3.5471 | PPL: 28.13\n"
          ]
        },
        {
          "output_type": "stream",
          "name": "stderr",
          "text": [
            "Treinando: 100%|█████████▉| 19999/20000 [1:05:45<00:00,  6.27it/s]"
          ]
        },
        {
          "output_type": "stream",
          "name": "stdout",
          "text": [
            "\n",
            "Iter 19999 | Train: 3.2021 | Val: 3.5342 | PPL: 28.00\n",
            "   Novo melhor modelo! Val Loss: 3.5342 | Perplexity: 28.00\n"
          ]
        },
        {
          "output_type": "stream",
          "name": "stderr",
          "text": [
            "Treinando: 100%|██████████| 20000/20000 [1:06:03<00:00,  5.05it/s]\n"
          ]
        }
      ]
    },
    {
      "cell_type": "code",
      "source": [
        "steps = np.arange(len(train_losses)) * eval_interval\n",
        "\n",
        "fig, axes = plt.subplots(1, 2, figsize=(16, 6))\n",
        "\n",
        "# Losses\n",
        "axes[0].plot(steps, train_losses, 'b-', label='Train Loss', marker='o', markersize=4)\n",
        "axes[0].plot(steps, val_losses, 'r-', label='Val Loss', marker='s', markersize=4)\n",
        "\n",
        "# Labels e título (Losses)\n",
        "axes[0].set_xlabel('Iterações')\n",
        "axes[0].set_ylabel('Loss')\n",
        "axes[0].set_title('Curvas de Loss')\n",
        "axes[0].legend()\n",
        "axes[0].grid(True, alpha=0.3)\n",
        "\n",
        "# Perplexity\n",
        "axes[1].plot(steps, val_ppls, 'g-', label='Val PPL', marker='^', markersize=4, alpha=0.7)\n",
        "\n",
        "# Labels e título (Perplexity)\n",
        "axes[1].set_xlabel('Iterações')\n",
        "axes[1].set_ylabel('Perplexity')\n",
        "axes[1].set_title('Curva de Perplexity')\n",
        "axes[1].legend()\n",
        "axes[1].grid(True, alpha=0.3)\n",
        "\n",
        "plt.tight_layout()\n",
        "plt.show()\n"
      ],
      "metadata": {
        "id": "Y01RS_Gt7x2L",
        "colab": {
          "base_uri": "https://localhost:8080/",
          "height": 494
        },
        "outputId": "7c1ef6c2-133b-4d87-96e1-e06b275e2d0f"
      },
      "execution_count": null,
      "outputs": [
        {
          "output_type": "display_data",
          "data": {
            "text/plain": [
              "<Figure size 1600x600 with 2 Axes>"
            ],
            "image/png": "[encoded data removed]"
          },
          "metadata": {}
        }
      ]
    },
    {
      "cell_type": "markdown",
      "source": [
        "Depois, validamos a geração utilizando **prompts curtos em diferentes temperaturas estilos** para compara-los.\n",
        "\n",
        "**Temperature — Controle de Aleatoriedade**\n",
        "| Faixa   | Efeito principal                                   | Uso recomendado       |\n",
        "|---------|----------------------------------------------------|-----------------------|\n",
        "| 0.0–0.3 | Quase determinístico, previsível                   | Tarefas de precisão   |\n",
        "| 0.5–0.7 | Consistente, com variação leve                     | Respostas seguras     |\n",
        "| 0.8–1.0 | Equilíbrio entre criatividade e coerência          | Padrão recomendado    |\n",
        "| 1.0–1.2 | Mais criatividade e surpresa, risco de incoerência | Texto criativo        |\n",
        "| >1.5    | Saída caótica, pouco útil                          | Evitar                |\n",
        "\n",
        "\n",
        "**Repetition Penalty — Controle de Repetição**\n",
        "| Valor   | Efeito principal                          | Uso recomendado       |\n",
        "|---------|-------------------------------------------|-----------------------|\n",
        "| 1.0     | Sem penalização, repetições naturais      | Base                  |\n",
        "| 1.1–1.3 | Reduz repetição moderadamente             | Recomendado           |\n",
        "| 1.4–1.6 | Penalização forte, pode quebrar fluidez   | Casos específicos     |\n",
        "| >1.8    | Compromete coerência semântica            | Evitar                |"
      ],
      "metadata": {
        "id": "3F7MBBB4-nHx"
      }
    },
    {
      "cell_type": "code",
      "source": [
        "# Teste de geração com diferentes prompts e temperaturas\n",
        "test_prompts = [\n",
        "    \"Astronomia é\",\n",
        "    \"O gato subiu no telhado\",\n",
        "    \"Ciencia de Dados\",\n",
        "    \"Em 2001\",\n",
        "    \"O Brasil\"\n",
        "]\n",
        "\n",
        "# Defina as temperaturas que deseja testar em cada prompt\n",
        "temperatures = [0.8, 1.0, 1.2]\n",
        "\n",
        "for prompt in test_prompts:\n",
        "    print(f\"\\nPrompt: '{prompt}'\")\n",
        "    print(\"-\" * 60)\n",
        "\n",
        "    # Codificar prompt\n",
        "    start_ids = tokenizer.encode(prompt, )\n",
        "    x = torch.tensor([start_ids], dtype=torch.long).to(device)\n",
        "\n",
        "    # Gerar para cada temperatura\n",
        "    for temp in temperatures:\n",
        "        print(f\"\\nTemperatura: {temp}\")\n",
        "\n",
        "        with torch.no_grad():\n",
        "            generated_ids = model.generate(\n",
        "                x,\n",
        "                max_new_tokens=20,\n",
        "                temperature=max(0.1, min(2.0, float(temp))),  # clamp defensivo\n",
        "                top_k=50,\n",
        "                top_p=0.9,\n",
        "                repetition_penalty=1.1,\n",
        "                eos_id=tokenizer.eos_id,\n",
        "                pad_id=tokenizer.pad_id\n",
        "            )\n",
        "        # Decodificar\n",
        "        print(tokenizer.decode(generated_ids[0].tolist()))"
      ],
      "metadata": {
        "id": "yh83qPSa7vGo",
        "colab": {
          "base_uri": "https://localhost:8080/"
        },
        "outputId": "5957f14b-4dd2-44e0-a7aa-bf27e6d35387"
      },
      "execution_count": null,
      "outputs": [
        {
          "output_type": "stream",
          "name": "stdout",
          "text": [
            "\n",
            "Prompt: 'Astronomia é'\n",
            "------------------------------------------------------------\n",
            "\n",
            "Temperatura: 0.8\n",
            "Astronomia é um termo usado para designar o gênero botânico de orquídeas, cujos membros são frequentemente confundidos com\n",
            "\n",
            "Temperatura: 1.0\n",
            "Astronomia é composto por sete elementos, divididos em quatro níveis : O nome \" Baiko \" pode ser derivado de\n",
            "\n",
            "Temperatura: 1.2\n",
            "Astronomia é o primeiro projeto que teve como objetivo a criação de uma rede de rádios locais. Os projetos dos tele\n",
            "\n",
            "Prompt: 'O gato subiu no telhado'\n",
            "------------------------------------------------------------\n",
            "\n",
            "Temperatura: 0.8\n",
            "O gato subiu no telhado da casa e, após sua morte, o grupo foi rebatizado como \" The Troopers of\n",
            "\n",
            "Temperatura: 1.0\n",
            "O gato subiu no telhado e as paredes não voltaram, sendo então mais tarde substituídas pelos tapetes de couro.\n",
            "\n",
            "Temperatura: 1.2\n",
            "O gato subiu no telhado em 2 de Fevereiro. No mesmo dia, com apenas 30 anos, as duas alas da velha gara\n",
            "\n",
            "Prompt: 'Ciencia de Dados'\n",
            "------------------------------------------------------------\n",
            "\n",
            "Temperatura: 0.8\n",
            "Ciencia de Dados ( CT ).\n",
            "\n",
            "Temperatura: 1.0\n",
            "Ciencia de Dados em São Paulo, com a denominação de Villa dos Bandeirantes.\n",
            "\n",
            "Temperatura: 1.2\n",
            "Ciencia de Dados GRGS, situada no litoral oeste da região serrana do Vale da Madre. Descrição física\n",
            "\n",
            "Prompt: 'Em 2001'\n",
            "------------------------------------------------------------\n",
            "\n",
            "Temperatura: 0.8\n",
            "Em 2001, o clube terminou a Segunda Divisão do Campeonato Paranaense de Futebol. A equipe foi rebaixada para a\n",
            "\n",
            "Temperatura: 1.0\n",
            "Em 2001, foi eleito para o Tribunal de Contas da União no Distrito Federal. Em 2007 disputou as eleições municipais\n",
            "\n",
            "Temperatura: 1.2\n",
            "Em 2001, foi feita uma parceria com a Universidade Federal de Minas Gerais ( Unicamp ) que também produz\n",
            "\n",
            "Prompt: 'O Brasil'\n",
            "------------------------------------------------------------\n",
            "\n",
            "Temperatura: 0.8\n",
            "O Brasil lançou em 2003 a primeira versão do CD : \" Eu sou um que eu sou um que eu sou\n",
            "\n",
            "Temperatura: 1.0\n",
            "O Brasil. Em sua homenagem está o Museu de Arte Moderna João Simões. História. Até ao século XIX\n",
            "\n",
            "Temperatura: 1.2\n",
            "O Brasil.\n"
          ]
        }
      ]
    },
    {
      "cell_type": "markdown",
      "source": [
        "### **12. Visualização de Attention Patterns**"
      ],
      "metadata": {
        "id": "pRqgr-ab-6CM"
      }
    },
    {
      "cell_type": "markdown",
      "source": [
        "Visualizamos os mapas de atenção para compreender como o modelo distribui foco ao longo da sequência. Diagonais marcadas sugerem atenção local, em que cada token se relaciona principalmente com seus vizinhos, enquanto colunas verticais revelam “âncoras” semânticas capazes de atrair a atenção de grande parte da sequência. Esses padrões contribuem tanto para a interpretabilidade quanto para orientar decisões de ajuste fino."
      ],
      "metadata": {
        "id": "7wR6e1P41UPI"
      }
    },
    {
      "cell_type": "code",
      "source": [
        "# Visualizar padrões de atenção da última camada\n",
        "sample_text = \"O gato subiu no telhado ontem à noite sozinho porque estava assustado.\"\n",
        "encoded = tokenizer.encode(sample_text)\n",
        "sample_ids = tokenizer.encode(sample_text)[:20]\n",
        "x_sample = torch.tensor([sample_ids], dtype=torch.long).to(device)\n",
        "\n",
        "with torch.no_grad():\n",
        "    _, _, attn_weights_all = model(x_sample)\n",
        "\n",
        "last_layer_attn = attn_weights_all[-1][0].cpu()  # [n_heads, seq_len, seq_len]\n",
        "\n",
        "fig, axes = plt.subplots(2, 4, figsize=(16, 8))\n",
        "axes = axes.flatten()\n",
        "\n",
        "for head in range(min(8, last_layer_attn.shape[0])):\n",
        "    attn = last_layer_attn[head].numpy()\n",
        "    im = axes[head].imshow(attn, cmap='Blues', aspect='auto')\n",
        "    axes[head].set_title(f'Cabeça {head+1}')\n",
        "    plt.colorbar(im, ax=axes[head], fraction=0.046)\n",
        "\n",
        "plt.suptitle('Padrões de Atenção')\n",
        "plt.tight_layout()\n",
        "plt.show()"
      ],
      "metadata": {
        "id": "1Jd5Z6l4_D9V",
        "colab": {
          "base_uri": "https://localhost:8080/",
          "height": 655
        },
        "outputId": "85856b3f-0167-4834-dbb6-5b863401a59f"
      },
      "execution_count": null,
      "outputs": [
        {
          "output_type": "display_data",
          "data": {
            "text/plain": [
              "<Figure size 1600x800 with 16 Axes>"
            ],
            "image/png": "[encoded data removed]"
          },
          "metadata": {}
        }
      ]
    },
    {
      "cell_type": "markdown",
      "source": [
        "### **13. Avaliação e Métricas**"
      ],
      "metadata": {
        "id": "HMPwRxrQ-5_T"
      }
    },
    {
      "cell_type": "markdown",
      "source": [
        "Com o treino concluído, avaliamos a perplexidade nos conjuntos de treino e validação. Valores mais baixos indicam melhor desempenho, embora o valor absoluto dependa da tokenização e da natureza da tarefa. O aspecto essencial é acompanhar a tendência e comparar resultados entre execuções que utilizam a mesma configuração."
      ],
      "metadata": {
        "id": "ZEULZntT-uAW"
      }
    },
    {
      "cell_type": "code",
      "source": [
        "# Calcular perplexidade final\n",
        "train_ppl = calculate_perplexity(model, 'train')\n",
        "val_ppl = calculate_perplexity(model, 'val')\n",
        "print(f\"Perplexidade Treino: {train_ppl:.2f}\")\n",
        "print(f\"Perplexidade Validação: {val_ppl:.2f}\")"
      ],
      "metadata": {
        "id": "-lGGbxTH-9gA",
        "colab": {
          "base_uri": "https://localhost:8080/"
        },
        "outputId": "85c4e08f-ef3e-4f34-e891-3c6ffafec18e"
      },
      "execution_count": null,
      "outputs": [
        {
          "output_type": "stream",
          "name": "stdout",
          "text": [
            "Perplexidade Treino: 23.42\n",
            "Perplexidade Validação: 34.08\n"
          ]
        }
      ]
    },
    {
      "cell_type": "markdown",
      "source": [
        "Em seguida, salvamos os artefatos: o modelo completo em formato `.pt`, os pesos em arquivos `*_weights.pt` e a configuração em JSON. Incluir um timestamp ou hash na versão facilita a organização das execuções. Na configuração também registramos informações como o nome do tokenizer, o tamanho do vocabulário (`vocab_size`) e as métricas obtidas."
      ],
      "metadata": {
        "id": "sSY8fFyi-wP_"
      }
    },
    {
      "cell_type": "code",
      "source": [
        "# Salvar checkpoint final completo\n",
        "final_checkpoint = {\n",
        "    'model_state_dict': model.state_dict(),\n",
        "    'config': config.__dict__,\n",
        "    'tokenizer': \"neuralmind/bert-large-portuguese-cased\",\n",
        "    'vocab_size': vocab_size,\n",
        "    'training_history': {\n",
        "        'train_losses': train_losses,\n",
        "        'val_losses': val_losses,\n",
        "        'best_val_loss': best_val_loss,\n",
        "        'final_train_ppl': train_ppl,\n",
        "        'final_val_ppl': val_ppl,\n",
        "        'total_iterations': max_iters\n",
        "    },\n",
        "    'hyperparameters': {\n",
        "        'batch_size': batch_size,\n",
        "        'block_size': block_size,\n",
        "        'learning_rate': learning_rate,\n",
        "        'max_iters': max_iters\n",
        "    }\n",
        "}\n",
        "torch.save(final_checkpoint, '/content/drive/MyDrive/modelo_transforms/transformer_final.pt')\n",
        "\n",
        "# Salvar apenas pesos\n",
        "torch.save(model.state_dict(), '/content/drive/MyDrive/modelo_transforms/transformer_final_weights.pt')"
      ],
      "metadata": {
        "id": "zaBEk_yK-_cO"
      },
      "execution_count": null,
      "outputs": []
    },
    {
      "cell_type": "code",
      "source": [
        "# Salvar configuração em JSON\n",
        "with open('/content/drive/MyDrive/modelo_transforms/transformer_final_config.json', 'w') as f:\n",
        "    json.dump({\n",
        "        'config': config.__dict__,\n",
        "        'tokenizer': \"neuralmind/bert-large-portuguese-cased\",\n",
        "        'metrics': {\n",
        "            'train_ppl': train_ppl,\n",
        "            'val_ppl': val_ppl,\n",
        "            'best_val_loss': best_val_loss\n",
        "        }\n",
        "    }, f, indent=2, default=str)"
      ],
      "metadata": {
        "id": "Xe_bcwjLG5Xp"
      },
      "execution_count": null,
      "outputs": []
    },
    {
      "cell_type": "markdown",
      "source": [
        "### **14. Carregamento e Execução do modelo treinado**"
      ],
      "metadata": {
        "id": "ymGXZlLroJYs"
      }
    },
    {
      "cell_type": "markdown",
      "source": [
        "Para reutilização, basta carregar o modelo, recriar a configuração e o tokenizer e preparar o ambiente. A interface interativa permite experimentar diferentes prompts e ajustar parâmetros como `max_new_tokens` e `temperature`."
      ],
      "metadata": {
        "id": "eyK4RFdQ-yoZ"
      }
    },
    {
      "cell_type": "code",
      "source": [
        "def carregar_modelo(model_path = \"/content/transformer_final.pt\"):\n",
        "    checkpoint = torch.load(model_path)\n",
        "\n",
        "    config_dict = checkpoint['config']\n",
        "    config = AutoregressiveConfig(**config_dict)\n",
        "\n",
        "    model = AutoregressiveTransformer(config)\n",
        "    model.load_state_dict(checkpoint['model_state_dict'])\n",
        "    model.to(device)\n",
        "\n",
        "    tokenizer = BertTokenizerWrapper()\n",
        "\n",
        "    return model, tokenizer"
      ],
      "metadata": {
        "id": "WujeF0I1oOyJ"
      },
      "execution_count": null,
      "outputs": []
    },
    {
      "cell_type": "code",
      "source": [
        "def interface_interativa(model_path = '/content/transformer_final.pt'):\n",
        "    \"\"\"Interface de linha de comando para testar o modelo.\"\"\"\n",
        "    print(\"-\"*60)\n",
        "    print(\"CARREGANDO MODELO TRANSFORMER\")\n",
        "\n",
        "    try:\n",
        "        model, tokenizer = carregar_modelo(model_path)\n",
        "    except FileNotFoundError:\n",
        "        print(\"Erro: Arquivo 'transformer_final.pt' não encontrado!\")\n",
        "        print(\"Por favor, treine o modelo primeiro.\")\n",
        "        return\n",
        "\n",
        "    print(\"\\nDigite 'sair' para encerrar\")\n",
        "    print(\"-\"*60)\n",
        "\n",
        "    while True:\n",
        "        print(\"\\n\")\n",
        "        prompt = input(\"Prompt: \").strip()\n",
        "\n",
        "        if prompt.lower() == 'sair':\n",
        "            print(\"\\nEncerrando...\")\n",
        "            break\n",
        "\n",
        "        if not prompt:\n",
        "            print(\"Por favor, digite algum texto!\")\n",
        "            continue\n",
        "\n",
        "        try:\n",
        "            max_tokens_input = input(\"Máximo de tokens (padrão 100): \").strip()\n",
        "            max_tokens = int(max_tokens_input) if max_tokens_input else 100\n",
        "\n",
        "            temp_input = input(\"Temperatura 0.1-2.0 (padrão 0.8): \").strip()\n",
        "            temperatura = float(temp_input) if temp_input else 0.8\n",
        "        except ValueError:\n",
        "            print(\"Valor inválido, usando padrões\")\n",
        "            max_tokens = 100\n",
        "            temperatura = 0.8\n",
        "\n",
        "        print(f\"\\nGerando com temperatura {temperatura}...\")\n",
        "\n",
        "        try:\n",
        "            input_ids = tokenizer.encode(prompt)\n",
        "            x = torch.tensor([input_ids], dtype=torch.long).to(device)\n",
        "\n",
        "            with torch.no_grad():\n",
        "                generated_ids = model.generate(\n",
        "                    x,\n",
        "                    max_new_tokens=int(max_tokens),\n",
        "                    temperature=max(0.1, min(2.0, float(temperatura))),\n",
        "                    top_k=50,\n",
        "                    top_p=0.9,\n",
        "                    repetition_penalty=1.1,\n",
        "                    eos_id=tokenizer.eos_id,\n",
        "                    pad_id=tokenizer.pad_id\n",
        "                )\n",
        "\n",
        "            texto_gerado = tokenizer.decode(generated_ids[0].tolist())\n",
        "            print(\"\\nTEXTO GERADO:\")\n",
        "            print(texto_gerado)\n",
        "\n",
        "        except Exception as e:\n",
        "            print(f\"Erro na geração: {e}\")"
      ],
      "metadata": {
        "id": "xqmYXNXYoR8A"
      },
      "execution_count": null,
      "outputs": []
    },
    {
      "cell_type": "code",
      "source": [
        "interface_interativa(\n",
        "\n",
        ")"
      ],
      "metadata": {
        "colab": {
          "base_uri": "https://localhost:8080/",
          "height": 812
        },
        "id": "9lQQjH8WOye7",
        "outputId": "e41d5793-d261-4f05-883e-4c71fca25472"
      },
      "execution_count": null,
      "outputs": [
        {
          "output_type": "stream",
          "name": "stdout",
          "text": [
            "------------------------------------------------------------\n",
            "CARREGANDO MODELO TRANSFORMER\n",
            "\n",
            "Digite 'sair' para encerrar\n",
            "------------------------------------------------------------\n",
            "\n",
            "\n",
            "Prompt: O Brasil é o país que \n",
            "Máximo de tokens (padrão 100): 50\n",
            "Temperatura 0.1-2.0 (padrão 0.8): 0.9\n",
            "\n",
            "Gerando com temperatura 0.9...\n",
            "\n",
            "TEXTO GERADO:\n",
            "O Brasil é o país que se reúne principalmente em diversos estados brasileiros, como Minas Gerais, Pernambuco e Paraná. A Região Norte é responsável por uma rede de centros urbanos de grande importância ecológica. História. O Rio Grande do Sul foi criado no dia 9 de novembro de 188\n",
            "\n",
            "\n",
            "Prompt: O dia 5 de Fevereiro de 1842\n",
            "Máximo de tokens (padrão 100): \n",
            "Temperatura 0.1-2.0 (padrão 0.8): \n",
            "\n",
            "Gerando com temperatura 0.8...\n",
            "\n",
            "TEXTO GERADO:\n",
            "O dia 5 de Fevereiro de 1842, foi a única missa realizada no Brasil. A festa de Nossa Senhora da Conceição é comemorada na cidade do Rio de Janeiro e na região sul, entre os dias 11 de Maio e 14 de Agosto. A primeira missa feita na cidade foi realizada em 2 de Dezembro. No dia 13 de Setembro foi feito o primeiro domingo da cidade, na Igreja Matriz, a partir do altar - mor do padroeiro. Em 6 de setembro era realizado o festejo com missas ( 1, 7 ).\n",
            "\n",
            "\n"
          ]
        },
        {
          "output_type": "error",
          "ename": "KeyboardInterrupt",
          "evalue": "Interrupted by user",
          "traceback": [
            "\u001b[0;31m---------------------------------------------------------------------------\u001b[0m",
            "\u001b[0;31mKeyboardInterrupt\u001b[0m                         Traceback (most recent call last)",
            "\u001b[0;32m/tmp/ipython-input-2231301735.py\u001b[0m in \u001b[0;36m<cell line: 0>\u001b[0;34m()\u001b[0m\n\u001b[0;32m----> 1\u001b[0;31m \u001b[0minterface_interativa\u001b[0m\u001b[0;34m(\u001b[0m\u001b[0;34m)\u001b[0m\u001b[0;34m\u001b[0m\u001b[0;34m\u001b[0m\u001b[0m\n\u001b[0m",
            "\u001b[0;32m/tmp/ipython-input-2158369265.py\u001b[0m in \u001b[0;36minterface_interativa\u001b[0;34m(model_path)\u001b[0m\n\u001b[1;32m     16\u001b[0m     \u001b[0;32mwhile\u001b[0m \u001b[0;32mTrue\u001b[0m\u001b[0;34m:\u001b[0m\u001b[0;34m\u001b[0m\u001b[0;34m\u001b[0m\u001b[0m\n\u001b[1;32m     17\u001b[0m         \u001b[0mprint\u001b[0m\u001b[0;34m(\u001b[0m\u001b[0;34m\"\\n\"\u001b[0m\u001b[0;34m)\u001b[0m\u001b[0;34m\u001b[0m\u001b[0;34m\u001b[0m\u001b[0m\n\u001b[0;32m---> 18\u001b[0;31m         \u001b[0mprompt\u001b[0m \u001b[0;34m=\u001b[0m \u001b[0minput\u001b[0m\u001b[0;34m(\u001b[0m\u001b[0;34m\"Prompt: \"\u001b[0m\u001b[0;34m)\u001b[0m\u001b[0;34m.\u001b[0m\u001b[0mstrip\u001b[0m\u001b[0;34m(\u001b[0m\u001b[0;34m)\u001b[0m\u001b[0;34m\u001b[0m\u001b[0;34m\u001b[0m\u001b[0m\n\u001b[0m\u001b[1;32m     19\u001b[0m \u001b[0;34m\u001b[0m\u001b[0m\n\u001b[1;32m     20\u001b[0m         \u001b[0;32mif\u001b[0m \u001b[0mprompt\u001b[0m\u001b[0;34m.\u001b[0m\u001b[0mlower\u001b[0m\u001b[0;34m(\u001b[0m\u001b[0;34m)\u001b[0m \u001b[0;34m==\u001b[0m \u001b[0;34m'sair'\u001b[0m\u001b[0;34m:\u001b[0m\u001b[0;34m\u001b[0m\u001b[0;34m\u001b[0m\u001b[0m\n",
            "\u001b[0;32m/usr/local/lib/python3.12/dist-packages/ipykernel/kernelbase.py\u001b[0m in \u001b[0;36mraw_input\u001b[0;34m(self, prompt)\u001b[0m\n\u001b[1;32m   1175\u001b[0m                 \u001b[0;34m\"raw_input was called, but this frontend does not support input requests.\"\u001b[0m\u001b[0;34m\u001b[0m\u001b[0;34m\u001b[0m\u001b[0m\n\u001b[1;32m   1176\u001b[0m             )\n\u001b[0;32m-> 1177\u001b[0;31m         return self._input_request(\n\u001b[0m\u001b[1;32m   1178\u001b[0m             \u001b[0mstr\u001b[0m\u001b[0;34m(\u001b[0m\u001b[0mprompt\u001b[0m\u001b[0;34m)\u001b[0m\u001b[0;34m,\u001b[0m\u001b[0;34m\u001b[0m\u001b[0;34m\u001b[0m\u001b[0m\n\u001b[1;32m   1179\u001b[0m             \u001b[0mself\u001b[0m\u001b[0;34m.\u001b[0m\u001b[0m_parent_ident\u001b[0m\u001b[0;34m[\u001b[0m\u001b[0;34m\"shell\"\u001b[0m\u001b[0;34m]\u001b[0m\u001b[0;34m,\u001b[0m\u001b[0;34m\u001b[0m\u001b[0;34m\u001b[0m\u001b[0m\n",
            "\u001b[0;32m/usr/local/lib/python3.12/dist-packages/ipykernel/kernelbase.py\u001b[0m in \u001b[0;36m_input_request\u001b[0;34m(self, prompt, ident, parent, password)\u001b[0m\n\u001b[1;32m   1217\u001b[0m             \u001b[0;32mexcept\u001b[0m \u001b[0mKeyboardInterrupt\u001b[0m\u001b[0;34m:\u001b[0m\u001b[0;34m\u001b[0m\u001b[0;34m\u001b[0m\u001b[0m\n\u001b[1;32m   1218\u001b[0m                 \u001b[0;31m# re-raise KeyboardInterrupt, to truncate traceback\u001b[0m\u001b[0;34m\u001b[0m\u001b[0;34m\u001b[0m\u001b[0m\n\u001b[0;32m-> 1219\u001b[0;31m                 \u001b[0;32mraise\u001b[0m \u001b[0mKeyboardInterrupt\u001b[0m\u001b[0;34m(\u001b[0m\u001b[0;34m\"Interrupted by user\"\u001b[0m\u001b[0;34m)\u001b[0m \u001b[0;32mfrom\u001b[0m \u001b[0;32mNone\u001b[0m\u001b[0;34m\u001b[0m\u001b[0;34m\u001b[0m\u001b[0m\n\u001b[0m\u001b[1;32m   1220\u001b[0m             \u001b[0;32mexcept\u001b[0m \u001b[0mException\u001b[0m\u001b[0;34m:\u001b[0m\u001b[0;34m\u001b[0m\u001b[0;34m\u001b[0m\u001b[0m\n\u001b[1;32m   1221\u001b[0m                 \u001b[0mself\u001b[0m\u001b[0;34m.\u001b[0m\u001b[0mlog\u001b[0m\u001b[0;34m.\u001b[0m\u001b[0mwarning\u001b[0m\u001b[0;34m(\u001b[0m\u001b[0;34m\"Invalid Message:\"\u001b[0m\u001b[0;34m,\u001b[0m \u001b[0mexc_info\u001b[0m\u001b[0;34m=\u001b[0m\u001b[0;32mTrue\u001b[0m\u001b[0;34m)\u001b[0m\u001b[0;34m\u001b[0m\u001b[0;34m\u001b[0m\u001b[0m\n",
            "\u001b[0;31mKeyboardInterrupt\u001b[0m: Interrupted by user"
          ]
        }
      ]
    }
  ]
}